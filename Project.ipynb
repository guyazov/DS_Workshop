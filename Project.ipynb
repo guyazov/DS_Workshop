{
 "cells": [
  {
   "cell_type": "markdown",
   "metadata": {},
   "source": [
    "# Data Science Workshop\n",
    "# NBA Free Throws Prediction"
   ]
  },
  {
   "cell_type": "markdown",
   "metadata": {},
   "source": [
    "![title](img/free_throw_img.jpg)"
   ]
  },
  {
   "cell_type": "markdown",
   "metadata": {},
   "source": [
    "In January 2015 a data-set of 600K NBA free-throws was upload to Kaggle by Sebastian-Mantey. The data was scraped from the website ESPN.com which belongs to an entertainment and sports programming network. \n",
    "\n",
    "Since the data-set was uploaded, 25 kernels were uploaded to Kaggle related to it. Most of the kernels summarize, analyze and visualize the data and do not try to predict anything. However, there are two interesting kernels:\n",
    "\n",
    "The kernel ‘Shooting percentage over time’, engages with the questions How does the Free Throw shooting percent develop over time? Does it go down as the game approaches the ending due to higher pressure? Does it go up thanks to players being warmer, or alternatively - better shooters take the ball?\n",
    "\n",
    "The findings of the analysis are that in the end of every quarter of a game, there is an increase in the number of free-throws and in the free-throws percentage. They also found that most of the throws in the end of every quarter were performed by better players, but still the absolute time of the throw affected the outcome more than how performed it. \n",
    "\n",
    "Another interesting kernel is ‘Pooling Partial Hierarchica via champs throw Free’, in which they try to find the best players in the data-set with statistical and probability methods such as complete pooling, and find the probability p for every player to succeed in the free-throw. \n",
    "\n",
    "Outside Kaggle, we found the article ‘Mindfulness and Free Throws’. This article investigate the relationship between mindfulness, preshot routine, and basketball free-throw percentage. The findings suggest that the combination of mindfulness levels, skill level (practice free-throw percentage), and competitive experience (year in school), all contribute to the prediction of competitive free throw percentage.\n"
   ]
  },
  {
   "cell_type": "markdown",
   "metadata": {},
   "source": [
    "## Data preparation and cleaning\n"
   ]
  },
  {
   "cell_type": "markdown",
   "metadata": {},
   "source": [
    "## Import Python Libraries"
   ]
  },
  {
   "cell_type": "code",
   "execution_count": 1,
   "metadata": {},
   "outputs": [],
   "source": [
    "import numpy as np\n",
    "import matplotlib.pyplot as plt\n",
    "import pandas as pd\n",
    "import seaborn as sns\n",
    "\n",
    "%matplotlib inline"
   ]
  },
  {
   "cell_type": "markdown",
   "metadata": {},
   "source": [
    "\n",
    "## Reading the Original Dataset\n"
   ]
  },
  {
   "cell_type": "code",
   "execution_count": 2,
   "metadata": {},
   "outputs": [
    {
     "data": {
      "text/html": [
       "<div>\n",
       "<style scoped>\n",
       "    .dataframe tbody tr th:only-of-type {\n",
       "        vertical-align: middle;\n",
       "    }\n",
       "\n",
       "    .dataframe tbody tr th {\n",
       "        vertical-align: top;\n",
       "    }\n",
       "\n",
       "    .dataframe thead th {\n",
       "        text-align: right;\n",
       "    }\n",
       "</style>\n",
       "<table border=\"1\" class=\"dataframe\">\n",
       "  <thead>\n",
       "    <tr style=\"text-align: right;\">\n",
       "      <th></th>\n",
       "      <th>end_result</th>\n",
       "      <th>game</th>\n",
       "      <th>game_id</th>\n",
       "      <th>period</th>\n",
       "      <th>play</th>\n",
       "      <th>player</th>\n",
       "      <th>playoffs</th>\n",
       "      <th>score</th>\n",
       "      <th>season</th>\n",
       "      <th>shot_made</th>\n",
       "      <th>time</th>\n",
       "    </tr>\n",
       "  </thead>\n",
       "  <tbody>\n",
       "    <tr>\n",
       "      <th>0</th>\n",
       "      <td>106 - 114</td>\n",
       "      <td>PHX - LAL</td>\n",
       "      <td>261031013</td>\n",
       "      <td>1</td>\n",
       "      <td>Andrew Bynum makes free throw 1 of 2</td>\n",
       "      <td>Andrew Bynum</td>\n",
       "      <td>regular</td>\n",
       "      <td>0 - 1</td>\n",
       "      <td>2006 - 2007</td>\n",
       "      <td>1</td>\n",
       "      <td>11:45</td>\n",
       "    </tr>\n",
       "    <tr>\n",
       "      <th>1</th>\n",
       "      <td>106 - 114</td>\n",
       "      <td>PHX - LAL</td>\n",
       "      <td>261031013</td>\n",
       "      <td>1</td>\n",
       "      <td>Andrew Bynum makes free throw 2 of 2</td>\n",
       "      <td>Andrew Bynum</td>\n",
       "      <td>regular</td>\n",
       "      <td>0 - 2</td>\n",
       "      <td>2006 - 2007</td>\n",
       "      <td>1</td>\n",
       "      <td>11:45</td>\n",
       "    </tr>\n",
       "    <tr>\n",
       "      <th>2</th>\n",
       "      <td>106 - 114</td>\n",
       "      <td>PHX - LAL</td>\n",
       "      <td>261031013</td>\n",
       "      <td>1</td>\n",
       "      <td>Andrew Bynum makes free throw 1 of 2</td>\n",
       "      <td>Andrew Bynum</td>\n",
       "      <td>regular</td>\n",
       "      <td>18-Dec</td>\n",
       "      <td>2006 - 2007</td>\n",
       "      <td>1</td>\n",
       "      <td>7:26</td>\n",
       "    </tr>\n",
       "    <tr>\n",
       "      <th>3</th>\n",
       "      <td>106 - 114</td>\n",
       "      <td>PHX - LAL</td>\n",
       "      <td>261031013</td>\n",
       "      <td>1</td>\n",
       "      <td>Andrew Bynum misses free throw 2 of 2</td>\n",
       "      <td>Andrew Bynum</td>\n",
       "      <td>regular</td>\n",
       "      <td>18-Dec</td>\n",
       "      <td>2006 - 2007</td>\n",
       "      <td>0</td>\n",
       "      <td>7:26</td>\n",
       "    </tr>\n",
       "    <tr>\n",
       "      <th>4</th>\n",
       "      <td>106 - 114</td>\n",
       "      <td>PHX - LAL</td>\n",
       "      <td>261031013</td>\n",
       "      <td>1</td>\n",
       "      <td>Shawn Marion makes free throw 1 of 1</td>\n",
       "      <td>Shawn Marion</td>\n",
       "      <td>regular</td>\n",
       "      <td>21-Dec</td>\n",
       "      <td>2006 - 2007</td>\n",
       "      <td>1</td>\n",
       "      <td>7:18</td>\n",
       "    </tr>\n",
       "    <tr>\n",
       "      <th>5</th>\n",
       "      <td>106 - 114</td>\n",
       "      <td>PHX - LAL</td>\n",
       "      <td>261031013</td>\n",
       "      <td>1</td>\n",
       "      <td>Amare Stoudemire makes free throw 1 of 2</td>\n",
       "      <td>Amare Stoudemire</td>\n",
       "      <td>regular</td>\n",
       "      <td>33 - 20</td>\n",
       "      <td>2006 - 2007</td>\n",
       "      <td>1</td>\n",
       "      <td>3:15</td>\n",
       "    </tr>\n",
       "    <tr>\n",
       "      <th>6</th>\n",
       "      <td>106 - 114</td>\n",
       "      <td>PHX - LAL</td>\n",
       "      <td>261031013</td>\n",
       "      <td>1</td>\n",
       "      <td>Amare Stoudemire makes free throw 2 of 2</td>\n",
       "      <td>Amare Stoudemire</td>\n",
       "      <td>regular</td>\n",
       "      <td>34 - 20</td>\n",
       "      <td>2006 - 2007</td>\n",
       "      <td>1</td>\n",
       "      <td>3:15</td>\n",
       "    </tr>\n",
       "    <tr>\n",
       "      <th>7</th>\n",
       "      <td>106 - 114</td>\n",
       "      <td>PHX - LAL</td>\n",
       "      <td>261031013</td>\n",
       "      <td>2</td>\n",
       "      <td>Leandro Barbosa misses free throw 1 of 2</td>\n",
       "      <td>Leandro Barbosa</td>\n",
       "      <td>regular</td>\n",
       "      <td>43 - 29</td>\n",
       "      <td>2006 - 2007</td>\n",
       "      <td>0</td>\n",
       "      <td>10:52</td>\n",
       "    </tr>\n",
       "    <tr>\n",
       "      <th>8</th>\n",
       "      <td>106 - 114</td>\n",
       "      <td>PHX - LAL</td>\n",
       "      <td>261031013</td>\n",
       "      <td>2</td>\n",
       "      <td>Leandro Barbosa makes free throw 2 of 2</td>\n",
       "      <td>Leandro Barbosa</td>\n",
       "      <td>regular</td>\n",
       "      <td>44 - 29</td>\n",
       "      <td>2006 - 2007</td>\n",
       "      <td>1</td>\n",
       "      <td>10:52</td>\n",
       "    </tr>\n",
       "    <tr>\n",
       "      <th>9</th>\n",
       "      <td>106 - 114</td>\n",
       "      <td>PHX - LAL</td>\n",
       "      <td>261031013</td>\n",
       "      <td>2</td>\n",
       "      <td>Lamar Odom makes free throw 1 of 2</td>\n",
       "      <td>Lamar Odom</td>\n",
       "      <td>regular</td>\n",
       "      <td>44 - 30</td>\n",
       "      <td>2006 - 2007</td>\n",
       "      <td>1</td>\n",
       "      <td>10:37</td>\n",
       "    </tr>\n",
       "  </tbody>\n",
       "</table>\n",
       "</div>"
      ],
      "text/plain": [
       "  end_result       game    game_id  period  \\\n",
       "0  106 - 114  PHX - LAL  261031013       1   \n",
       "1  106 - 114  PHX - LAL  261031013       1   \n",
       "2  106 - 114  PHX - LAL  261031013       1   \n",
       "3  106 - 114  PHX - LAL  261031013       1   \n",
       "4  106 - 114  PHX - LAL  261031013       1   \n",
       "5  106 - 114  PHX - LAL  261031013       1   \n",
       "6  106 - 114  PHX - LAL  261031013       1   \n",
       "7  106 - 114  PHX - LAL  261031013       2   \n",
       "8  106 - 114  PHX - LAL  261031013       2   \n",
       "9  106 - 114  PHX - LAL  261031013       2   \n",
       "\n",
       "                                       play            player playoffs  \\\n",
       "0      Andrew Bynum makes free throw 1 of 2      Andrew Bynum  regular   \n",
       "1      Andrew Bynum makes free throw 2 of 2      Andrew Bynum  regular   \n",
       "2      Andrew Bynum makes free throw 1 of 2      Andrew Bynum  regular   \n",
       "3     Andrew Bynum misses free throw 2 of 2      Andrew Bynum  regular   \n",
       "4      Shawn Marion makes free throw 1 of 1      Shawn Marion  regular   \n",
       "5  Amare Stoudemire makes free throw 1 of 2  Amare Stoudemire  regular   \n",
       "6  Amare Stoudemire makes free throw 2 of 2  Amare Stoudemire  regular   \n",
       "7  Leandro Barbosa misses free throw 1 of 2   Leandro Barbosa  regular   \n",
       "8   Leandro Barbosa makes free throw 2 of 2   Leandro Barbosa  regular   \n",
       "9        Lamar Odom makes free throw 1 of 2        Lamar Odom  regular   \n",
       "\n",
       "     score       season  shot_made   time  \n",
       "0    0 - 1  2006 - 2007          1  11:45  \n",
       "1    0 - 2  2006 - 2007          1  11:45  \n",
       "2   18-Dec  2006 - 2007          1   7:26  \n",
       "3   18-Dec  2006 - 2007          0   7:26  \n",
       "4   21-Dec  2006 - 2007          1   7:18  \n",
       "5  33 - 20  2006 - 2007          1   3:15  \n",
       "6  34 - 20  2006 - 2007          1   3:15  \n",
       "7  43 - 29  2006 - 2007          0  10:52  \n",
       "8  44 - 29  2006 - 2007          1  10:52  \n",
       "9  44 - 30  2006 - 2007          1  10:37  "
      ]
     },
     "execution_count": 2,
     "metadata": {},
     "output_type": "execute_result"
    }
   ],
   "source": [
    "free_throws_db = pd.read_csv('free_throws.csv')\n",
    "free_throws_db.drop_duplicates()\n",
    "free_throws_db.head(10)"
   ]
  },
  {
   "cell_type": "markdown",
   "metadata": {},
   "source": [
    "Describition of dataset:\n",
    "- end_result: host total score - guest total score\n",
    "- game: host team vs guest team\n",
    "- game_id: id of specific game\n",
    "- period: which quarter\n",
    "- play: who make free throw, make or miss free throw\n",
    "- player: player name\n",
    "- playoffs: whether a playoff game or regular game\n",
    "- score: host team score - guest team score at that time\n",
    "- season: NBA season\n",
    "- shot_made: whether player got the free throw\n",
    "- time: time left in that quarter"
   ]
  },
  {
   "cell_type": "code",
   "execution_count": 3,
   "metadata": {},
   "outputs": [
    {
     "name": "stdout",
     "output_type": "stream",
     "text": [
      "Number of free throws in database: 618019\n",
      "Number of games in database: 12874\n",
      "Games distribution:\n"
     ]
    },
    {
     "data": {
      "text/plain": [
       "regular     575893\n",
       "playoffs     42126\n",
       "Name: playoffs, dtype: int64"
      ]
     },
     "execution_count": 3,
     "metadata": {},
     "output_type": "execute_result"
    }
   ],
   "source": [
    "print(\"Number of free throws in database: %d\"%(free_throws_db.shape[0]))\n",
    "print(\"Number of games in database: {}\".format(free_throws_db.game_id.unique().size))\n",
    "print(\"Games distribution:\")\n",
    "free_throws_db['playoffs'].value_counts()"
   ]
  },
  {
   "cell_type": "markdown",
   "metadata": {},
   "source": [
    "## Collecting more data from internet\n",
    "\n",
    "In order to expand our dataset, we decided to use an open source python library PandasBasketball, and use a webscrapper in order to get more players stats from https://www.basketball-reference.com website"
   ]
  },
  {
   "cell_type": "markdown",
   "metadata": {},
   "source": [
    "Example of basketball-reference NBA player stats webpage:\n",
    "![title](img/lebron_page_1.jpg)\n",
    "![title](img/lebron_page_2.jpg)"
   ]
  },
  {
   "cell_type": "markdown",
   "metadata": {},
   "source": [
    "And our code to extract from website html our data"
   ]
  },
  {
   "cell_type": "code",
   "execution_count": 4,
   "metadata": {},
   "outputs": [
    {
     "name": "stdout",
     "output_type": "stream",
     "text": [
      "Index(['Season', 'Age', 'Tm', 'Lg', 'Pos', 'G', 'GS', 'MP', 'FG', 'FGA', 'FG%',\n",
      "       '3P', '3PA', '3P%', '2P', '2PA', '2P%', 'eFG%', 'FT', 'FTA', 'FT%',\n",
      "       'ORB', 'DRB', 'TRB', 'AST', 'STL', 'BLK', 'TOV', 'PF', 'PTS', 'Height',\n",
      "       'Weight', 'ShootingHand', 'draftRank'],\n",
      "      dtype='object')\n"
     ]
    },
    {
     "data": {
      "text/html": [
       "<div>\n",
       "<style scoped>\n",
       "    .dataframe tbody tr th:only-of-type {\n",
       "        vertical-align: middle;\n",
       "    }\n",
       "\n",
       "    .dataframe tbody tr th {\n",
       "        vertical-align: top;\n",
       "    }\n",
       "\n",
       "    .dataframe thead th {\n",
       "        text-align: right;\n",
       "    }\n",
       "</style>\n",
       "<table border=\"1\" class=\"dataframe\">\n",
       "  <thead>\n",
       "    <tr style=\"text-align: right;\">\n",
       "      <th></th>\n",
       "      <th>Season</th>\n",
       "      <th>Age</th>\n",
       "      <th>Tm</th>\n",
       "      <th>Lg</th>\n",
       "      <th>Pos</th>\n",
       "      <th>G</th>\n",
       "      <th>GS</th>\n",
       "      <th>MP</th>\n",
       "      <th>FG</th>\n",
       "      <th>FGA</th>\n",
       "      <th>...</th>\n",
       "      <th>AST</th>\n",
       "      <th>STL</th>\n",
       "      <th>BLK</th>\n",
       "      <th>TOV</th>\n",
       "      <th>PF</th>\n",
       "      <th>PTS</th>\n",
       "      <th>Height</th>\n",
       "      <th>Weight</th>\n",
       "      <th>ShootingHand</th>\n",
       "      <th>draftRank</th>\n",
       "    </tr>\n",
       "  </thead>\n",
       "  <tbody>\n",
       "    <tr>\n",
       "      <th>0</th>\n",
       "      <td>2003-04</td>\n",
       "      <td>19</td>\n",
       "      <td>CLE</td>\n",
       "      <td>NBA</td>\n",
       "      <td>SG</td>\n",
       "      <td>79</td>\n",
       "      <td>79</td>\n",
       "      <td>3122</td>\n",
       "      <td>622</td>\n",
       "      <td>1492</td>\n",
       "      <td>...</td>\n",
       "      <td>465</td>\n",
       "      <td>130</td>\n",
       "      <td>58</td>\n",
       "      <td>273</td>\n",
       "      <td>149</td>\n",
       "      <td>1654</td>\n",
       "      <td>206</td>\n",
       "      <td>113</td>\n",
       "      <td>Right</td>\n",
       "      <td>1</td>\n",
       "    </tr>\n",
       "    <tr>\n",
       "      <th>1</th>\n",
       "      <td>2004-05</td>\n",
       "      <td>20</td>\n",
       "      <td>CLE</td>\n",
       "      <td>NBA</td>\n",
       "      <td>SF</td>\n",
       "      <td>80</td>\n",
       "      <td>80</td>\n",
       "      <td>3388</td>\n",
       "      <td>795</td>\n",
       "      <td>1684</td>\n",
       "      <td>...</td>\n",
       "      <td>577</td>\n",
       "      <td>177</td>\n",
       "      <td>52</td>\n",
       "      <td>262</td>\n",
       "      <td>146</td>\n",
       "      <td>2175</td>\n",
       "      <td>206</td>\n",
       "      <td>113</td>\n",
       "      <td>Right</td>\n",
       "      <td>1</td>\n",
       "    </tr>\n",
       "    <tr>\n",
       "      <th>2</th>\n",
       "      <td>2005-06</td>\n",
       "      <td>21</td>\n",
       "      <td>CLE</td>\n",
       "      <td>NBA</td>\n",
       "      <td>SF</td>\n",
       "      <td>79</td>\n",
       "      <td>79</td>\n",
       "      <td>3361</td>\n",
       "      <td>875</td>\n",
       "      <td>1823</td>\n",
       "      <td>...</td>\n",
       "      <td>521</td>\n",
       "      <td>123</td>\n",
       "      <td>66</td>\n",
       "      <td>260</td>\n",
       "      <td>181</td>\n",
       "      <td>2478</td>\n",
       "      <td>206</td>\n",
       "      <td>113</td>\n",
       "      <td>Right</td>\n",
       "      <td>1</td>\n",
       "    </tr>\n",
       "    <tr>\n",
       "      <th>3</th>\n",
       "      <td>2006-07</td>\n",
       "      <td>22</td>\n",
       "      <td>CLE</td>\n",
       "      <td>NBA</td>\n",
       "      <td>SF</td>\n",
       "      <td>78</td>\n",
       "      <td>78</td>\n",
       "      <td>3190</td>\n",
       "      <td>772</td>\n",
       "      <td>1621</td>\n",
       "      <td>...</td>\n",
       "      <td>470</td>\n",
       "      <td>125</td>\n",
       "      <td>55</td>\n",
       "      <td>250</td>\n",
       "      <td>171</td>\n",
       "      <td>2132</td>\n",
       "      <td>206</td>\n",
       "      <td>113</td>\n",
       "      <td>Right</td>\n",
       "      <td>1</td>\n",
       "    </tr>\n",
       "    <tr>\n",
       "      <th>4</th>\n",
       "      <td>2007-08</td>\n",
       "      <td>23</td>\n",
       "      <td>CLE</td>\n",
       "      <td>NBA</td>\n",
       "      <td>SF</td>\n",
       "      <td>75</td>\n",
       "      <td>74</td>\n",
       "      <td>3027</td>\n",
       "      <td>794</td>\n",
       "      <td>1642</td>\n",
       "      <td>...</td>\n",
       "      <td>539</td>\n",
       "      <td>138</td>\n",
       "      <td>81</td>\n",
       "      <td>255</td>\n",
       "      <td>165</td>\n",
       "      <td>2250</td>\n",
       "      <td>206</td>\n",
       "      <td>113</td>\n",
       "      <td>Right</td>\n",
       "      <td>1</td>\n",
       "    </tr>\n",
       "    <tr>\n",
       "      <th>5</th>\n",
       "      <td>2008-09</td>\n",
       "      <td>24</td>\n",
       "      <td>CLE</td>\n",
       "      <td>NBA</td>\n",
       "      <td>SF</td>\n",
       "      <td>81</td>\n",
       "      <td>81</td>\n",
       "      <td>3054</td>\n",
       "      <td>789</td>\n",
       "      <td>1613</td>\n",
       "      <td>...</td>\n",
       "      <td>587</td>\n",
       "      <td>137</td>\n",
       "      <td>93</td>\n",
       "      <td>241</td>\n",
       "      <td>139</td>\n",
       "      <td>2304</td>\n",
       "      <td>206</td>\n",
       "      <td>113</td>\n",
       "      <td>Right</td>\n",
       "      <td>1</td>\n",
       "    </tr>\n",
       "    <tr>\n",
       "      <th>6</th>\n",
       "      <td>2009-10</td>\n",
       "      <td>25</td>\n",
       "      <td>CLE</td>\n",
       "      <td>NBA</td>\n",
       "      <td>SF</td>\n",
       "      <td>76</td>\n",
       "      <td>76</td>\n",
       "      <td>2966</td>\n",
       "      <td>768</td>\n",
       "      <td>1528</td>\n",
       "      <td>...</td>\n",
       "      <td>651</td>\n",
       "      <td>125</td>\n",
       "      <td>77</td>\n",
       "      <td>261</td>\n",
       "      <td>119</td>\n",
       "      <td>2258</td>\n",
       "      <td>206</td>\n",
       "      <td>113</td>\n",
       "      <td>Right</td>\n",
       "      <td>1</td>\n",
       "    </tr>\n",
       "    <tr>\n",
       "      <th>7</th>\n",
       "      <td>2010-11</td>\n",
       "      <td>26</td>\n",
       "      <td>MIA</td>\n",
       "      <td>NBA</td>\n",
       "      <td>SF</td>\n",
       "      <td>79</td>\n",
       "      <td>79</td>\n",
       "      <td>3063</td>\n",
       "      <td>758</td>\n",
       "      <td>1485</td>\n",
       "      <td>...</td>\n",
       "      <td>554</td>\n",
       "      <td>124</td>\n",
       "      <td>50</td>\n",
       "      <td>284</td>\n",
       "      <td>163</td>\n",
       "      <td>2111</td>\n",
       "      <td>206</td>\n",
       "      <td>113</td>\n",
       "      <td>Right</td>\n",
       "      <td>1</td>\n",
       "    </tr>\n",
       "    <tr>\n",
       "      <th>8</th>\n",
       "      <td>2011-12</td>\n",
       "      <td>27</td>\n",
       "      <td>MIA</td>\n",
       "      <td>NBA</td>\n",
       "      <td>SF</td>\n",
       "      <td>62</td>\n",
       "      <td>62</td>\n",
       "      <td>2326</td>\n",
       "      <td>621</td>\n",
       "      <td>1169</td>\n",
       "      <td>...</td>\n",
       "      <td>387</td>\n",
       "      <td>115</td>\n",
       "      <td>50</td>\n",
       "      <td>213</td>\n",
       "      <td>96</td>\n",
       "      <td>1683</td>\n",
       "      <td>206</td>\n",
       "      <td>113</td>\n",
       "      <td>Right</td>\n",
       "      <td>1</td>\n",
       "    </tr>\n",
       "    <tr>\n",
       "      <th>9</th>\n",
       "      <td>2012-13</td>\n",
       "      <td>28</td>\n",
       "      <td>MIA</td>\n",
       "      <td>NBA</td>\n",
       "      <td>PF</td>\n",
       "      <td>76</td>\n",
       "      <td>76</td>\n",
       "      <td>2877</td>\n",
       "      <td>765</td>\n",
       "      <td>1354</td>\n",
       "      <td>...</td>\n",
       "      <td>551</td>\n",
       "      <td>129</td>\n",
       "      <td>67</td>\n",
       "      <td>226</td>\n",
       "      <td>110</td>\n",
       "      <td>2036</td>\n",
       "      <td>206</td>\n",
       "      <td>113</td>\n",
       "      <td>Right</td>\n",
       "      <td>1</td>\n",
       "    </tr>\n",
       "    <tr>\n",
       "      <th>10</th>\n",
       "      <td>2013-14</td>\n",
       "      <td>29</td>\n",
       "      <td>MIA</td>\n",
       "      <td>NBA</td>\n",
       "      <td>PF</td>\n",
       "      <td>77</td>\n",
       "      <td>77</td>\n",
       "      <td>2902</td>\n",
       "      <td>767</td>\n",
       "      <td>1353</td>\n",
       "      <td>...</td>\n",
       "      <td>488</td>\n",
       "      <td>121</td>\n",
       "      <td>26</td>\n",
       "      <td>270</td>\n",
       "      <td>126</td>\n",
       "      <td>2089</td>\n",
       "      <td>206</td>\n",
       "      <td>113</td>\n",
       "      <td>Right</td>\n",
       "      <td>1</td>\n",
       "    </tr>\n",
       "    <tr>\n",
       "      <th>11</th>\n",
       "      <td>2014-15</td>\n",
       "      <td>30</td>\n",
       "      <td>CLE</td>\n",
       "      <td>NBA</td>\n",
       "      <td>SF</td>\n",
       "      <td>69</td>\n",
       "      <td>69</td>\n",
       "      <td>2493</td>\n",
       "      <td>624</td>\n",
       "      <td>1279</td>\n",
       "      <td>...</td>\n",
       "      <td>511</td>\n",
       "      <td>109</td>\n",
       "      <td>49</td>\n",
       "      <td>272</td>\n",
       "      <td>135</td>\n",
       "      <td>1743</td>\n",
       "      <td>206</td>\n",
       "      <td>113</td>\n",
       "      <td>Right</td>\n",
       "      <td>1</td>\n",
       "    </tr>\n",
       "    <tr>\n",
       "      <th>12</th>\n",
       "      <td>2015-16</td>\n",
       "      <td>31</td>\n",
       "      <td>CLE</td>\n",
       "      <td>NBA</td>\n",
       "      <td>SF</td>\n",
       "      <td>76</td>\n",
       "      <td>76</td>\n",
       "      <td>2709</td>\n",
       "      <td>737</td>\n",
       "      <td>1416</td>\n",
       "      <td>...</td>\n",
       "      <td>514</td>\n",
       "      <td>104</td>\n",
       "      <td>49</td>\n",
       "      <td>249</td>\n",
       "      <td>143</td>\n",
       "      <td>1920</td>\n",
       "      <td>206</td>\n",
       "      <td>113</td>\n",
       "      <td>Right</td>\n",
       "      <td>1</td>\n",
       "    </tr>\n",
       "    <tr>\n",
       "      <th>13</th>\n",
       "      <td>2016-17</td>\n",
       "      <td>32</td>\n",
       "      <td>CLE</td>\n",
       "      <td>NBA</td>\n",
       "      <td>SF</td>\n",
       "      <td>74</td>\n",
       "      <td>74</td>\n",
       "      <td>2794</td>\n",
       "      <td>736</td>\n",
       "      <td>1344</td>\n",
       "      <td>...</td>\n",
       "      <td>646</td>\n",
       "      <td>92</td>\n",
       "      <td>44</td>\n",
       "      <td>303</td>\n",
       "      <td>134</td>\n",
       "      <td>1954</td>\n",
       "      <td>206</td>\n",
       "      <td>113</td>\n",
       "      <td>Right</td>\n",
       "      <td>1</td>\n",
       "    </tr>\n",
       "    <tr>\n",
       "      <th>14</th>\n",
       "      <td>2017-18</td>\n",
       "      <td>33</td>\n",
       "      <td>CLE</td>\n",
       "      <td>NBA</td>\n",
       "      <td>PF</td>\n",
       "      <td>82</td>\n",
       "      <td>82</td>\n",
       "      <td>3026</td>\n",
       "      <td>857</td>\n",
       "      <td>1580</td>\n",
       "      <td>...</td>\n",
       "      <td>747</td>\n",
       "      <td>116</td>\n",
       "      <td>71</td>\n",
       "      <td>347</td>\n",
       "      <td>136</td>\n",
       "      <td>2251</td>\n",
       "      <td>206</td>\n",
       "      <td>113</td>\n",
       "      <td>Right</td>\n",
       "      <td>1</td>\n",
       "    </tr>\n",
       "    <tr>\n",
       "      <th>15</th>\n",
       "      <td>2018-19</td>\n",
       "      <td>34</td>\n",
       "      <td>LAL</td>\n",
       "      <td>NBA</td>\n",
       "      <td>SF</td>\n",
       "      <td>55</td>\n",
       "      <td>55</td>\n",
       "      <td>1937</td>\n",
       "      <td>558</td>\n",
       "      <td>1095</td>\n",
       "      <td>...</td>\n",
       "      <td>454</td>\n",
       "      <td>72</td>\n",
       "      <td>33</td>\n",
       "      <td>197</td>\n",
       "      <td>94</td>\n",
       "      <td>1505</td>\n",
       "      <td>206</td>\n",
       "      <td>113</td>\n",
       "      <td>Right</td>\n",
       "      <td>1</td>\n",
       "    </tr>\n",
       "    <tr>\n",
       "      <th>16</th>\n",
       "      <td>2019-20</td>\n",
       "      <td>35</td>\n",
       "      <td>LAL</td>\n",
       "      <td>NBA</td>\n",
       "      <td>PG</td>\n",
       "      <td>29</td>\n",
       "      <td>29</td>\n",
       "      <td>1009</td>\n",
       "      <td>289</td>\n",
       "      <td>583</td>\n",
       "      <td>...</td>\n",
       "      <td>308</td>\n",
       "      <td>35</td>\n",
       "      <td>16</td>\n",
       "      <td>116</td>\n",
       "      <td>54</td>\n",
       "      <td>747</td>\n",
       "      <td>206</td>\n",
       "      <td>113</td>\n",
       "      <td>Right</td>\n",
       "      <td>1</td>\n",
       "    </tr>\n",
       "    <tr>\n",
       "      <th>17</th>\n",
       "      <td>Career</td>\n",
       "      <td></td>\n",
       "      <td></td>\n",
       "      <td>NBA</td>\n",
       "      <td></td>\n",
       "      <td>1227</td>\n",
       "      <td>1226</td>\n",
       "      <td>47244</td>\n",
       "      <td>12127</td>\n",
       "      <td>24061</td>\n",
       "      <td>...</td>\n",
       "      <td>8970</td>\n",
       "      <td>1972</td>\n",
       "      <td>937</td>\n",
       "      <td>4279</td>\n",
       "      <td>2261</td>\n",
       "      <td>33290</td>\n",
       "      <td>206</td>\n",
       "      <td>113</td>\n",
       "      <td>Right</td>\n",
       "      <td>1</td>\n",
       "    </tr>\n",
       "  </tbody>\n",
       "</table>\n",
       "<p>18 rows × 34 columns</p>\n",
       "</div>"
      ],
      "text/plain": [
       "     Season Age   Tm   Lg Pos     G    GS     MP     FG    FGA  ...   AST  \\\n",
       "0   2003-04  19  CLE  NBA  SG    79    79   3122    622   1492  ...   465   \n",
       "1   2004-05  20  CLE  NBA  SF    80    80   3388    795   1684  ...   577   \n",
       "2   2005-06  21  CLE  NBA  SF    79    79   3361    875   1823  ...   521   \n",
       "3   2006-07  22  CLE  NBA  SF    78    78   3190    772   1621  ...   470   \n",
       "4   2007-08  23  CLE  NBA  SF    75    74   3027    794   1642  ...   539   \n",
       "5   2008-09  24  CLE  NBA  SF    81    81   3054    789   1613  ...   587   \n",
       "6   2009-10  25  CLE  NBA  SF    76    76   2966    768   1528  ...   651   \n",
       "7   2010-11  26  MIA  NBA  SF    79    79   3063    758   1485  ...   554   \n",
       "8   2011-12  27  MIA  NBA  SF    62    62   2326    621   1169  ...   387   \n",
       "9   2012-13  28  MIA  NBA  PF    76    76   2877    765   1354  ...   551   \n",
       "10  2013-14  29  MIA  NBA  PF    77    77   2902    767   1353  ...   488   \n",
       "11  2014-15  30  CLE  NBA  SF    69    69   2493    624   1279  ...   511   \n",
       "12  2015-16  31  CLE  NBA  SF    76    76   2709    737   1416  ...   514   \n",
       "13  2016-17  32  CLE  NBA  SF    74    74   2794    736   1344  ...   646   \n",
       "14  2017-18  33  CLE  NBA  PF    82    82   3026    857   1580  ...   747   \n",
       "15  2018-19  34  LAL  NBA  SF    55    55   1937    558   1095  ...   454   \n",
       "16  2019-20  35  LAL  NBA  PG    29    29   1009    289    583  ...   308   \n",
       "17   Career           NBA      1227  1226  47244  12127  24061  ...  8970   \n",
       "\n",
       "     STL  BLK   TOV    PF    PTS Height Weight ShootingHand draftRank  \n",
       "0    130   58   273   149   1654    206   113         Right         1  \n",
       "1    177   52   262   146   2175    206   113         Right         1  \n",
       "2    123   66   260   181   2478    206   113         Right         1  \n",
       "3    125   55   250   171   2132    206   113         Right         1  \n",
       "4    138   81   255   165   2250    206   113         Right         1  \n",
       "5    137   93   241   139   2304    206   113         Right         1  \n",
       "6    125   77   261   119   2258    206   113         Right         1  \n",
       "7    124   50   284   163   2111    206   113         Right         1  \n",
       "8    115   50   213    96   1683    206   113         Right         1  \n",
       "9    129   67   226   110   2036    206   113         Right         1  \n",
       "10   121   26   270   126   2089    206   113         Right         1  \n",
       "11   109   49   272   135   1743    206   113         Right         1  \n",
       "12   104   49   249   143   1920    206   113         Right         1  \n",
       "13    92   44   303   134   1954    206   113         Right         1  \n",
       "14   116   71   347   136   2251    206   113         Right         1  \n",
       "15    72   33   197    94   1505    206   113         Right         1  \n",
       "16    35   16   116    54    747    206   113         Right         1  \n",
       "17  1972  937  4279  2261  33290    206   113         Right         1  \n",
       "\n",
       "[18 rows x 34 columns]"
      ]
     },
     "execution_count": 4,
     "metadata": {},
     "output_type": "execute_result"
    }
   ],
   "source": [
    "from tools import get_player_stats\n",
    "import warnings\n",
    "warnings.filterwarnings(\"ignore\", category=UserWarning, module='BeatifulSoup')\n",
    "dataFrame = get_player_stats(\"Lebron James\")\n",
    "print(dataFrame.columns)\n",
    "dataFrame.head(20)"
   ]
  },
  {
   "cell_type": "markdown",
   "metadata": {},
   "source": [
    "Columns used for this database for each player:\n",
    "- Position : The most common position for the player over his seasons.\n",
    "- FG%\n",
    "- 3P%\n",
    "- FT%\n",
    "- Height\n",
    "- Weight\n",
    "- ShootingHand\n",
    "- draftRank"
   ]
  },
  {
   "cell_type": "markdown",
   "metadata": {},
   "source": [
    "## We merged both the datasets according our collected data from internet.\n",
    "Some players stats had been inserted manually because some bugs found on PandasBasketball library"
   ]
  },
  {
   "cell_type": "code",
   "execution_count": 5,
   "metadata": {
    "scrolled": false
   },
   "outputs": [
    {
     "data": {
      "text/html": [
       "<div>\n",
       "<style scoped>\n",
       "    .dataframe tbody tr th:only-of-type {\n",
       "        vertical-align: middle;\n",
       "    }\n",
       "\n",
       "    .dataframe tbody tr th {\n",
       "        vertical-align: top;\n",
       "    }\n",
       "\n",
       "    .dataframe thead th {\n",
       "        text-align: right;\n",
       "    }\n",
       "</style>\n",
       "<table border=\"1\" class=\"dataframe\">\n",
       "  <thead>\n",
       "    <tr style=\"text-align: right;\">\n",
       "      <th></th>\n",
       "      <th>end_result</th>\n",
       "      <th>game</th>\n",
       "      <th>game_id</th>\n",
       "      <th>period</th>\n",
       "      <th>play</th>\n",
       "      <th>player</th>\n",
       "      <th>playoffs</th>\n",
       "      <th>score</th>\n",
       "      <th>season</th>\n",
       "      <th>shot_made</th>\n",
       "      <th>...</th>\n",
       "      <th>2P%</th>\n",
       "      <th>3P%</th>\n",
       "      <th>FT%</th>\n",
       "      <th>Height</th>\n",
       "      <th>Weight</th>\n",
       "      <th>draftRank</th>\n",
       "      <th>Pos</th>\n",
       "      <th>ShootingHand</th>\n",
       "      <th>Team</th>\n",
       "      <th>Difference</th>\n",
       "    </tr>\n",
       "  </thead>\n",
       "  <tbody>\n",
       "    <tr>\n",
       "      <th>0</th>\n",
       "      <td>106 - 114</td>\n",
       "      <td>PHX - LAL</td>\n",
       "      <td>261031013</td>\n",
       "      <td>1</td>\n",
       "      <td>Andrew Bynum makes free throw 1 of 2</td>\n",
       "      <td>Andrew Bynum</td>\n",
       "      <td>regular</td>\n",
       "      <td>0 - 1</td>\n",
       "      <td>2006 - 2007</td>\n",
       "      <td>1</td>\n",
       "      <td>...</td>\n",
       "      <td>0.557</td>\n",
       "      <td>0.111</td>\n",
       "      <td>0.296296</td>\n",
       "      <td>213</td>\n",
       "      <td>129</td>\n",
       "      <td>10</td>\n",
       "      <td>C</td>\n",
       "      <td>Right</td>\n",
       "      <td>LAL</td>\n",
       "      <td>1.0</td>\n",
       "    </tr>\n",
       "    <tr>\n",
       "      <th>1</th>\n",
       "      <td>106 - 114</td>\n",
       "      <td>PHX - LAL</td>\n",
       "      <td>261031013</td>\n",
       "      <td>1</td>\n",
       "      <td>Andrew Bynum makes free throw 2 of 2</td>\n",
       "      <td>Andrew Bynum</td>\n",
       "      <td>regular</td>\n",
       "      <td>0 - 2</td>\n",
       "      <td>2006 - 2007</td>\n",
       "      <td>1</td>\n",
       "      <td>...</td>\n",
       "      <td>0.557</td>\n",
       "      <td>0.111</td>\n",
       "      <td>0.296296</td>\n",
       "      <td>213</td>\n",
       "      <td>129</td>\n",
       "      <td>10</td>\n",
       "      <td>C</td>\n",
       "      <td>Right</td>\n",
       "      <td>LAL</td>\n",
       "      <td>2.0</td>\n",
       "    </tr>\n",
       "    <tr>\n",
       "      <th>2</th>\n",
       "      <td>106 - 114</td>\n",
       "      <td>PHX - LAL</td>\n",
       "      <td>261031013</td>\n",
       "      <td>1</td>\n",
       "      <td>Andrew Bynum makes free throw 1 of 2</td>\n",
       "      <td>Andrew Bynum</td>\n",
       "      <td>regular</td>\n",
       "      <td>18-12</td>\n",
       "      <td>2006 - 2007</td>\n",
       "      <td>1</td>\n",
       "      <td>...</td>\n",
       "      <td>0.557</td>\n",
       "      <td>0.111</td>\n",
       "      <td>0.296296</td>\n",
       "      <td>213</td>\n",
       "      <td>129</td>\n",
       "      <td>10</td>\n",
       "      <td>C</td>\n",
       "      <td>Right</td>\n",
       "      <td>LAL</td>\n",
       "      <td>-6.0</td>\n",
       "    </tr>\n",
       "  </tbody>\n",
       "</table>\n",
       "<p>3 rows × 22 columns</p>\n",
       "</div>"
      ],
      "text/plain": [
       "  end_result       game    game_id  period  \\\n",
       "0  106 - 114  PHX - LAL  261031013       1   \n",
       "1  106 - 114  PHX - LAL  261031013       1   \n",
       "2  106 - 114  PHX - LAL  261031013       1   \n",
       "\n",
       "                                   play        player playoffs  score  \\\n",
       "0  Andrew Bynum makes free throw 1 of 2  Andrew Bynum  regular  0 - 1   \n",
       "1  Andrew Bynum makes free throw 2 of 2  Andrew Bynum  regular  0 - 2   \n",
       "2  Andrew Bynum makes free throw 1 of 2  Andrew Bynum  regular  18-12   \n",
       "\n",
       "        season  shot_made  ...    2P%    3P%       FT%  Height  Weight  \\\n",
       "0  2006 - 2007          1  ...  0.557  0.111  0.296296     213    129    \n",
       "1  2006 - 2007          1  ...  0.557  0.111  0.296296     213    129    \n",
       "2  2006 - 2007          1  ...  0.557  0.111  0.296296     213    129    \n",
       "\n",
       "  draftRank Pos ShootingHand Team Difference  \n",
       "0        10   C        Right  LAL        1.0  \n",
       "1        10   C        Right  LAL        2.0  \n",
       "2        10   C        Right  LAL       -6.0  \n",
       "\n",
       "[3 rows x 22 columns]"
      ]
     },
     "execution_count": 5,
     "metadata": {},
     "output_type": "execute_result"
    }
   ],
   "source": [
    "database_p1 = pd.read_csv(\"complete_database.csv\")\n",
    "database_p2 = pd.read_csv(\"complete_database_part2.csv\")\n",
    "database = pd.concat([database_p1,database_p2])\n",
    "database = database.drop(columns=['Unnamed: 0', 'Unnamed: 0'])\n",
    "# Drop duplicated rows\n",
    "database.drop_duplicates()\n",
    "database.head(3)"
   ]
  },
  {
   "cell_type": "markdown",
   "metadata": {},
   "source": [
    "## PrePrecessing the data \n",
    "\n",
    "\n",
    "### Specifing Data Types"
   ]
  },
  {
   "cell_type": "code",
   "execution_count": 6,
   "metadata": {},
   "outputs": [],
   "source": [
    "binary_variables = ['shot_made', 'playoffs', 'ShootingHand']\n",
    "categorical_variables = ['end_result', 'game', 'game_id', 'period', 'play', 'player', 'season']\n",
    "numeric_variables = ['score','time','FG%','2P%', '3P%', 'FT%', 'Height', 'Weight', 'draftRank', 'Pos']"
   ]
  },
  {
   "cell_type": "code",
   "execution_count": 7,
   "metadata": {},
   "outputs": [
    {
     "data": {
      "text/plain": [
       "end_result      617786\n",
       "game            617786\n",
       "game_id         617786\n",
       "period          617786\n",
       "play            617786\n",
       "player          617786\n",
       "playoffs        617786\n",
       "score           617786\n",
       "season          617786\n",
       "shot_made       617786\n",
       "time            617786\n",
       "FG%             617786\n",
       "2P%             617786\n",
       "3P%             612884\n",
       "FT%             570699\n",
       "Height          617786\n",
       "Weight          617786\n",
       "draftRank       617786\n",
       "Pos             617786\n",
       "ShootingHand    617786\n",
       "Team            617786\n",
       "Difference      617786\n",
       "dtype: int64"
      ]
     },
     "execution_count": 7,
     "metadata": {},
     "output_type": "execute_result"
    }
   ],
   "source": [
    "database.count()"
   ]
  },
  {
   "cell_type": "markdown",
   "metadata": {},
   "source": [
    "We can see, we have only two columns with missing data. First - the draftRank column. \n",
    "This values are missing because the players performed the free throw didn't have a draft rank and not because we couldn't collect the data. Second - 3P% has missing values since there are players that have never throws a 3-pointer."
   ]
  },
  {
   "cell_type": "markdown",
   "metadata": {},
   "source": [
    "### processing the columns \n",
    "We will change the relevant categorical variable (only the position) to numeric and change the binary and numeric variables to be in the appropriate type."
   ]
  },
  {
   "cell_type": "code",
   "execution_count": 8,
   "metadata": {},
   "outputs": [
    {
     "data": {
      "text/plain": [
       "end_result       object\n",
       "game             object\n",
       "game_id           int64\n",
       "period            int64\n",
       "play             object\n",
       "player           object\n",
       "playoffs         object\n",
       "score            object\n",
       "season           object\n",
       "shot_made         int64\n",
       "time             object\n",
       "FG%             float64\n",
       "2P%             float64\n",
       "3P%             float64\n",
       "FT%             float64\n",
       "Height           object\n",
       "Weight           object\n",
       "draftRank        object\n",
       "Pos              object\n",
       "ShootingHand     object\n",
       "Team             object\n",
       "Difference      float64\n",
       "minute            int64\n",
       "sec               int64\n",
       "abs_min           int64\n",
       "abs_time          int64\n",
       "scores           object\n",
       "scoreDif          int64\n",
       "dtype: object"
      ]
     },
     "execution_count": 8,
     "metadata": {},
     "output_type": "execute_result"
    }
   ],
   "source": [
    "# adding an abs_time column to our database:\n",
    "database['minute'] = database.time.apply(lambda x: int(x[:len(x)-3]))\n",
    "database['sec'] = database.time.apply(lambda x: int(x[len(x)-2:]))\n",
    "database['abs_min'] = 12 - database['minute']+12*(database.period -1)\n",
    "database['abs_time'] = 60*(database.abs_min-1) + 60 - database['sec']\n",
    "\n",
    "# adding a scoreDif column that represents the difference in the groups scores in the time of the throw:\n",
    "database['scores'] = database.score.replace(' - ', '-').apply(lambda x: x.split('-'))\n",
    "database['scoreDif'] = database.scores.apply(lambda x: abs(int(x[1])-int(x[0])))\n",
    "\n",
    "database.dtypes"
   ]
  },
  {
   "cell_type": "markdown",
   "metadata": {},
   "source": [
    "## Analyzing the data \n",
    "\n",
    "\n",
    "### Analyzing the number of throws troughout the game\n",
    "\n",
    "We would like to show the free throws distribution throughout the game time,\n",
    "in our current dataset, the time column represents the time left in that quarter and the period column represents the quarter of the game, so we'll add a new column to our data which calculate the absolute time in the game that the throw was made."
   ]
  },
  {
   "cell_type": "code",
   "execution_count": 9,
   "metadata": {
    "scrolled": true
   },
   "outputs": [],
   "source": [
    "#  counting the num of throws, and success throws precentage per minute\n",
    "minutes = range(int(max(database.abs_min)))\n",
    "total_throws = []\n",
    "success_throws = []\n",
    "success_precentage = []\n",
    "\n",
    "def count_throws(database,minute):    \n",
    "    made = len(database[(database.abs_min == minute) & (database.shot_made == 1)])\n",
    "    success_throws.append(made)\n",
    "    total = len(database[database.abs_min == minute])\n",
    "    total_throws.append(total)\n",
    "    if total == 0:\n",
    "        precentage = 0.0\n",
    "    else:\n",
    "        precentage = made/total\n",
    "    success_precentage.append(precentage)\n",
    "\n",
    "for minute in minutes:\n",
    "    count_throws(database,minute)"
   ]
  },
  {
   "cell_type": "code",
   "execution_count": 10,
   "metadata": {},
   "outputs": [
    {
     "data": {
      "text/plain": [
       "Text(0, 0.5, 'num of throws')"
      ]
     },
     "execution_count": 10,
     "metadata": {},
     "output_type": "execute_result"
    },
    {
     "data": {
      "image/png": "[encoded data removed]",
      "text/plain": [
       "<Figure size 432x288 with 1 Axes>"
      ]
     },
     "metadata": {
      "needs_background": "light"
     },
     "output_type": "display_data"
    }
   ],
   "source": [
    "# Number of throws over time\n",
    "plt.plot(minutes,total_throws)\n",
    "plt.title('Number of throws over time')\n",
    "plt.xlim([1,48])\n",
    "plt.ylim([0, 40000])\n",
    "plt.plot([12,12],[0,40000], '--', linewidth = 1, color = 'r')\n",
    "plt.plot([24,24],[0,40000], '--', linewidth = 1, color = 'r')\n",
    "plt.plot([36,36],[0,40000], '--', linewidth = 1, color = 'r')\n",
    "plt.plot([48,48],[0,40000], '--', linewidth = 1, color = 'r')\n",
    "plt.xlabel('Minute')\n",
    "plt.ylabel('num of throws')"
   ]
  },
  {
   "cell_type": "code",
   "execution_count": 11,
   "metadata": {},
   "outputs": [
    {
     "data": {
      "text/plain": [
       "Text(0, 0.5, 'Free Throws %')"
      ]
     },
     "execution_count": 11,
     "metadata": {},
     "output_type": "execute_result"
    },
    {
     "data": {
      "image/png": "[encoded data removed]",
      "text/plain": [
       "<Figure size 432x288 with 1 Axes>"
      ]
     },
     "metadata": {
      "needs_background": "light"
     },
     "output_type": "display_data"
    }
   ],
   "source": [
    "# Success throws precentage over time   \n",
    "plt.plot(minutes,success_precentage)\n",
    "plt.title('Scoring % over time - Always worse at the beginning')\n",
    "plt.xlim([1,48])\n",
    "plt.ylim([0.65,0.85])\n",
    "plt.plot([12,12],[0,1], '--', linewidth = 1, color = 'r')\n",
    "plt.plot([24,24],[0,1], '--', linewidth = 1, color = 'r')\n",
    "plt.plot([36,36],[0,1], '--', linewidth = 1, color = 'r')\n",
    "plt.plot([48,48],[0,1], '--', linewidth = 1, color = 'r')\n",
    "plt.xlabel('Minute')\n",
    "plt.ylabel('Free Throws %')"
   ]
  },
  {
   "cell_type": "markdown",
   "metadata": {},
   "source": [
    "From the plots we can observe that at the begining of every querter, both the number of free throws and the success precentage drops.\n",
    "Moreover, at the end of a quarter, and especially at the end of the game, both plots increase.\n",
    "We can explain this behaivor, as basketball rules when a team made more than 5 fouls, every another foul made in that quarter will be penalty with a free throw.\n"
   ]
  },
  {
   "cell_type": "markdown",
   "metadata": {},
   "source": [
    "### Analyzing the number of throws troughout the game\n",
    "We want to see how the average of free throws attempted and succeed in games over our differents season in our dataset are distributed."
   ]
  },
  {
   "cell_type": "code",
   "execution_count": 12,
   "metadata": {},
   "outputs": [
    {
     "data": {
      "image/png": "[encoded data removed]",
      "text/plain": [
       "<Figure size 1080x576 with 1 Axes>"
      ]
     },
     "metadata": {
      "needs_background": "light"
     },
     "output_type": "display_data"
    }
   ],
   "source": [
    "shot_attempted_per_game = database.groupby([\"season\", \"playoffs\"])['shot_made'].count().unstack()\n",
    "shot_made_per_game = database.groupby([\"season\", \"playoffs\"])['shot_made'].sum().unstack()\n",
    "\n",
    "# this has to be divided by the number of games for each season to get an average\n",
    "number_of_games=database.groupby([\"season\", \"playoffs\"])['game_id'].nunique().unstack()\n",
    "\n",
    "average_shot_made_per_game = shot_made_per_game/number_of_games\n",
    "average_shot_attempted_per_game = shot_attempted_per_game/number_of_games\n",
    "\n",
    "\n",
    "f, (ax1) = plt.subplots(figsize=(18,18))\n",
    "first=average_shot_attempted_per_game.plot(ax=ax1, marker='o', figsize=(15,8), xticks=range(10), color=['b','r'], rot=90)\n",
    "second=average_shot_made_per_game.plot(ax=ax1, marker='o', linestyle='--', figsize=(15,8), xticks=range(10), color=['b','r'], rot=90)\n",
    "ax1.set_title('Average number of free throws per period. Attempted vs Successfula', size=25)\n",
    "legend=plt.legend((' playoffs attempted','regular attempted','playoffs successful','regular successful'), loc=6)\n",
    "ax1.add_artist(legend)\n",
    "plt.show()"
   ]
  },
  {
   "cell_type": "markdown",
   "metadata": {},
   "source": [
    "We can see that are not very big differences over the seasons at both attempted and successful shots.\n",
    "But there is a clear difference between the amount of made shots and and successful shots at playoffs and regular season.\n"
   ]
  },
  {
   "cell_type": "code",
   "execution_count": 13,
   "metadata": {},
   "outputs": [
    {
     "name": "stdout",
     "output_type": "stream",
     "text": [
      "Made shots percentage in dataset: 75.68\n",
      "Missed shots percentage in dataset: 24.32\n"
     ]
    }
   ],
   "source": [
    "made_shot_perc , missed_shot_perc = database['shot_made'].value_counts(normalize=True) * 100\n",
    "print(\"Made shots percentage in dataset: %.2f\"%(made_shot_perc))\n",
    "print(\"Missed shots percentage in dataset: %.2f\"%(missed_shot_perc))\n"
   ]
  },
  {
   "cell_type": "markdown",
   "metadata": {},
   "source": [
    "### The correlation between the player's draft rank and the free-throw result\n",
    "\n",
    "We wanted to check if there is a conection between the draft rank of the player performing the shot and the result of the shot. \n",
    "We have some missing values in the draftRank column, and it was because the player throwing had no draft rank, so we will fill the NAN cells with 61."
   ]
  },
  {
   "cell_type": "code",
   "execution_count": 14,
   "metadata": {
    "scrolled": true
   },
   "outputs": [],
   "source": [
    "# Function that replace the field \"undrafted\" with a 0 in draftRank column\n",
    "\n",
    "database['draftRank'] = database['draftRank'].replace(np.nan, 61)\n",
    "database['draftRank'] = database['draftRank'].replace(\"undrafted\", 61)\n",
    "# pd.to_numeric(free_throws_db['draftRank'])\n",
    "database['draftRank'] = database.draftRank.apply(lambda x: int(float(x)))\n",
    "\n",
    "np.nanmax(database['draftRank'])\n",
    "\n",
    "ranks = range(1, int(np.nanmax(database['draftRank']))+1)\n",
    "success_precentage_by_rank = []\n",
    "\n",
    "def throws_per_rank(database,rank):    \n",
    "    total = len(database[database.draftRank == rank])\n",
    "    if total == 0:\n",
    "        precentage = 0.0\n",
    "    else:\n",
    "        made = len(database[(database.draftRank == rank) & (database.shot_made == 1)])\n",
    "        precentage = made/total\n",
    "    success_precentage_by_rank.append(precentage)\n",
    "\n",
    "for rank in ranks:\n",
    "    throws_per_rank(database,rank)"
   ]
  },
  {
   "cell_type": "code",
   "execution_count": 15,
   "metadata": {
    "scrolled": true
   },
   "outputs": [
    {
     "data": {
      "text/plain": [
       "Text(0, 0.5, 'Free Throws %')"
      ]
     },
     "execution_count": 15,
     "metadata": {},
     "output_type": "execute_result"
    },
    {
     "data": {
      "image/png": "[encoded data removed]",
      "text/plain": [
       "<Figure size 432x288 with 1 Axes>"
      ]
     },
     "metadata": {
      "needs_background": "light"
     },
     "output_type": "display_data"
    }
   ],
   "source": [
    "# Success throws precentage over time\n",
    "plt.plot(list(ranks),success_precentage_by_rank)\n",
    "plt.title('Success Throws percentage as function of Draft Rank  ')\n",
    "plt.ylim([0,1])\n",
    "plt.xlabel('Draft Rank')\n",
    "plt.ylabel('Free Throws %')"
   ]
  },
  {
   "cell_type": "markdown",
   "metadata": {},
   "source": [
    "As we see, there is no special trend in the graph (the FT% is between 0.7 to 0.9 for all ranks). We expected that the higher-ranked players would have better performence but we can't conclude it from the data. \n",
    "\n",
    "We have to take under consideration that the draft-rank data is not uniformly distributed, as we can see in the graph below, and is biased towared small values (the value 0 represents missing values, and in our case players who had no draft rank), so the barplot above needs to be normalized."
   ]
  },
  {
   "cell_type": "code",
   "execution_count": 16,
   "metadata": {},
   "outputs": [
    {
     "data": {
      "text/plain": [
       "<matplotlib.axes._subplots.AxesSubplot at 0x124ac2b50>"
      ]
     },
     "execution_count": 16,
     "metadata": {},
     "output_type": "execute_result"
    },
    {
     "data": {
      "image/png": "[encoded data removed]",
      "text/plain": [
       "<Figure size 432x288 with 1 Axes>"
      ]
     },
     "metadata": {
      "needs_background": "light"
     },
     "output_type": "display_data"
    }
   ],
   "source": [
    "sns.distplot(database['draftRank'])"
   ]
  },
  {
   "cell_type": "markdown",
   "metadata": {},
   "source": [
    "### The correlation between the score difference and the free-throw result\n",
    "\n",
    "We will add a column calculating the differance.\n",
    "We assume that if the difference is small in the time of the shot, the player would be more stressed and his shooting precentage would drop. "
   ]
  },
  {
   "cell_type": "code",
   "execution_count": 17,
   "metadata": {},
   "outputs": [],
   "source": [
    "difs = range(int(np.min(database['scoreDif']))+1,int(np.max(database['scoreDif']))+1)\n",
    "success_precentage_by_scoreDif = []\n",
    "\n",
    "def throws_per_dif(database,dif):    \n",
    "    total = len(database[database.scoreDif == dif])\n",
    "    if total == 0:\n",
    "        precentage = 0.0\n",
    "    else:\n",
    "        made = len(database[(database.scoreDif == dif) & (database.shot_made == 1)])\n",
    "        precentage = made/total\n",
    "    success_precentage_by_scoreDif.append(precentage)\n",
    "\n",
    "for dif in difs:\n",
    "    throws_per_dif(database,dif)"
   ]
  },
  {
   "cell_type": "code",
   "execution_count": 18,
   "metadata": {},
   "outputs": [
    {
     "data": {
      "image/png": "[encoded data removed]",
      "text/plain": [
       "<Figure size 432x288 with 1 Axes>"
      ]
     },
     "metadata": {
      "needs_background": "light"
     },
     "output_type": "display_data"
    },
    {
     "data": {
      "text/plain": [
       "(0, 15)"
      ]
     },
     "execution_count": 18,
     "metadata": {},
     "output_type": "execute_result"
    },
    {
     "data": {
      "image/png": "[encoded data removed]",
      "text/plain": [
       "<Figure size 432x288 with 1 Axes>"
      ]
     },
     "metadata": {
      "needs_background": "light"
     },
     "output_type": "display_data"
    }
   ],
   "source": [
    "# Success throws precentage over time\n",
    "plt.bar(list(difs),success_precentage_by_scoreDif)\n",
    "plt.title('Success Throws percentage as function of Score Difference')\n",
    "plt.ylim([0,1])\n",
    "plt.xlabel('Score Difference')\n",
    "plt.ylabel('Free Throws %')\n",
    "plt.show()\n",
    "plt.bar(list(difs),success_precentage_by_scoreDif)\n",
    "plt.title('Success Throws percentage as function of Score Difference')\n",
    "plt.ylim([0,1])\n",
    "plt.xlabel('Score Difference')\n",
    "plt.ylabel('Free Throws %')\n",
    "plt.xlim(0,15)"
   ]
  },
  {
   "cell_type": "markdown",
   "metadata": {},
   "source": [
    "At the 'Success Throws percentage as function of Score Difference' plot, it seems that our hypotesis that as long as the score difference gets bigger, so as the free-throw success precentaege is partly true. \n",
    "We can see a trend in the graph but it is not continuous."
   ]
  },
  {
   "cell_type": "markdown",
   "metadata": {},
   "source": [
    "### The correlation between the player position and the free-throw result\n",
    "We want to analyze if the \"Position\" feature of each player could be a helpful feature that may help our prediction model.\n",
    "Above we can see a plot showing the distribution of the FT% over the different positions."
   ]
  },
  {
   "cell_type": "code",
   "execution_count": 19,
   "metadata": {},
   "outputs": [
    {
     "data": {
      "image/png": "[encoded data removed]",
      "text/plain": [
       "<Figure size 360x360 with 1 Axes>"
      ]
     },
     "metadata": {
      "needs_background": "light"
     },
     "output_type": "display_data"
    }
   ],
   "source": [
    "ax2 = sns.catplot(x=\"Pos\", y=\"FT%\", data=database);\n",
    "#ax2 = sns.catplot(x=\"Pos\", y=\"FT%\",  kind=\"swarm\", data=database);\n",
    "ax2.set(xlabel='Player Position', ylabel='Throws Percentage')\n",
    "plt.show()"
   ]
  },
  {
   "cell_type": "markdown",
   "metadata": {},
   "source": [
    "Average FT% at each position"
   ]
  },
  {
   "cell_type": "code",
   "execution_count": 20,
   "metadata": {},
   "outputs": [
    {
     "data": {
      "text/html": [
       "<div>\n",
       "<style scoped>\n",
       "    .dataframe tbody tr th:only-of-type {\n",
       "        vertical-align: middle;\n",
       "    }\n",
       "\n",
       "    .dataframe tbody tr th {\n",
       "        vertical-align: top;\n",
       "    }\n",
       "\n",
       "    .dataframe thead th {\n",
       "        text-align: right;\n",
       "    }\n",
       "</style>\n",
       "<table border=\"1\" class=\"dataframe\">\n",
       "  <thead>\n",
       "    <tr style=\"text-align: right;\">\n",
       "      <th></th>\n",
       "      <th>FT%</th>\n",
       "    </tr>\n",
       "    <tr>\n",
       "      <th>Pos</th>\n",
       "      <th></th>\n",
       "    </tr>\n",
       "  </thead>\n",
       "  <tbody>\n",
       "    <tr>\n",
       "      <th>C</th>\n",
       "      <td>0.664836</td>\n",
       "    </tr>\n",
       "    <tr>\n",
       "      <th>PF</th>\n",
       "      <td>0.720946</td>\n",
       "    </tr>\n",
       "    <tr>\n",
       "      <th>PG</th>\n",
       "      <td>0.795977</td>\n",
       "    </tr>\n",
       "    <tr>\n",
       "      <th>SF</th>\n",
       "      <td>0.770927</td>\n",
       "    </tr>\n",
       "    <tr>\n",
       "      <th>SG</th>\n",
       "      <td>0.795559</td>\n",
       "    </tr>\n",
       "  </tbody>\n",
       "</table>\n",
       "</div>"
      ],
      "text/plain": [
       "          FT%\n",
       "Pos          \n",
       "C    0.664836\n",
       "PF   0.720946\n",
       "PG   0.795977\n",
       "SF   0.770927\n",
       "SG   0.795559"
      ]
     },
     "execution_count": 20,
     "metadata": {},
     "output_type": "execute_result"
    }
   ],
   "source": [
    "database.groupby('Pos').agg({'FT%':'mean'})"
   ]
  },
  {
   "cell_type": "markdown",
   "metadata": {},
   "source": [
    "We can see that Centers players owns the worst percentage.\n",
    "\n",
    "Point Guards and Shouting Guards players holds the best percentage over all the positions."
   ]
  },
  {
   "cell_type": "markdown",
   "metadata": {},
   "source": [
    "Next, we will check how well our dataset represents the general population of NBA Players.\n",
    "1. MSE of the FT% players achieved in their carrers and their FT% we have in the dataset."
   ]
  },
  {
   "cell_type": "markdown",
   "metadata": {},
   "source": [
    "### Our goal\n",
    "We’ll try to explore two options for prediction:\n",
    "\n",
    "•\tOffline prediction: try to predict the players succes percentage (for all kinds of throws) for the current season based on his past performance and give the coach an insight about the player. \n",
    "\n",
    "•\tOnline prediction : try to predict whether a player will hit in a certain throw. \n",
    "\n",
    "### What's next?\n",
    "\n",
    "- Extract more statistical analysis on our current data, find corralation between more than two parameters. \n",
    "- Pre-process our data in order to create an initial ML model.\n",
    "- Achieve good results on our ML model\n",
    "- Try to reduce our problem dimension/features by analyzing which features have big influence.\n",
    "- \"Engineer\" more strong features in order to achieve dimension reduction.\n",
    "- Build new ML model and achieve good results, again! YEY!\n",
    "- Explain our ML model results, when it fails and why"
   ]
  },
  {
   "cell_type": "markdown",
   "metadata": {},
   "source": [
    " ### Fitting a model\n",
    " \n",
    " We will choose the relevant columns (ommiting most of the categorical variables) from our model_database"
   ]
  },
  {
   "cell_type": "code",
   "execution_count": 21,
   "metadata": {},
   "outputs": [],
   "source": [
    "# changing the position variable from categorial variable to numeric variable:\n",
    "from preProcess import preProcess_position\n",
    "database = preProcess_position(database)\n",
    "\n",
    "# Keep small database with original FT%\n",
    "db_for_baseline_model = database[[\"FT%\",\"shot_made\"]]\n",
    "\n",
    "# changing the playoff and ShootingHand to binary variables:\n",
    "database['playoffs'] = database['playoffs'].map(lambda x : 0 if x == 'regular' else 1)\n",
    "database['ShootingHand'] = database['ShootingHand'].map(lambda x : 0 if x == 'Right' else 1)\n",
    "\n",
    "# modify the numeric variables Height and Weight:\n",
    "database['Height'] = database['Height'].map(lambda x : int(x))\n",
    "database['Weight'] = database['Weight'].map(lambda x : int(x))\n",
    "\n",
    "# as we saw earlier, we have missing data in the 'FT%' and the '3P%' columns so we will fill the NA cells with the mode of the column\n",
    "database['FT%'] = database['FT%'].fillna(database['FT%'].mode()[0])\n",
    "database['3P%'] = database['3P%'].fillna(database['FT%'].mode()[0])"
   ]
  },
  {
   "cell_type": "code",
   "execution_count": 22,
   "metadata": {},
   "outputs": [
    {
     "data": {
      "text/html": [
       "<div>\n",
       "<style scoped>\n",
       "    .dataframe tbody tr th:only-of-type {\n",
       "        vertical-align: middle;\n",
       "    }\n",
       "\n",
       "    .dataframe tbody tr th {\n",
       "        vertical-align: top;\n",
       "    }\n",
       "\n",
       "    .dataframe thead th {\n",
       "        text-align: right;\n",
       "    }\n",
       "</style>\n",
       "<table border=\"1\" class=\"dataframe\">\n",
       "  <thead>\n",
       "    <tr style=\"text-align: right;\">\n",
       "      <th></th>\n",
       "      <th>FG%</th>\n",
       "      <th>2P%</th>\n",
       "      <th>3P%</th>\n",
       "      <th>FT%</th>\n",
       "      <th>Height</th>\n",
       "      <th>Weight</th>\n",
       "      <th>draftRank</th>\n",
       "      <th>abs_min</th>\n",
       "      <th>Difference</th>\n",
       "    </tr>\n",
       "  </thead>\n",
       "  <tbody>\n",
       "    <tr>\n",
       "      <th>count</th>\n",
       "      <td>617786.000000</td>\n",
       "      <td>617786.000000</td>\n",
       "      <td>617786.000000</td>\n",
       "      <td>617786.000000</td>\n",
       "      <td>617786.000000</td>\n",
       "      <td>617786.000000</td>\n",
       "      <td>617786.000000</td>\n",
       "      <td>617786.000000</td>\n",
       "      <td>617786.000000</td>\n",
       "    </tr>\n",
       "    <tr>\n",
       "      <th>mean</th>\n",
       "      <td>0.463961</td>\n",
       "      <td>0.489447</td>\n",
       "      <td>0.297221</td>\n",
       "      <td>0.742858</td>\n",
       "      <td>200.689611</td>\n",
       "      <td>101.170698</td>\n",
       "      <td>19.872399</td>\n",
       "      <td>27.865444</td>\n",
       "      <td>0.411400</td>\n",
       "    </tr>\n",
       "    <tr>\n",
       "      <th>std</th>\n",
       "      <td>0.047091</td>\n",
       "      <td>0.039687</td>\n",
       "      <td>0.117763</td>\n",
       "      <td>0.091483</td>\n",
       "      <td>9.107146</td>\n",
       "      <td>12.606636</td>\n",
       "      <td>17.926089</td>\n",
       "      <td>14.121174</td>\n",
       "      <td>10.747354</td>\n",
       "    </tr>\n",
       "    <tr>\n",
       "      <th>min</th>\n",
       "      <td>0.000000</td>\n",
       "      <td>0.000000</td>\n",
       "      <td>0.000000</td>\n",
       "      <td>0.000000</td>\n",
       "      <td>165.000000</td>\n",
       "      <td>61.000000</td>\n",
       "      <td>1.000000</td>\n",
       "      <td>1.000000</td>\n",
       "      <td>-63.000000</td>\n",
       "    </tr>\n",
       "    <tr>\n",
       "      <th>25%</th>\n",
       "      <td>0.433000</td>\n",
       "      <td>0.466000</td>\n",
       "      <td>0.279000</td>\n",
       "      <td>0.682927</td>\n",
       "      <td>193.000000</td>\n",
       "      <td>92.000000</td>\n",
       "      <td>5.000000</td>\n",
       "      <td>16.000000</td>\n",
       "      <td>-6.000000</td>\n",
       "    </tr>\n",
       "    <tr>\n",
       "      <th>50%</th>\n",
       "      <td>0.452000</td>\n",
       "      <td>0.482000</td>\n",
       "      <td>0.335000</td>\n",
       "      <td>0.760000</td>\n",
       "      <td>203.000000</td>\n",
       "      <td>100.000000</td>\n",
       "      <td>14.000000</td>\n",
       "      <td>29.000000</td>\n",
       "      <td>1.000000</td>\n",
       "    </tr>\n",
       "    <tr>\n",
       "      <th>75%</th>\n",
       "      <td>0.493000</td>\n",
       "      <td>0.510000</td>\n",
       "      <td>0.366000</td>\n",
       "      <td>0.804384</td>\n",
       "      <td>208.000000</td>\n",
       "      <td>111.000000</td>\n",
       "      <td>29.000000</td>\n",
       "      <td>40.000000</td>\n",
       "      <td>7.000000</td>\n",
       "    </tr>\n",
       "    <tr>\n",
       "      <th>max</th>\n",
       "      <td>0.672000</td>\n",
       "      <td>0.681000</td>\n",
       "      <td>1.000000</td>\n",
       "      <td>1.000000</td>\n",
       "      <td>229.000000</td>\n",
       "      <td>147.000000</td>\n",
       "      <td>61.000000</td>\n",
       "      <td>96.000000</td>\n",
       "      <td>59.000000</td>\n",
       "    </tr>\n",
       "  </tbody>\n",
       "</table>\n",
       "</div>"
      ],
      "text/plain": [
       "                 FG%            2P%            3P%            FT%  \\\n",
       "count  617786.000000  617786.000000  617786.000000  617786.000000   \n",
       "mean        0.463961       0.489447       0.297221       0.742858   \n",
       "std         0.047091       0.039687       0.117763       0.091483   \n",
       "min         0.000000       0.000000       0.000000       0.000000   \n",
       "25%         0.433000       0.466000       0.279000       0.682927   \n",
       "50%         0.452000       0.482000       0.335000       0.760000   \n",
       "75%         0.493000       0.510000       0.366000       0.804384   \n",
       "max         0.672000       0.681000       1.000000       1.000000   \n",
       "\n",
       "              Height         Weight      draftRank        abs_min  \\\n",
       "count  617786.000000  617786.000000  617786.000000  617786.000000   \n",
       "mean      200.689611     101.170698      19.872399      27.865444   \n",
       "std         9.107146      12.606636      17.926089      14.121174   \n",
       "min       165.000000      61.000000       1.000000       1.000000   \n",
       "25%       193.000000      92.000000       5.000000      16.000000   \n",
       "50%       203.000000     100.000000      14.000000      29.000000   \n",
       "75%       208.000000     111.000000      29.000000      40.000000   \n",
       "max       229.000000     147.000000      61.000000      96.000000   \n",
       "\n",
       "          Difference  \n",
       "count  617786.000000  \n",
       "mean        0.411400  \n",
       "std        10.747354  \n",
       "min       -63.000000  \n",
       "25%        -6.000000  \n",
       "50%         1.000000  \n",
       "75%         7.000000  \n",
       "max        59.000000  "
      ]
     },
     "execution_count": 22,
     "metadata": {},
     "output_type": "execute_result"
    }
   ],
   "source": [
    "# we choose the relevant variables for our model:\n",
    "continuous_parameters = ['FG%', '2P%', '3P%', 'FT%', 'Height', 'Weight', 'draftRank','abs_min', 'Difference']\n",
    "binary_parameters = ['playoffs', 'Pos', 'ShootingHand'] \n",
    "binary_database = pd.DataFrame(database[binary_variables])\n",
    "database[continuous_parameters].describe()"
   ]
  },
  {
   "cell_type": "markdown",
   "metadata": {
    "scrolled": true
   },
   "source": [
    "For our model, we assume that our variables are normally distributed.\n",
    "We will examine this hypothesis and normalize the variables\n",
    "\n",
    "We'll plot the distribution plot of the variables 'FG%', '2P%', '3P%', 'FT%', 'Height', 'Weight', 'Difference'\n",
    "(in 3 different plots because of the scale diffrence) :"
   ]
  },
  {
   "cell_type": "code",
   "execution_count": 23,
   "metadata": {},
   "outputs": [
    {
     "data": {
      "text/plain": [
       "<matplotlib.legend.Legend at 0x124b0f890>"
      ]
     },
     "execution_count": 23,
     "metadata": {},
     "output_type": "execute_result"
    },
    {
     "data": {
      "image/png": "[encoded data removed]",
      "text/plain": [
       "<Figure size 432x288 with 1 Axes>"
      ]
     },
     "metadata": {
      "needs_background": "light"
     },
     "output_type": "display_data"
    }
   ],
   "source": [
    "sns.distplot(database['FG%'], color = 'red', label = \"FG%\") \n",
    "sns.distplot(database['2P%'], color = 'green', label = \"2P%\") \n",
    "sns.distplot(database['3P%'], color = 'orange', label = \"3P%\") \n",
    "sns.distplot(database['FT%'], color = 'blue', label = \"FT%\") \n",
    "plt.legend()"
   ]
  },
  {
   "cell_type": "code",
   "execution_count": 24,
   "metadata": {},
   "outputs": [
    {
     "data": {
      "text/plain": [
       "<matplotlib.legend.Legend at 0x12d70ef90>"
      ]
     },
     "execution_count": 24,
     "metadata": {},
     "output_type": "execute_result"
    },
    {
     "data": {
      "image/png": "[encoded data removed]",
      "text/plain": [
       "<Figure size 432x288 with 1 Axes>"
      ]
     },
     "metadata": {
      "needs_background": "light"
     },
     "output_type": "display_data"
    }
   ],
   "source": [
    "sns.distplot(database['Weight'], color = 'orange', label = \"Weight [kgs]\") \n",
    "sns.distplot(database['Height'], color = 'blue', label = \"Height [cms]\")\n",
    "plt.legend()"
   ]
  },
  {
   "cell_type": "code",
   "execution_count": 25,
   "metadata": {},
   "outputs": [
    {
     "data": {
      "text/plain": [
       "<matplotlib.axes._subplots.AxesSubplot at 0x124a7c610>"
      ]
     },
     "execution_count": 25,
     "metadata": {},
     "output_type": "execute_result"
    },
    {
     "data": {
      "image/png": "[encoded data removed]",
      "text/plain": [
       "<Figure size 432x288 with 1 Axes>"
      ]
     },
     "metadata": {
      "needs_background": "light"
     },
     "output_type": "display_data"
    }
   ],
   "source": [
    "sns.distplot(database['Difference'], color = 'blue') "
   ]
  },
  {
   "cell_type": "markdown",
   "metadata": {},
   "source": [
    "we can see that the variables are distribute close no normal.\n",
    "we'll normalise these colunms so that the mean would be 0 and the variance would be 1:"
   ]
  },
  {
   "cell_type": "code",
   "execution_count": 26,
   "metadata": {},
   "outputs": [],
   "source": [
    "from sklearn.preprocessing import StandardScaler\n",
    "sc = StandardScaler()\n",
    "\n",
    "semiNormal_parameters = ['FG%', '2P%', '3P%', 'FT%', 'Height', 'Weight', 'Difference']\n",
    "database[semiNormal_parameters] = sc.fit_transform(database[semiNormal_parameters]) "
   ]
  },
  {
   "cell_type": "code",
   "execution_count": 27,
   "metadata": {},
   "outputs": [
    {
     "data": {
      "image/png": "[encoded data removed]",
      "text/plain": [
       "<Figure size 432x288 with 1 Axes>"
      ]
     },
     "metadata": {
      "needs_background": "light"
     },
     "output_type": "display_data"
    }
   ],
   "source": [
    "sns.distplot(database['FG%'], color = 'red') \n",
    "sns.distplot(database['2P%'], color = 'green') \n",
    "sns.distplot(database['FT%'], color = 'blue') \n",
    "sns.distplot(database['3P%'], color = 'orange') \n",
    "plt.legend(labels=['FG% distribution', '2P% distribution', 'FT% distribution', '3P% distribution'])\n",
    "plt.show()"
   ]
  },
  {
   "cell_type": "code",
   "execution_count": 28,
   "metadata": {},
   "outputs": [
    {
     "data": {
      "image/png": "[encoded data removed]",
      "text/plain": [
       "<Figure size 432x288 with 1 Axes>"
      ]
     },
     "metadata": {
      "needs_background": "light"
     },
     "output_type": "display_data"
    }
   ],
   "source": [
    "sns.distplot(database['Weight'], color = 'orange') \n",
    "sns.distplot(database['Height'], color = 'blue') \n",
    "plt.legend(labels=['Weight distribution', 'Height distribution'])\n",
    "plt.show()"
   ]
  },
  {
   "cell_type": "code",
   "execution_count": 29,
   "metadata": {},
   "outputs": [
    {
     "data": {
      "image/png": "[encoded data removed]",
      "text/plain": [
       "<Figure size 432x288 with 1 Axes>"
      ]
     },
     "metadata": {
      "needs_background": "light"
     },
     "output_type": "display_data"
    }
   ],
   "source": [
    "sns.distplot(database['Difference'], color = 'blue') \n",
    "plt.legend(labels=['Difference distribution'])\n",
    "plt.show()"
   ]
  },
  {
   "cell_type": "markdown",
   "metadata": {},
   "source": [
    "In all the variables above, we got mean close to 0 and std 1. \n",
    "\n",
    "The variables 'abs_time' and 'draftRank' , doesn't distribute semi-normal, so we will normalize them using min-max normalization:\n"
   ]
  },
  {
   "cell_type": "code",
   "execution_count": 30,
   "metadata": {},
   "outputs": [
    {
     "data": {
      "image/png": "[encoded data removed]",
      "text/plain": [
       "<Figure size 432x288 with 1 Axes>"
      ]
     },
     "metadata": {
      "needs_background": "light"
     },
     "output_type": "display_data"
    }
   ],
   "source": [
    "sns.distplot(database['abs_min'], color = 'blue', label = 'abs_min distribution') \n",
    "sns.distplot(database['draftRank'], color = 'red', label = 'draftRank distribution') \n",
    "plt.legend(labels=['abs_time distribution','draftRank distribution'])\n",
    "plt.show()"
   ]
  },
  {
   "cell_type": "code",
   "execution_count": 31,
   "metadata": {},
   "outputs": [],
   "source": [
    "from sklearn.preprocessing import MinMaxScaler\n",
    "mm = MinMaxScaler()\n",
    "\n",
    "nonNormal_parameters = ['abs_min', 'draftRank']\n",
    "database[nonNormal_parameters] = mm.fit_transform(database[nonNormal_parameters])\n"
   ]
  },
  {
   "cell_type": "code",
   "execution_count": 32,
   "metadata": {},
   "outputs": [
    {
     "data": {
      "image/png": "[encoded data removed]",
      "text/plain": [
       "<Figure size 432x288 with 1 Axes>"
      ]
     },
     "metadata": {
      "needs_background": "light"
     },
     "output_type": "display_data"
    }
   ],
   "source": [
    "sns.distplot(database['abs_min'], color = 'blue', label = 'abs_min distribution') \n",
    "sns.distplot(database['draftRank'], color = 'red', label = 'draftRank distribution') \n",
    "plt.legend(labels=['abs_time distribution','draftRank distribution'])\n",
    "plt.show()"
   ]
  },
  {
   "cell_type": "code",
   "execution_count": 33,
   "metadata": {},
   "outputs": [
    {
     "data": {
      "text/html": [
       "<div>\n",
       "<style scoped>\n",
       "    .dataframe tbody tr th:only-of-type {\n",
       "        vertical-align: middle;\n",
       "    }\n",
       "\n",
       "    .dataframe tbody tr th {\n",
       "        vertical-align: top;\n",
       "    }\n",
       "\n",
       "    .dataframe thead th {\n",
       "        text-align: right;\n",
       "    }\n",
       "</style>\n",
       "<table border=\"1\" class=\"dataframe\">\n",
       "  <thead>\n",
       "    <tr style=\"text-align: right;\">\n",
       "      <th></th>\n",
       "      <th>playoffs</th>\n",
       "      <th>Pos</th>\n",
       "      <th>ShootingHand</th>\n",
       "      <th>FG%</th>\n",
       "      <th>2P%</th>\n",
       "      <th>3P%</th>\n",
       "      <th>FT%</th>\n",
       "      <th>Height</th>\n",
       "      <th>Weight</th>\n",
       "      <th>draftRank</th>\n",
       "      <th>abs_min</th>\n",
       "      <th>Difference</th>\n",
       "      <th>shot_made</th>\n",
       "    </tr>\n",
       "  </thead>\n",
       "  <tbody>\n",
       "    <tr>\n",
       "      <th>count</th>\n",
       "      <td>617786.000000</td>\n",
       "      <td>617786.000000</td>\n",
       "      <td>617786.000000</td>\n",
       "      <td>6.177860e+05</td>\n",
       "      <td>6.177860e+05</td>\n",
       "      <td>6.177860e+05</td>\n",
       "      <td>6.177860e+05</td>\n",
       "      <td>6.177860e+05</td>\n",
       "      <td>6.177860e+05</td>\n",
       "      <td>617786.000000</td>\n",
       "      <td>617786.000000</td>\n",
       "      <td>6.177860e+05</td>\n",
       "      <td>617786.000000</td>\n",
       "    </tr>\n",
       "    <tr>\n",
       "      <th>mean</th>\n",
       "      <td>0.068179</td>\n",
       "      <td>0.555441</td>\n",
       "      <td>0.093804</td>\n",
       "      <td>1.488746e-16</td>\n",
       "      <td>6.618571e-15</td>\n",
       "      <td>-4.404591e-16</td>\n",
       "      <td>-8.296677e-16</td>\n",
       "      <td>-1.135882e-15</td>\n",
       "      <td>-1.406626e-17</td>\n",
       "      <td>0.314540</td>\n",
       "      <td>0.282794</td>\n",
       "      <td>-7.222903e-18</td>\n",
       "      <td>0.756780</td>\n",
       "    </tr>\n",
       "    <tr>\n",
       "      <th>std</th>\n",
       "      <td>0.252053</td>\n",
       "      <td>0.224102</td>\n",
       "      <td>0.291557</td>\n",
       "      <td>1.000001e+00</td>\n",
       "      <td>1.000001e+00</td>\n",
       "      <td>1.000001e+00</td>\n",
       "      <td>1.000001e+00</td>\n",
       "      <td>1.000001e+00</td>\n",
       "      <td>1.000001e+00</td>\n",
       "      <td>0.298768</td>\n",
       "      <td>0.148644</td>\n",
       "      <td>1.000001e+00</td>\n",
       "      <td>0.429027</td>\n",
       "    </tr>\n",
       "    <tr>\n",
       "      <th>min</th>\n",
       "      <td>0.000000</td>\n",
       "      <td>0.200000</td>\n",
       "      <td>0.000000</td>\n",
       "      <td>-9.852348e+00</td>\n",
       "      <td>-1.233280e+01</td>\n",
       "      <td>-2.523898e+00</td>\n",
       "      <td>-8.120213e+00</td>\n",
       "      <td>-3.918861e+00</td>\n",
       "      <td>-3.186475e+00</td>\n",
       "      <td>0.000000</td>\n",
       "      <td>0.000000</td>\n",
       "      <td>-5.900192e+00</td>\n",
       "      <td>0.000000</td>\n",
       "    </tr>\n",
       "    <tr>\n",
       "      <th>25%</th>\n",
       "      <td>0.000000</td>\n",
       "      <td>0.500000</td>\n",
       "      <td>0.000000</td>\n",
       "      <td>-6.574712e-01</td>\n",
       "      <td>-5.907943e-01</td>\n",
       "      <td>-1.547287e-01</td>\n",
       "      <td>-6.551090e-01</td>\n",
       "      <td>-8.443498e-01</td>\n",
       "      <td>-7.274507e-01</td>\n",
       "      <td>0.066667</td>\n",
       "      <td>0.157895</td>\n",
       "      <td>-5.965566e-01</td>\n",
       "      <td>1.000000</td>\n",
       "    </tr>\n",
       "    <tr>\n",
       "      <th>50%</th>\n",
       "      <td>0.000000</td>\n",
       "      <td>0.500000</td>\n",
       "      <td>0.000000</td>\n",
       "      <td>-2.540008e-01</td>\n",
       "      <td>-1.876352e-01</td>\n",
       "      <td>3.208035e-01</td>\n",
       "      <td>1.873812e-01</td>\n",
       "      <td>2.536899e-01</td>\n",
       "      <td>-9.286373e-02</td>\n",
       "      <td>0.216667</td>\n",
       "      <td>0.294737</td>\n",
       "      <td>5.476704e-02</td>\n",
       "      <td>1.000000</td>\n",
       "    </tr>\n",
       "    <tr>\n",
       "      <th>75%</th>\n",
       "      <td>0.000000</td>\n",
       "      <td>0.800000</td>\n",
       "      <td>0.000000</td>\n",
       "      <td>6.166458e-01</td>\n",
       "      <td>5.178932e-01</td>\n",
       "      <td>5.840446e-01</td>\n",
       "      <td>6.725500e-01</td>\n",
       "      <td>8.027098e-01</td>\n",
       "      <td>7.796933e-01</td>\n",
       "      <td>0.466667</td>\n",
       "      <td>0.410526</td>\n",
       "      <td>6.130444e-01</td>\n",
       "      <td>1.000000</td>\n",
       "    </tr>\n",
       "    <tr>\n",
       "      <th>max</th>\n",
       "      <td>1.000000</td>\n",
       "      <td>0.800000</td>\n",
       "      <td>1.000000</td>\n",
       "      <td>4.417761e+00</td>\n",
       "      <td>4.826656e+00</td>\n",
       "      <td>5.967749e+00</td>\n",
       "      <td>2.810832e+00</td>\n",
       "      <td>3.108593e+00</td>\n",
       "      <td>3.635335e+00</td>\n",
       "      <td>1.000000</td>\n",
       "      <td>1.000000</td>\n",
       "      <td>5.451449e+00</td>\n",
       "      <td>1.000000</td>\n",
       "    </tr>\n",
       "  </tbody>\n",
       "</table>\n",
       "</div>"
      ],
      "text/plain": [
       "            playoffs            Pos   ShootingHand           FG%  \\\n",
       "count  617786.000000  617786.000000  617786.000000  6.177860e+05   \n",
       "mean        0.068179       0.555441       0.093804  1.488746e-16   \n",
       "std         0.252053       0.224102       0.291557  1.000001e+00   \n",
       "min         0.000000       0.200000       0.000000 -9.852348e+00   \n",
       "25%         0.000000       0.500000       0.000000 -6.574712e-01   \n",
       "50%         0.000000       0.500000       0.000000 -2.540008e-01   \n",
       "75%         0.000000       0.800000       0.000000  6.166458e-01   \n",
       "max         1.000000       0.800000       1.000000  4.417761e+00   \n",
       "\n",
       "                2P%           3P%           FT%        Height        Weight  \\\n",
       "count  6.177860e+05  6.177860e+05  6.177860e+05  6.177860e+05  6.177860e+05   \n",
       "mean   6.618571e-15 -4.404591e-16 -8.296677e-16 -1.135882e-15 -1.406626e-17   \n",
       "std    1.000001e+00  1.000001e+00  1.000001e+00  1.000001e+00  1.000001e+00   \n",
       "min   -1.233280e+01 -2.523898e+00 -8.120213e+00 -3.918861e+00 -3.186475e+00   \n",
       "25%   -5.907943e-01 -1.547287e-01 -6.551090e-01 -8.443498e-01 -7.274507e-01   \n",
       "50%   -1.876352e-01  3.208035e-01  1.873812e-01  2.536899e-01 -9.286373e-02   \n",
       "75%    5.178932e-01  5.840446e-01  6.725500e-01  8.027098e-01  7.796933e-01   \n",
       "max    4.826656e+00  5.967749e+00  2.810832e+00  3.108593e+00  3.635335e+00   \n",
       "\n",
       "           draftRank        abs_min    Difference      shot_made  \n",
       "count  617786.000000  617786.000000  6.177860e+05  617786.000000  \n",
       "mean        0.314540       0.282794 -7.222903e-18       0.756780  \n",
       "std         0.298768       0.148644  1.000001e+00       0.429027  \n",
       "min         0.000000       0.000000 -5.900192e+00       0.000000  \n",
       "25%         0.066667       0.157895 -5.965566e-01       1.000000  \n",
       "50%         0.216667       0.294737  5.476704e-02       1.000000  \n",
       "75%         0.466667       0.410526  6.130444e-01       1.000000  \n",
       "max         1.000000       1.000000  5.451449e+00       1.000000  "
      ]
     },
     "execution_count": 33,
     "metadata": {},
     "output_type": "execute_result"
    }
   ],
   "source": [
    "model_parameters = ['player','playoffs', 'Pos', 'ShootingHand', 'FG%', '2P%', '3P%', 'FT%', 'Height', 'Weight', 'draftRank','abs_min', 'Difference','shot_made']\n",
    "model_database = database[model_parameters]\n",
    "model_database.describe()"
   ]
  },
  {
   "cell_type": "code",
   "execution_count": 34,
   "metadata": {},
   "outputs": [
    {
     "data": {
      "text/html": [
       "<div>\n",
       "<style scoped>\n",
       "    .dataframe tbody tr th:only-of-type {\n",
       "        vertical-align: middle;\n",
       "    }\n",
       "\n",
       "    .dataframe tbody tr th {\n",
       "        vertical-align: top;\n",
       "    }\n",
       "\n",
       "    .dataframe thead th {\n",
       "        text-align: right;\n",
       "    }\n",
       "</style>\n",
       "<table border=\"1\" class=\"dataframe\">\n",
       "  <thead>\n",
       "    <tr style=\"text-align: right;\">\n",
       "      <th></th>\n",
       "      <th>player</th>\n",
       "      <th>playoffs</th>\n",
       "      <th>Pos</th>\n",
       "      <th>ShootingHand</th>\n",
       "      <th>FG%</th>\n",
       "      <th>2P%</th>\n",
       "      <th>3P%</th>\n",
       "      <th>FT%</th>\n",
       "      <th>Height</th>\n",
       "      <th>Weight</th>\n",
       "      <th>draftRank</th>\n",
       "      <th>abs_min</th>\n",
       "      <th>Difference</th>\n",
       "      <th>shot_made</th>\n",
       "    </tr>\n",
       "  </thead>\n",
       "  <tbody>\n",
       "    <tr>\n",
       "      <th>0</th>\n",
       "      <td>Andrew Bynum</td>\n",
       "      <td>0</td>\n",
       "      <td>0.2</td>\n",
       "      <td>0</td>\n",
       "      <td>1.954469</td>\n",
       "      <td>1.702173</td>\n",
       "      <td>-1.581325</td>\n",
       "      <td>-4.881385</td>\n",
       "      <td>1.351730</td>\n",
       "      <td>2.207514</td>\n",
       "      <td>0.150000</td>\n",
       "      <td>0.000000</td>\n",
       "      <td>0.054767</td>\n",
       "      <td>1</td>\n",
       "    </tr>\n",
       "    <tr>\n",
       "      <th>1</th>\n",
       "      <td>Andrew Bynum</td>\n",
       "      <td>0</td>\n",
       "      <td>0.2</td>\n",
       "      <td>0</td>\n",
       "      <td>1.954469</td>\n",
       "      <td>1.702173</td>\n",
       "      <td>-1.581325</td>\n",
       "      <td>-4.881385</td>\n",
       "      <td>1.351730</td>\n",
       "      <td>2.207514</td>\n",
       "      <td>0.150000</td>\n",
       "      <td>0.000000</td>\n",
       "      <td>0.147813</td>\n",
       "      <td>1</td>\n",
       "    </tr>\n",
       "    <tr>\n",
       "      <th>2</th>\n",
       "      <td>Andrew Bynum</td>\n",
       "      <td>0</td>\n",
       "      <td>0.2</td>\n",
       "      <td>0</td>\n",
       "      <td>1.954469</td>\n",
       "      <td>1.702173</td>\n",
       "      <td>-1.581325</td>\n",
       "      <td>-4.881385</td>\n",
       "      <td>1.351730</td>\n",
       "      <td>2.207514</td>\n",
       "      <td>0.150000</td>\n",
       "      <td>0.042105</td>\n",
       "      <td>-0.596557</td>\n",
       "      <td>1</td>\n",
       "    </tr>\n",
       "    <tr>\n",
       "      <th>3</th>\n",
       "      <td>Andrew Bynum</td>\n",
       "      <td>0</td>\n",
       "      <td>0.2</td>\n",
       "      <td>0</td>\n",
       "      <td>1.954469</td>\n",
       "      <td>1.702173</td>\n",
       "      <td>-1.581325</td>\n",
       "      <td>-4.881385</td>\n",
       "      <td>1.351730</td>\n",
       "      <td>2.207514</td>\n",
       "      <td>0.150000</td>\n",
       "      <td>0.042105</td>\n",
       "      <td>-0.596557</td>\n",
       "      <td>0</td>\n",
       "    </tr>\n",
       "    <tr>\n",
       "      <th>4</th>\n",
       "      <td>Shawn Marion</td>\n",
       "      <td>0</td>\n",
       "      <td>0.5</td>\n",
       "      <td>0</td>\n",
       "      <td>0.425528</td>\n",
       "      <td>0.593486</td>\n",
       "      <td>0.286837</td>\n",
       "      <td>0.984793</td>\n",
       "      <td>0.034082</td>\n",
       "      <td>-0.172187</td>\n",
       "      <td>0.133333</td>\n",
       "      <td>0.042105</td>\n",
       "      <td>0.799137</td>\n",
       "      <td>1</td>\n",
       "    </tr>\n",
       "  </tbody>\n",
       "</table>\n",
       "</div>"
      ],
      "text/plain": [
       "         player  playoffs  Pos  ShootingHand       FG%       2P%       3P%  \\\n",
       "0  Andrew Bynum         0  0.2             0  1.954469  1.702173 -1.581325   \n",
       "1  Andrew Bynum         0  0.2             0  1.954469  1.702173 -1.581325   \n",
       "2  Andrew Bynum         0  0.2             0  1.954469  1.702173 -1.581325   \n",
       "3  Andrew Bynum         0  0.2             0  1.954469  1.702173 -1.581325   \n",
       "4  Shawn Marion         0  0.5             0  0.425528  0.593486  0.286837   \n",
       "\n",
       "        FT%    Height    Weight  draftRank   abs_min  Difference  shot_made  \n",
       "0 -4.881385  1.351730  2.207514   0.150000  0.000000    0.054767          1  \n",
       "1 -4.881385  1.351730  2.207514   0.150000  0.000000    0.147813          1  \n",
       "2 -4.881385  1.351730  2.207514   0.150000  0.042105   -0.596557          1  \n",
       "3 -4.881385  1.351730  2.207514   0.150000  0.042105   -0.596557          0  \n",
       "4  0.984793  0.034082 -0.172187   0.133333  0.042105    0.799137          1  "
      ]
     },
     "execution_count": 34,
     "metadata": {},
     "output_type": "execute_result"
    }
   ],
   "source": [
    "model_database.head(5)"
   ]
  },
  {
   "cell_type": "markdown",
   "metadata": {},
   "source": [
    "## Baseline Model\n",
    "Predicit free-throw success only with FT% feature. No learning process or algorithm is used here.\n",
    "Threshold classificator, FT% over 0.5 will be predicted as 1, else 0."
   ]
  },
  {
   "cell_type": "code",
   "execution_count": 35,
   "metadata": {},
   "outputs": [
    {
     "name": "stdout",
     "output_type": "stream",
     "text": [
      "              precision    recall  f1-score   support\n",
      "\n",
      "           0       0.32      0.12      0.18    150258\n",
      "           1       0.76      0.92      0.83    467528\n",
      "\n",
      "    accuracy                           0.72    617786\n",
      "   macro avg       0.54      0.52      0.50    617786\n",
      "weighted avg       0.66      0.72      0.67    617786\n",
      "\n"
     ]
    }
   ],
   "source": [
    "## Baseline model\n",
    "from sklearn import metrics\n",
    "\n",
    "baseline_predict = db_for_baseline_model[\"FT%\"].apply(lambda x: 1 if x>=0.5 else 0)\n",
    "expected = database.shot_made\n",
    "print(metrics.classification_report(expected, baseline_predict))"
   ]
  },
  {
   "cell_type": "markdown",
   "metadata": {},
   "source": [
    "## Logisitic Regression\n"
   ]
  },
  {
   "cell_type": "code",
   "execution_count": 36,
   "metadata": {},
   "outputs": [],
   "source": [
    "v = model_database.player.value_counts()\n",
    "log_reg_database = model_database[model_database.player.isin(v.index[v.gt(200)])] ## leave only players with more than 200 games.\n"
   ]
  },
  {
   "cell_type": "code",
   "execution_count": 37,
   "metadata": {},
   "outputs": [
    {
     "name": "stdout",
     "output_type": "stream",
     "text": [
      "              precision    recall  f1-score   support\n",
      "\n",
      "           0       0.53      0.03      0.06     46308\n",
      "           1       0.76      0.99      0.86    146877\n",
      "\n",
      "    accuracy                           0.76    193185\n",
      "   macro avg       0.65      0.51      0.46    193185\n",
      "weighted avg       0.71      0.76      0.67    193185\n",
      "\n"
     ]
    }
   ],
   "source": [
    "from sklearn.model_selection import train_test_split\n",
    "from sklearn import linear_model\n",
    "from sklearn import metrics\n",
    "v = model_database.player.value_counts()\n",
    "log_reg_database = model_database[model_database.player.isin(v.index[v.gt(200)])] ## leave only players with more than 200 games.\n",
    "logreg = linear_model.LogisticRegression(C=1e5)\n",
    "Y = log_reg_database['shot_made']\n",
    "X = log_reg_database.drop(columns=['shot_made','player'])\n",
    "X_train, X_test, y_train, y_test = train_test_split(X, Y, test_size=0.33, random_state=42)\n",
    "\n",
    "logreg.fit(X_train.values, y_train.values)\n",
    "predictions = logreg.predict(X_test.values)\n",
    "predicted_probs = logreg.predict_proba(X_test.values)\n",
    "\n",
    "print(metrics.classification_report(y_test, predictions))"
   ]
  },
  {
   "cell_type": "markdown",
   "metadata": {},
   "source": [
    "## Linear SVM Model"
   ]
  },
  {
   "cell_type": "code",
   "execution_count": 42,
   "metadata": {},
   "outputs": [],
   "source": [
    "from sklearn.model_selection import train_test_split\n",
    "\n",
    "v = model_database.player.value_counts()\n",
    "linear_svm_database = model_database[model_database.player.isin(v.index[v.gt(200)])] ## leave only players with more than 200 games.\n",
    "#linear_svm_database = linear_svm_database.loc[linear_svm_database['player'] == 'LeBron James']\n",
    "linear_svm_database = linear_svm_database\n",
    "Y = linear_svm_database['shot_made']\n",
    "X = linear_svm_database.drop(columns=['shot_made','player'])\n",
    "X_train, X_test, y_train, y_test = train_test_split(X, Y, test_size=0.33, random_state=42)"
   ]
  },
  {
   "cell_type": "code",
   "execution_count": 43,
   "metadata": {},
   "outputs": [
    {
     "name": "stdout",
     "output_type": "stream",
     "text": [
      "(392224, 12)\n",
      "hi0\n",
      "[LibSVM]Training DONE!\n",
      "              precision    recall  f1-score   support\n",
      "\n",
      "           0       0.33      0.44      0.38     46308\n",
      "           1       0.80      0.72      0.76    146877\n",
      "\n",
      "    accuracy                           0.65    193185\n",
      "   macro avg       0.57      0.58      0.57    193185\n",
      "weighted avg       0.69      0.65      0.67    193185\n",
      "\n"
     ]
    }
   ],
   "source": [
    "## Linear SVM Model\n",
    "from sklearn.svm import SVC\n",
    "print(X_train.shape)\n",
    "input('hi')\n",
    "linear_svm_model = SVC(kernel='linear', class_weight='balanced',verbose=True,C=1)\n",
    "linear_svm_model.fit(X_train.values, y_train.values)\n",
    "print(\"Training DONE!\")\n",
    "predictions = linear_svm_model.predict(X_test.values)\n",
    "print(metrics.classification_report(y_test, predictions))"
   ]
  },
  {
   "cell_type": "code",
   "execution_count": null,
   "metadata": {},
   "outputs": [],
   "source": []
  },
  {
   "cell_type": "code",
   "execution_count": null,
   "metadata": {},
   "outputs": [],
   "source": [
    "from preProcess import run_PCA\n",
    "n = 12\n"
   ]
  }
 ],
 "metadata": {
  "kernelspec": {
   "display_name": "Python 3",
   "language": "python",
   "name": "python3"
  },
  "language_info": {
   "codemirror_mode": {
    "name": "ipython",
    "version": 3
   },
   "file_extension": ".py",
   "mimetype": "text/x-python",
   "name": "python",
   "nbconvert_exporter": "python",
   "pygments_lexer": "ipython3",
   "version": "3.6.4"
  }
 },
 "nbformat": 4,
 "nbformat_minor": 2
}
