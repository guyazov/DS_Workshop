{
 "cells": [
  {
   "cell_type": "markdown",
   "metadata": {},
   "source": [
    "# Data Science Workshop\n",
    "# NBA Free Throws Prediction"
   ]
  },
  {
   "cell_type": "markdown",
   "metadata": {},
   "source": [
    "![title](img/free_throw_img.jpg)"
   ]
  },
  {
   "cell_type": "markdown",
   "metadata": {},
   "source": [
    "## Data preparation and cleaning"
   ]
  },
  {
   "cell_type": "markdown",
   "metadata": {},
   "source": [
    "## Import Python Libraries"
   ]
  },
  {
   "cell_type": "code",
   "execution_count": 32,
   "metadata": {},
   "outputs": [],
   "source": [
    "import numpy as np\n",
    "import matplotlib.pyplot as plt\n",
    "import pandas as pd\n",
    "import seaborn as sns\n",
    "%matplotlib inline"
   ]
  },
  {
   "cell_type": "markdown",
   "metadata": {},
   "source": [
    "\n",
    "## Reading the Original Dataset\n"
   ]
  },
  {
   "cell_type": "code",
   "execution_count": 26,
   "metadata": {},
   "outputs": [
    {
     "data": {
      "text/html": [
       "<div>\n",
       "<style scoped>\n",
       "    .dataframe tbody tr th:only-of-type {\n",
       "        vertical-align: middle;\n",
       "    }\n",
       "\n",
       "    .dataframe tbody tr th {\n",
       "        vertical-align: top;\n",
       "    }\n",
       "\n",
       "    .dataframe thead th {\n",
       "        text-align: right;\n",
       "    }\n",
       "</style>\n",
       "<table border=\"1\" class=\"dataframe\">\n",
       "  <thead>\n",
       "    <tr style=\"text-align: right;\">\n",
       "      <th></th>\n",
       "      <th>end_result</th>\n",
       "      <th>game</th>\n",
       "      <th>game_id</th>\n",
       "      <th>period</th>\n",
       "      <th>play</th>\n",
       "      <th>player</th>\n",
       "      <th>playoffs</th>\n",
       "      <th>score</th>\n",
       "      <th>season</th>\n",
       "      <th>shot_made</th>\n",
       "      <th>time</th>\n",
       "    </tr>\n",
       "  </thead>\n",
       "  <tbody>\n",
       "    <tr>\n",
       "      <td>0</td>\n",
       "      <td>106 - 114</td>\n",
       "      <td>PHX - LAL</td>\n",
       "      <td>261031013</td>\n",
       "      <td>1</td>\n",
       "      <td>Andrew Bynum makes free throw 1 of 2</td>\n",
       "      <td>Andrew Bynum</td>\n",
       "      <td>regular</td>\n",
       "      <td>0 - 1</td>\n",
       "      <td>2006 - 2007</td>\n",
       "      <td>1</td>\n",
       "      <td>11:45</td>\n",
       "    </tr>\n",
       "    <tr>\n",
       "      <td>1</td>\n",
       "      <td>106 - 114</td>\n",
       "      <td>PHX - LAL</td>\n",
       "      <td>261031013</td>\n",
       "      <td>1</td>\n",
       "      <td>Andrew Bynum makes free throw 2 of 2</td>\n",
       "      <td>Andrew Bynum</td>\n",
       "      <td>regular</td>\n",
       "      <td>0 - 2</td>\n",
       "      <td>2006 - 2007</td>\n",
       "      <td>1</td>\n",
       "      <td>11:45</td>\n",
       "    </tr>\n",
       "    <tr>\n",
       "      <td>2</td>\n",
       "      <td>106 - 114</td>\n",
       "      <td>PHX - LAL</td>\n",
       "      <td>261031013</td>\n",
       "      <td>1</td>\n",
       "      <td>Andrew Bynum makes free throw 1 of 2</td>\n",
       "      <td>Andrew Bynum</td>\n",
       "      <td>regular</td>\n",
       "      <td>18-Dec</td>\n",
       "      <td>2006 - 2007</td>\n",
       "      <td>1</td>\n",
       "      <td>7:26</td>\n",
       "    </tr>\n",
       "    <tr>\n",
       "      <td>3</td>\n",
       "      <td>106 - 114</td>\n",
       "      <td>PHX - LAL</td>\n",
       "      <td>261031013</td>\n",
       "      <td>1</td>\n",
       "      <td>Andrew Bynum misses free throw 2 of 2</td>\n",
       "      <td>Andrew Bynum</td>\n",
       "      <td>regular</td>\n",
       "      <td>18-Dec</td>\n",
       "      <td>2006 - 2007</td>\n",
       "      <td>0</td>\n",
       "      <td>7:26</td>\n",
       "    </tr>\n",
       "    <tr>\n",
       "      <td>4</td>\n",
       "      <td>106 - 114</td>\n",
       "      <td>PHX - LAL</td>\n",
       "      <td>261031013</td>\n",
       "      <td>1</td>\n",
       "      <td>Shawn Marion makes free throw 1 of 1</td>\n",
       "      <td>Shawn Marion</td>\n",
       "      <td>regular</td>\n",
       "      <td>21-Dec</td>\n",
       "      <td>2006 - 2007</td>\n",
       "      <td>1</td>\n",
       "      <td>7:18</td>\n",
       "    </tr>\n",
       "    <tr>\n",
       "      <td>5</td>\n",
       "      <td>106 - 114</td>\n",
       "      <td>PHX - LAL</td>\n",
       "      <td>261031013</td>\n",
       "      <td>1</td>\n",
       "      <td>Amare Stoudemire makes free throw 1 of 2</td>\n",
       "      <td>Amare Stoudemire</td>\n",
       "      <td>regular</td>\n",
       "      <td>33 - 20</td>\n",
       "      <td>2006 - 2007</td>\n",
       "      <td>1</td>\n",
       "      <td>3:15</td>\n",
       "    </tr>\n",
       "    <tr>\n",
       "      <td>6</td>\n",
       "      <td>106 - 114</td>\n",
       "      <td>PHX - LAL</td>\n",
       "      <td>261031013</td>\n",
       "      <td>1</td>\n",
       "      <td>Amare Stoudemire makes free throw 2 of 2</td>\n",
       "      <td>Amare Stoudemire</td>\n",
       "      <td>regular</td>\n",
       "      <td>34 - 20</td>\n",
       "      <td>2006 - 2007</td>\n",
       "      <td>1</td>\n",
       "      <td>3:15</td>\n",
       "    </tr>\n",
       "    <tr>\n",
       "      <td>7</td>\n",
       "      <td>106 - 114</td>\n",
       "      <td>PHX - LAL</td>\n",
       "      <td>261031013</td>\n",
       "      <td>2</td>\n",
       "      <td>Leandro Barbosa misses free throw 1 of 2</td>\n",
       "      <td>Leandro Barbosa</td>\n",
       "      <td>regular</td>\n",
       "      <td>43 - 29</td>\n",
       "      <td>2006 - 2007</td>\n",
       "      <td>0</td>\n",
       "      <td>10:52</td>\n",
       "    </tr>\n",
       "    <tr>\n",
       "      <td>8</td>\n",
       "      <td>106 - 114</td>\n",
       "      <td>PHX - LAL</td>\n",
       "      <td>261031013</td>\n",
       "      <td>2</td>\n",
       "      <td>Leandro Barbosa makes free throw 2 of 2</td>\n",
       "      <td>Leandro Barbosa</td>\n",
       "      <td>regular</td>\n",
       "      <td>44 - 29</td>\n",
       "      <td>2006 - 2007</td>\n",
       "      <td>1</td>\n",
       "      <td>10:52</td>\n",
       "    </tr>\n",
       "    <tr>\n",
       "      <td>9</td>\n",
       "      <td>106 - 114</td>\n",
       "      <td>PHX - LAL</td>\n",
       "      <td>261031013</td>\n",
       "      <td>2</td>\n",
       "      <td>Lamar Odom makes free throw 1 of 2</td>\n",
       "      <td>Lamar Odom</td>\n",
       "      <td>regular</td>\n",
       "      <td>44 - 30</td>\n",
       "      <td>2006 - 2007</td>\n",
       "      <td>1</td>\n",
       "      <td>10:37</td>\n",
       "    </tr>\n",
       "  </tbody>\n",
       "</table>\n",
       "</div>"
      ],
      "text/plain": [
       "  end_result       game    game_id  period  \\\n",
       "0  106 - 114  PHX - LAL  261031013       1   \n",
       "1  106 - 114  PHX - LAL  261031013       1   \n",
       "2  106 - 114  PHX - LAL  261031013       1   \n",
       "3  106 - 114  PHX - LAL  261031013       1   \n",
       "4  106 - 114  PHX - LAL  261031013       1   \n",
       "5  106 - 114  PHX - LAL  261031013       1   \n",
       "6  106 - 114  PHX - LAL  261031013       1   \n",
       "7  106 - 114  PHX - LAL  261031013       2   \n",
       "8  106 - 114  PHX - LAL  261031013       2   \n",
       "9  106 - 114  PHX - LAL  261031013       2   \n",
       "\n",
       "                                       play            player playoffs  \\\n",
       "0      Andrew Bynum makes free throw 1 of 2      Andrew Bynum  regular   \n",
       "1      Andrew Bynum makes free throw 2 of 2      Andrew Bynum  regular   \n",
       "2      Andrew Bynum makes free throw 1 of 2      Andrew Bynum  regular   \n",
       "3     Andrew Bynum misses free throw 2 of 2      Andrew Bynum  regular   \n",
       "4      Shawn Marion makes free throw 1 of 1      Shawn Marion  regular   \n",
       "5  Amare Stoudemire makes free throw 1 of 2  Amare Stoudemire  regular   \n",
       "6  Amare Stoudemire makes free throw 2 of 2  Amare Stoudemire  regular   \n",
       "7  Leandro Barbosa misses free throw 1 of 2   Leandro Barbosa  regular   \n",
       "8   Leandro Barbosa makes free throw 2 of 2   Leandro Barbosa  regular   \n",
       "9        Lamar Odom makes free throw 1 of 2        Lamar Odom  regular   \n",
       "\n",
       "     score       season  shot_made   time  \n",
       "0    0 - 1  2006 - 2007          1  11:45  \n",
       "1    0 - 2  2006 - 2007          1  11:45  \n",
       "2   18-Dec  2006 - 2007          1   7:26  \n",
       "3   18-Dec  2006 - 2007          0   7:26  \n",
       "4   21-Dec  2006 - 2007          1   7:18  \n",
       "5  33 - 20  2006 - 2007          1   3:15  \n",
       "6  34 - 20  2006 - 2007          1   3:15  \n",
       "7  43 - 29  2006 - 2007          0  10:52  \n",
       "8  44 - 29  2006 - 2007          1  10:52  \n",
       "9  44 - 30  2006 - 2007          1  10:37  "
      ]
     },
     "execution_count": 26,
     "metadata": {},
     "output_type": "execute_result"
    }
   ],
   "source": [
    "free_throws_db = pd.read_csv('free_throws.csv')\n",
    "free_throws_db.drop_duplicates()\n",
    "free_throws_db.head(10)"
   ]
  },
  {
   "cell_type": "markdown",
   "metadata": {},
   "source": [
    "Describition of dataset:\n",
    "- end_result: host total score - guest total score\n",
    "- game: host team vs guest team\n",
    "- game_id: id of specific game\n",
    "- period: which quarter\n",
    "- play: who make free throw, make or miss free throw\n",
    "- player: player name\n",
    "- playoffs: whether a playoff game or regular game\n",
    "- score: host team score - guest team score at that time\n",
    "- season: NBA season\n",
    "- shot_made: whether player got the free throw\n",
    "- time: time left in that quarter"
   ]
  },
  {
   "cell_type": "code",
   "execution_count": 27,
   "metadata": {},
   "outputs": [
    {
     "name": "stdout",
     "output_type": "stream",
     "text": [
      "Number of free throws in database: 618019\n",
      "Number of games in database: 12874\n",
      "Games distribution:\n"
     ]
    },
    {
     "data": {
      "text/plain": [
       "regular     575893\n",
       "playoffs     42126\n",
       "Name: playoffs, dtype: int64"
      ]
     },
     "execution_count": 27,
     "metadata": {},
     "output_type": "execute_result"
    }
   ],
   "source": [
    "print(\"Number of free throws in database: %d\"%(free_throws_db.shape[0]))\n",
    "print(\"Number of games in database: {}\".format(free_throws_db.game_id.unique().size))\n",
    "print(\"Games distribution:\")\n",
    "free_throws_db['playoffs'].value_counts()"
   ]
  },
  {
   "cell_type": "markdown",
   "metadata": {},
   "source": [
    "## Collecting more data from internet\n",
    "\n",
    "In order to expand our dataset, we decided to use an open source python library PandasBasketball, and use a webscrapper in order to get more players stats from https://www.basketball-reference.com website"
   ]
  },
  {
   "cell_type": "code",
   "execution_count": 33,
   "metadata": {},
   "outputs": [
    {
     "ename": "ModuleNotFoundError",
     "evalue": "No module named 'PandasBasketball'",
     "output_type": "error",
     "traceback": [
      "\u001b[1;31m---------------------------------------------------------------------------\u001b[0m",
      "\u001b[1;31mModuleNotFoundError\u001b[0m                       Traceback (most recent call last)",
      "\u001b[1;32m<ipython-input-33-f0e5873435e3>\u001b[0m in \u001b[0;36m<module>\u001b[1;34m\u001b[0m\n\u001b[1;32m----> 1\u001b[1;33m \u001b[1;32mfrom\u001b[0m \u001b[0mtools\u001b[0m \u001b[1;32mimport\u001b[0m \u001b[0mget_player_stats\u001b[0m\u001b[1;33m\u001b[0m\u001b[1;33m\u001b[0m\u001b[0m\n\u001b[0m\u001b[0;32m      2\u001b[0m \u001b[1;32mimport\u001b[0m \u001b[0mwarnings\u001b[0m\u001b[1;33m\u001b[0m\u001b[1;33m\u001b[0m\u001b[0m\n\u001b[0;32m      3\u001b[0m \u001b[0mwarnings\u001b[0m\u001b[1;33m.\u001b[0m\u001b[0mfilterwarnings\u001b[0m\u001b[1;33m(\u001b[0m\u001b[1;34m\"ignore\"\u001b[0m\u001b[1;33m,\u001b[0m \u001b[0mcategory\u001b[0m\u001b[1;33m=\u001b[0m\u001b[0mUserWarning\u001b[0m\u001b[1;33m,\u001b[0m \u001b[0mmodule\u001b[0m\u001b[1;33m=\u001b[0m\u001b[1;34m'BeatifulSoup'\u001b[0m\u001b[1;33m)\u001b[0m\u001b[1;33m\u001b[0m\u001b[1;33m\u001b[0m\u001b[0m\n\u001b[0;32m      4\u001b[0m \u001b[0mdataFrame\u001b[0m \u001b[1;33m=\u001b[0m \u001b[0mget_player_stats\u001b[0m\u001b[1;33m(\u001b[0m\u001b[1;34m\"Lebron James\"\u001b[0m\u001b[1;33m)\u001b[0m\u001b[1;33m\u001b[0m\u001b[1;33m\u001b[0m\u001b[0m\n\u001b[0;32m      5\u001b[0m \u001b[0mprint\u001b[0m\u001b[1;33m(\u001b[0m\u001b[0mdataFrame\u001b[0m\u001b[1;33m.\u001b[0m\u001b[0mcolumns\u001b[0m\u001b[1;33m)\u001b[0m\u001b[1;33m\u001b[0m\u001b[1;33m\u001b[0m\u001b[0m\n",
      "\u001b[1;32m~\\DS_Workshop\\tools.py\u001b[0m in \u001b[0;36m<module>\u001b[1;34m\u001b[0m\n\u001b[1;32m----> 1\u001b[1;33m \u001b[1;32mfrom\u001b[0m \u001b[0mPandasBasketball\u001b[0m \u001b[1;32mimport\u001b[0m \u001b[0mpandasbasketball\u001b[0m \u001b[1;32mas\u001b[0m \u001b[0mpb\u001b[0m\u001b[1;33m\u001b[0m\u001b[1;33m\u001b[0m\u001b[0m\n\u001b[0m\u001b[0;32m      2\u001b[0m \u001b[1;32mimport\u001b[0m \u001b[0mPandasBasketball\u001b[0m\u001b[1;33m.\u001b[0m\u001b[0merrors\u001b[0m\u001b[1;33m\u001b[0m\u001b[1;33m\u001b[0m\u001b[0m\n\u001b[0;32m      3\u001b[0m \u001b[1;32mimport\u001b[0m \u001b[0mrequests\u001b[0m\u001b[1;33m\u001b[0m\u001b[1;33m\u001b[0m\u001b[0m\n\u001b[0;32m      4\u001b[0m \u001b[1;32mfrom\u001b[0m \u001b[0mbs4\u001b[0m \u001b[1;32mimport\u001b[0m \u001b[0mBeautifulSoup\u001b[0m\u001b[1;33m,\u001b[0m \u001b[0mNavigableString\u001b[0m\u001b[1;33m\u001b[0m\u001b[1;33m\u001b[0m\u001b[0m\n\u001b[0;32m      5\u001b[0m \u001b[1;32mimport\u001b[0m \u001b[0mpandas\u001b[0m \u001b[1;32mas\u001b[0m \u001b[0mpd\u001b[0m\u001b[1;33m\u001b[0m\u001b[1;33m\u001b[0m\u001b[0m\n",
      "\u001b[1;31mModuleNotFoundError\u001b[0m: No module named 'PandasBasketball'"
     ]
    }
   ],
   "source": [
    "from tools import get_player_stats\n",
    "import warnings\n",
    "warnings.filterwarnings(\"ignore\", category=UserWarning, module='BeatifulSoup')\n",
    "dataFrame = get_player_stats(\"Lebron James\")\n",
    "print(dataFrame.columns)\n",
    "dataFrame.head(20)"
   ]
  },
  {
   "cell_type": "code",
   "execution_count": 35,
   "metadata": {
    "scrolled": true
   },
   "outputs": [
    {
     "data": {
      "text/html": [
       "<div>\n",
       "<style scoped>\n",
       "    .dataframe tbody tr th:only-of-type {\n",
       "        vertical-align: middle;\n",
       "    }\n",
       "\n",
       "    .dataframe tbody tr th {\n",
       "        vertical-align: top;\n",
       "    }\n",
       "\n",
       "    .dataframe thead th {\n",
       "        text-align: right;\n",
       "    }\n",
       "</style>\n",
       "<table border=\"1\" class=\"dataframe\">\n",
       "  <thead>\n",
       "    <tr style=\"text-align: right;\">\n",
       "      <th></th>\n",
       "      <th>Unnamed: 0</th>\n",
       "      <th>end_result</th>\n",
       "      <th>game</th>\n",
       "      <th>game_id</th>\n",
       "      <th>period</th>\n",
       "      <th>play</th>\n",
       "      <th>player</th>\n",
       "      <th>playoffs</th>\n",
       "      <th>score</th>\n",
       "      <th>season</th>\n",
       "      <th>...</th>\n",
       "      <th>time</th>\n",
       "      <th>FG%</th>\n",
       "      <th>2P%</th>\n",
       "      <th>3P%</th>\n",
       "      <th>FT%</th>\n",
       "      <th>Height</th>\n",
       "      <th>Weight</th>\n",
       "      <th>draftRank</th>\n",
       "      <th>Pos</th>\n",
       "      <th>ShootingHand</th>\n",
       "    </tr>\n",
       "  </thead>\n",
       "  <tbody>\n",
       "    <tr>\n",
       "      <td>0</td>\n",
       "      <td>0</td>\n",
       "      <td>106 - 114</td>\n",
       "      <td>PHX - LAL</td>\n",
       "      <td>261031013</td>\n",
       "      <td>1</td>\n",
       "      <td>Andrew Bynum makes free throw 1 of 2</td>\n",
       "      <td>Andrew Bynum</td>\n",
       "      <td>regular</td>\n",
       "      <td>0 - 1</td>\n",
       "      <td>2006 - 2007</td>\n",
       "      <td>...</td>\n",
       "      <td>11:45</td>\n",
       "      <td>0.556</td>\n",
       "      <td>0.557</td>\n",
       "      <td>0.111</td>\n",
       "      <td>0.690</td>\n",
       "      <td>213</td>\n",
       "      <td>129</td>\n",
       "      <td>10.0</td>\n",
       "      <td>C</td>\n",
       "      <td>Right</td>\n",
       "    </tr>\n",
       "    <tr>\n",
       "      <td>1</td>\n",
       "      <td>1</td>\n",
       "      <td>106 - 114</td>\n",
       "      <td>PHX - LAL</td>\n",
       "      <td>261031013</td>\n",
       "      <td>1</td>\n",
       "      <td>Andrew Bynum makes free throw 2 of 2</td>\n",
       "      <td>Andrew Bynum</td>\n",
       "      <td>regular</td>\n",
       "      <td>0 - 2</td>\n",
       "      <td>2006 - 2007</td>\n",
       "      <td>...</td>\n",
       "      <td>11:45</td>\n",
       "      <td>0.556</td>\n",
       "      <td>0.557</td>\n",
       "      <td>0.111</td>\n",
       "      <td>0.690</td>\n",
       "      <td>213</td>\n",
       "      <td>129</td>\n",
       "      <td>10.0</td>\n",
       "      <td>C</td>\n",
       "      <td>Right</td>\n",
       "    </tr>\n",
       "    <tr>\n",
       "      <td>2</td>\n",
       "      <td>2</td>\n",
       "      <td>106 - 114</td>\n",
       "      <td>PHX - LAL</td>\n",
       "      <td>261031013</td>\n",
       "      <td>1</td>\n",
       "      <td>Andrew Bynum makes free throw 1 of 2</td>\n",
       "      <td>Andrew Bynum</td>\n",
       "      <td>regular</td>\n",
       "      <td>18-12</td>\n",
       "      <td>2006 - 2007</td>\n",
       "      <td>...</td>\n",
       "      <td>07:26</td>\n",
       "      <td>0.556</td>\n",
       "      <td>0.557</td>\n",
       "      <td>0.111</td>\n",
       "      <td>0.690</td>\n",
       "      <td>213</td>\n",
       "      <td>129</td>\n",
       "      <td>10.0</td>\n",
       "      <td>C</td>\n",
       "      <td>Right</td>\n",
       "    </tr>\n",
       "    <tr>\n",
       "      <td>3</td>\n",
       "      <td>3</td>\n",
       "      <td>106 - 114</td>\n",
       "      <td>PHX - LAL</td>\n",
       "      <td>261031013</td>\n",
       "      <td>1</td>\n",
       "      <td>Andrew Bynum misses free throw 2 of 2</td>\n",
       "      <td>Andrew Bynum</td>\n",
       "      <td>regular</td>\n",
       "      <td>18-12</td>\n",
       "      <td>2006 - 2007</td>\n",
       "      <td>...</td>\n",
       "      <td>07:26</td>\n",
       "      <td>0.556</td>\n",
       "      <td>0.557</td>\n",
       "      <td>0.111</td>\n",
       "      <td>0.690</td>\n",
       "      <td>213</td>\n",
       "      <td>129</td>\n",
       "      <td>10.0</td>\n",
       "      <td>C</td>\n",
       "      <td>Right</td>\n",
       "    </tr>\n",
       "    <tr>\n",
       "      <td>4</td>\n",
       "      <td>4</td>\n",
       "      <td>106 - 114</td>\n",
       "      <td>PHX - LAL</td>\n",
       "      <td>261031013</td>\n",
       "      <td>1</td>\n",
       "      <td>Shawn Marion makes free throw 1 of 1</td>\n",
       "      <td>Shawn Marion</td>\n",
       "      <td>regular</td>\n",
       "      <td>21-12</td>\n",
       "      <td>2006 - 2007</td>\n",
       "      <td>...</td>\n",
       "      <td>07:18</td>\n",
       "      <td>0.484</td>\n",
       "      <td>0.513</td>\n",
       "      <td>0.331</td>\n",
       "      <td>0.810</td>\n",
       "      <td>201</td>\n",
       "      <td>99</td>\n",
       "      <td>9.0</td>\n",
       "      <td>SF</td>\n",
       "      <td>Right</td>\n",
       "    </tr>\n",
       "    <tr>\n",
       "      <td>...</td>\n",
       "      <td>...</td>\n",
       "      <td>...</td>\n",
       "      <td>...</td>\n",
       "      <td>...</td>\n",
       "      <td>...</td>\n",
       "      <td>...</td>\n",
       "      <td>...</td>\n",
       "      <td>...</td>\n",
       "      <td>...</td>\n",
       "      <td>...</td>\n",
       "      <td>...</td>\n",
       "      <td>...</td>\n",
       "      <td>...</td>\n",
       "      <td>...</td>\n",
       "      <td>...</td>\n",
       "      <td>...</td>\n",
       "      <td>...</td>\n",
       "      <td>...</td>\n",
       "      <td>...</td>\n",
       "      <td>...</td>\n",
       "      <td>...</td>\n",
       "    </tr>\n",
       "    <tr>\n",
       "      <td>618014</td>\n",
       "      <td>618014</td>\n",
       "      <td>104 - 118</td>\n",
       "      <td>DAL - OKC</td>\n",
       "      <td>400874368</td>\n",
       "      <td>4</td>\n",
       "      <td>Randy Foye makes free throw 1 of 2</td>\n",
       "      <td>Randy Foye</td>\n",
       "      <td>playoffs</td>\n",
       "      <td>103 - 116</td>\n",
       "      <td>2015 - 2016</td>\n",
       "      <td>...</td>\n",
       "      <td>00:53</td>\n",
       "      <td>0.401</td>\n",
       "      <td>0.429</td>\n",
       "      <td>0.366</td>\n",
       "      <td>0.852</td>\n",
       "      <td>193</td>\n",
       "      <td>96</td>\n",
       "      <td>7.0</td>\n",
       "      <td>SG</td>\n",
       "      <td>Right</td>\n",
       "    </tr>\n",
       "    <tr>\n",
       "      <td>618015</td>\n",
       "      <td>618015</td>\n",
       "      <td>104 - 118</td>\n",
       "      <td>DAL - OKC</td>\n",
       "      <td>400874368</td>\n",
       "      <td>4</td>\n",
       "      <td>Randy Foye makes free throw 2 of 2</td>\n",
       "      <td>Randy Foye</td>\n",
       "      <td>playoffs</td>\n",
       "      <td>103 - 117</td>\n",
       "      <td>2015 - 2016</td>\n",
       "      <td>...</td>\n",
       "      <td>00:53</td>\n",
       "      <td>0.401</td>\n",
       "      <td>0.429</td>\n",
       "      <td>0.366</td>\n",
       "      <td>0.852</td>\n",
       "      <td>193</td>\n",
       "      <td>96</td>\n",
       "      <td>7.0</td>\n",
       "      <td>SG</td>\n",
       "      <td>Right</td>\n",
       "    </tr>\n",
       "    <tr>\n",
       "      <td>618016</td>\n",
       "      <td>618016</td>\n",
       "      <td>104 - 118</td>\n",
       "      <td>DAL - OKC</td>\n",
       "      <td>400874368</td>\n",
       "      <td>4</td>\n",
       "      <td>Kevin Durant makes technical free throw</td>\n",
       "      <td>Kevin Durant</td>\n",
       "      <td>playoffs</td>\n",
       "      <td>103 - 118</td>\n",
       "      <td>2015 - 2016</td>\n",
       "      <td>...</td>\n",
       "      <td>00:27</td>\n",
       "      <td>0.493</td>\n",
       "      <td>0.532</td>\n",
       "      <td>0.381</td>\n",
       "      <td>0.883</td>\n",
       "      <td>208</td>\n",
       "      <td>108</td>\n",
       "      <td>2.0</td>\n",
       "      <td>SF</td>\n",
       "      <td>Right</td>\n",
       "    </tr>\n",
       "    <tr>\n",
       "      <td>618017</td>\n",
       "      <td>618017</td>\n",
       "      <td>104 - 118</td>\n",
       "      <td>DAL - OKC</td>\n",
       "      <td>400874368</td>\n",
       "      <td>4</td>\n",
       "      <td>Dwight Powell misses free throw 1 of 2</td>\n",
       "      <td>Dwight Powell</td>\n",
       "      <td>playoffs</td>\n",
       "      <td>103 - 118</td>\n",
       "      <td>2015 - 2016</td>\n",
       "      <td>...</td>\n",
       "      <td>00:26</td>\n",
       "      <td>0.555</td>\n",
       "      <td>0.614</td>\n",
       "      <td>0.297</td>\n",
       "      <td>0.744</td>\n",
       "      <td>208</td>\n",
       "      <td>108</td>\n",
       "      <td>45.0</td>\n",
       "      <td>PF</td>\n",
       "      <td>Right</td>\n",
       "    </tr>\n",
       "    <tr>\n",
       "      <td>618018</td>\n",
       "      <td>618018</td>\n",
       "      <td>104 - 118</td>\n",
       "      <td>DAL - OKC</td>\n",
       "      <td>400874368</td>\n",
       "      <td>4</td>\n",
       "      <td>Dwight Powell makes free throw 2 of 2</td>\n",
       "      <td>Dwight Powell</td>\n",
       "      <td>playoffs</td>\n",
       "      <td>104 - 118</td>\n",
       "      <td>2015 - 2016</td>\n",
       "      <td>...</td>\n",
       "      <td>00:26</td>\n",
       "      <td>0.555</td>\n",
       "      <td>0.614</td>\n",
       "      <td>0.297</td>\n",
       "      <td>0.744</td>\n",
       "      <td>208</td>\n",
       "      <td>108</td>\n",
       "      <td>45.0</td>\n",
       "      <td>PF</td>\n",
       "      <td>Right</td>\n",
       "    </tr>\n",
       "  </tbody>\n",
       "</table>\n",
       "<p>618019 rows × 21 columns</p>\n",
       "</div>"
      ],
      "text/plain": [
       "        Unnamed: 0 end_result       game    game_id  period  \\\n",
       "0                0  106 - 114  PHX - LAL  261031013       1   \n",
       "1                1  106 - 114  PHX - LAL  261031013       1   \n",
       "2                2  106 - 114  PHX - LAL  261031013       1   \n",
       "3                3  106 - 114  PHX - LAL  261031013       1   \n",
       "4                4  106 - 114  PHX - LAL  261031013       1   \n",
       "...            ...        ...        ...        ...     ...   \n",
       "618014      618014  104 - 118  DAL - OKC  400874368       4   \n",
       "618015      618015  104 - 118  DAL - OKC  400874368       4   \n",
       "618016      618016  104 - 118  DAL - OKC  400874368       4   \n",
       "618017      618017  104 - 118  DAL - OKC  400874368       4   \n",
       "618018      618018  104 - 118  DAL - OKC  400874368       4   \n",
       "\n",
       "                                           play         player  playoffs  \\\n",
       "0          Andrew Bynum makes free throw 1 of 2   Andrew Bynum   regular   \n",
       "1          Andrew Bynum makes free throw 2 of 2   Andrew Bynum   regular   \n",
       "2          Andrew Bynum makes free throw 1 of 2   Andrew Bynum   regular   \n",
       "3         Andrew Bynum misses free throw 2 of 2   Andrew Bynum   regular   \n",
       "4          Shawn Marion makes free throw 1 of 1   Shawn Marion   regular   \n",
       "...                                         ...            ...       ...   \n",
       "618014       Randy Foye makes free throw 1 of 2     Randy Foye  playoffs   \n",
       "618015       Randy Foye makes free throw 2 of 2     Randy Foye  playoffs   \n",
       "618016  Kevin Durant makes technical free throw   Kevin Durant  playoffs   \n",
       "618017   Dwight Powell misses free throw 1 of 2  Dwight Powell  playoffs   \n",
       "618018    Dwight Powell makes free throw 2 of 2  Dwight Powell  playoffs   \n",
       "\n",
       "            score       season  ...   time    FG%    2P%    3P%    FT%  \\\n",
       "0           0 - 1  2006 - 2007  ...  11:45  0.556  0.557  0.111  0.690   \n",
       "1           0 - 2  2006 - 2007  ...  11:45  0.556  0.557  0.111  0.690   \n",
       "2           18-12  2006 - 2007  ...  07:26  0.556  0.557  0.111  0.690   \n",
       "3           18-12  2006 - 2007  ...  07:26  0.556  0.557  0.111  0.690   \n",
       "4           21-12  2006 - 2007  ...  07:18  0.484  0.513  0.331  0.810   \n",
       "...           ...          ...  ...    ...    ...    ...    ...    ...   \n",
       "618014  103 - 116  2015 - 2016  ...  00:53  0.401  0.429  0.366  0.852   \n",
       "618015  103 - 117  2015 - 2016  ...  00:53  0.401  0.429  0.366  0.852   \n",
       "618016  103 - 118  2015 - 2016  ...  00:27  0.493  0.532  0.381  0.883   \n",
       "618017  103 - 118  2015 - 2016  ...  00:26  0.555  0.614  0.297  0.744   \n",
       "618018  104 - 118  2015 - 2016  ...  00:26  0.555  0.614  0.297  0.744   \n",
       "\n",
       "        Height Weight draftRank Pos ShootingHand  \n",
       "0          213   129       10.0   C        Right  \n",
       "1          213   129       10.0   C        Right  \n",
       "2          213   129       10.0   C        Right  \n",
       "3          213   129       10.0   C        Right  \n",
       "4          201    99        9.0  SF        Right  \n",
       "...        ...    ...       ...  ..          ...  \n",
       "618014     193    96        7.0  SG        Right  \n",
       "618015     193    96        7.0  SG        Right  \n",
       "618016     208   108        2.0  SF        Right  \n",
       "618017     208   108       45.0  PF        Right  \n",
       "618018     208   108       45.0  PF        Right  \n",
       "\n",
       "[618019 rows x 21 columns]"
      ]
     },
     "execution_count": 35,
     "metadata": {},
     "output_type": "execute_result"
    }
   ],
   "source": [
    "# added this box because the externat data code didn't work on my computer\n",
    "# delete this box before submiting! \n",
    "\n",
    "free_throws_db = pd.read_csv('C:/Users/Shachar/DS_Workshop/SUMMARY.csv')\n",
    "free_throws_db.drop_duplicates()\n",
    "\n",
    "# database_path = \"/Users/gorbrin/PycharmProjects/untitled/SUMMARY.csv\"\n",
    "# #free_throws_db = pd.read_csv(database_path)\n",
    "# free_throws_db.drop_duplicates()\n"
   ]
  },
  {
   "cell_type": "markdown",
   "metadata": {},
   "source": [
    "Columns used for this database for each player:\n",
    "- Position : The most common position for the player over his seasons.\n",
    "- FG%\n",
    "- 3P%\n",
    "- FT%\n",
    "- Height\n",
    "- Weight\n",
    "- ShootingHand\n",
    "- draftRank"
   ]
  },
  {
   "cell_type": "markdown",
   "metadata": {},
   "source": [
    "## Specifing Data Types"
   ]
  },
  {
   "cell_type": "code",
   "execution_count": 36,
   "metadata": {},
   "outputs": [],
   "source": [
    "binary_variables = ['shot_made', 'playoffs', 'ShootingHand']\n",
    "categorical_variables = ['end_result', 'game', 'game_id', 'period', 'play', 'player', 'season', 'Pos']\n",
    "numeric_variables = ['score','time','FG%','2P%', '3P%', 'FT%', 'Height', 'Weight', 'draftRank']"
   ]
  },
  {
   "cell_type": "code",
   "execution_count": 37,
   "metadata": {},
   "outputs": [
    {
     "data": {
      "text/plain": [
       "Unnamed: 0      618019\n",
       "end_result      618019\n",
       "game            618019\n",
       "game_id         618019\n",
       "period          618019\n",
       "play            618019\n",
       "player          618019\n",
       "playoffs        618019\n",
       "score           618019\n",
       "season          618019\n",
       "shot_made       618019\n",
       "time            618019\n",
       "FG%             618019\n",
       "2P%             618019\n",
       "3P%             612941\n",
       "FT%             618019\n",
       "Height          618019\n",
       "Weight          618019\n",
       "draftRank       579587\n",
       "Pos             618019\n",
       "ShootingHand    618019\n",
       "dtype: int64"
      ]
     },
     "execution_count": 37,
     "metadata": {},
     "output_type": "execute_result"
    }
   ],
   "source": [
    "\n",
    "# database_path = \"/Users/gorbrin/PycharmProjects/untitled/SUMMARY.csv\"\n",
    "# free_throws_db = pd.read_csv(database_path)\n",
    "# free_throws_db.drop_duplicates()\n",
    "free_throws_db.count()\n"
   ]
  },
  {
   "cell_type": "markdown",
   "metadata": {},
   "source": [
    "as we can see, we have only one column with missing data - the draftRank column. \n",
    "this values are missing because the players performed the throw didn't have a draft rank and not because we couldn't collect the data. "
   ]
  },
  {
   "cell_type": "markdown",
   "metadata": {},
   "source": [
    "### Analyzing the number of throws troughout the game\n",
    "\n",
    "we would like to show the free throws distribution throughout the game time,\n",
    "in our current dataset, the time column represents the time left in that quarter and the period column represents the quarter of the game, so we'll add a new column to our data which calculate the absolute time in the game that the throw was made"
   ]
  },
  {
   "cell_type": "code",
   "execution_count": 38,
   "metadata": {
    "scrolled": true
   },
   "outputs": [],
   "source": [
    "free_throws_db['minute'] = free_throws_db.time.apply(lambda x: int(x[:len(x)-3]))\n",
    "free_throws_db['sec'] = free_throws_db.time.apply(lambda x: int(x[len(x)-2:]))\n",
    "free_throws_db['abs_min'] = 12 - free_throws_db['minute']+12*(free_throws_db.period -1)\n",
    "free_throws_db['abs_time'] = 60*(free_throws_db.abs_min-1) + 60 - free_throws_db['sec']\n",
    "\n",
    "#  counting the num of throws, and success throws precentage per minute\n",
    "minutes = range(int(max(free_throws_db.abs_min)))\n",
    "total_throws = []\n",
    "success_throws = []\n",
    "success_precentage = []\n",
    "\n",
    "def count_throws(free_throws_db,minute):    \n",
    "    made = len(free_throws_db[(free_throws_db.abs_min == minute) & (free_throws_db.shot_made == 1)])\n",
    "    success_throws.append(made)\n",
    "    total = len(free_throws_db[free_throws_db.abs_min == minute])\n",
    "    total_throws.append(total)\n",
    "    if total == 0:\n",
    "        precentage = 0.0\n",
    "    else:\n",
    "        precentage = made/total\n",
    "    success_precentage.append(precentage)\n",
    "\n",
    "for minute in minutes:\n",
    "    count_throws(free_throws_db,minute)"
   ]
  },
  {
   "cell_type": "code",
   "execution_count": 9,
   "metadata": {},
   "outputs": [
    {
     "data": {
      "text/plain": [
       "Text(0, 0.5, 'num of throws')"
      ]
     },
     "execution_count": 9,
     "metadata": {},
     "output_type": "execute_result"
    },
    {
     "data": {
      "image/png": "[encoded data removed]",
      "text/plain": [
       "<Figure size 432x288 with 1 Axes>"
      ]
     },
     "metadata": {
      "needs_background": "light"
     },
     "output_type": "display_data"
    }
   ],
   "source": [
    "# Number of throws over time\n",
    "plt.plot(minutes,total_throws)\n",
    "plt.title('Number of throws over time')\n",
    "plt.xlim([1,48])\n",
    "plt.ylim([0, 40000])\n",
    "plt.plot([12,12],[0,40000], '--', linewidth = 1, color = 'r')\n",
    "plt.plot([24,24],[0,40000], '--', linewidth = 1, color = 'r')\n",
    "plt.plot([36,36],[0,40000], '--', linewidth = 1, color = 'r')\n",
    "plt.plot([48,48],[0,40000], '--', linewidth = 1, color = 'r')\n",
    "plt.xlabel('Minute')\n",
    "plt.ylabel('num of throws')"
   ]
  },
  {
   "cell_type": "code",
   "execution_count": 39,
   "metadata": {},
   "outputs": [
    {
     "data": {
      "text/plain": [
       "Text(0, 0.5, 'Free Throws %')"
      ]
     },
     "execution_count": 39,
     "metadata": {},
     "output_type": "execute_result"
    },
    {
     "data": {
      "image/png": "[encoded data removed]",
      "text/plain": [
       "<Figure size 432x288 with 1 Axes>"
      ]
     },
     "metadata": {
      "needs_background": "light"
     },
     "output_type": "display_data"
    }
   ],
   "source": [
    "# Success throws precentage over time   \n",
    "plt.plot(minutes,success_precentage)\n",
    "plt.title('Scoring % over time - Always worse at the beginning')\n",
    "plt.xlim([1,48])\n",
    "plt.ylim([0.65,0.85])\n",
    "plt.plot([12,12],[0,1], '--', linewidth = 1, color = 'r')\n",
    "plt.plot([24,24],[0,1], '--', linewidth = 1, color = 'r')\n",
    "plt.plot([36,36],[0,1], '--', linewidth = 1, color = 'r')\n",
    "plt.plot([48,48],[0,1], '--', linewidth = 1, color = 'r')\n",
    "plt.xlabel('Minute')\n",
    "plt.ylabel('Free Throws %')"
   ]
  },
  {
   "cell_type": "markdown",
   "metadata": {},
   "source": [
    "from the plots we can observe that at the begining of every querter, both the number of free throws and the success precentage drops. \n",
    "moreover, at the end of a quarter, and especially at the end of the game, both plots increase."
   ]
  },
  {
   "cell_type": "markdown",
   "metadata": {},
   "source": [
    "We wanted to see the coralation between the draft rank of the players and the result of the shot made"
   ]
  },
  {
   "cell_type": "markdown",
   "metadata": {},
   "source": [
    "### The correlation between the player's draft rank and the free-throw result\n",
    "\n",
    "We wanted to check if there is a conection between the draft rank of the player performing the shot and the result of the shot. \n",
    "As we saw at the data description, we have some missing values in the draftRank column, and it was because the player throwing had no draft rank. \n",
    "\n",
    "As we can see below, the majoraty of the data in this column is avalable so we will ommit throws that were made by a players with no draft rank."
   ]
  },
  {
   "cell_type": "code",
   "execution_count": 45,
   "metadata": {},
   "outputs": [
    {
     "name": "stdout",
     "output_type": "stream",
     "text": [
      "0.9378142095954979\n",
      "count     579587\n",
      "unique       105\n",
      "top          1.0\n",
      "freq       42166\n",
      "Name: draftRank, dtype: object\n"
     ]
    }
   ],
   "source": [
    "# the precentage of the data that has draftRank:\n",
    "print(free_throws_db['draftRank'].count()/free_throws_db['game'].count())"
   ]
  },
  {
   "cell_type": "code",
   "execution_count": 55,
   "metadata": {
    "scrolled": true
   },
   "outputs": [],
   "source": [
    "free_throws_db['draftRank'] = free_throws_db['draftRank'].replace(np.nan, 0)\n",
    "free_throws_db['draftRank'] = free_throws_db['draftRank'].replace(\"undrafted\", 0)\n",
    "# pd.to_numeric(free_throws_db['draftRank'])\n",
    "free_throws_db['draftRank'] = free_throws_db.draftRank.apply(lambda x: int(float(x)))\n",
    "\n",
    "np.nanmax(free_throws_db['draftRank'])\n",
    "\n",
    "ranks = range(int(np.nanmax(free_throws_db['draftRank']))+1)\n",
    "success_precentage_by_rank = []\n",
    "\n",
    "def throws_per_rank(free_throws_db,rank):    \n",
    "    total = len(free_throws_db[free_throws_db.draftRank == rank])\n",
    "    if total == 0:\n",
    "        precentage = 0.0\n",
    "    else:\n",
    "        made = len(free_throws_db[(free_throws_db.draftRank == rank) & (free_throws_db.shot_made == 1)])\n",
    "        precentage = made/total\n",
    "    success_precentage_by_rank.append(precentage)\n",
    "\n",
    "for rank in ranks:\n",
    "    throws_per_rank(free_throws_db,rank)"
   ]
  },
  {
   "cell_type": "code",
   "execution_count": 90,
   "metadata": {
    "scrolled": true
   },
   "outputs": [
    {
     "data": {
      "text/plain": [
       "Text(0, 0.5, 'Free Throws %')"
      ]
     },
     "execution_count": 90,
     "metadata": {},
     "output_type": "execute_result"
    },
    {
     "data": {
      "image/png": "[encoded data removed]",
      "text/plain": [
       "<Figure size 432x288 with 1 Axes>"
      ]
     },
     "metadata": {
      "needs_background": "light"
     },
     "output_type": "display_data"
    }
   ],
   "source": [
    "# Success throws precentage over time\n",
    "plt.plot(list(ranks),success_precentage_by_rank)\n",
    "plt.title('Success Throws percentage as function of Draft Rank  ')\n",
    "plt.ylim([0,1])\n",
    "plt.xlabel('Draft Rank')\n",
    "plt.ylabel('Free Throws %')\n"
   ]
  },
  {
   "cell_type": "markdown",
   "metadata": {},
   "source": [
    "As we see, there is no trend in the graph (the FT% is between 0.7 to 0.9 for all ranks). We expected that the higher-ranked players would have better performence but we can't conclude it from the data. \n",
    "\n",
    "We have to take under consideration that the draft-rank data is not uniformly distributed, as we can see in the graph below, and is biased towared small values (the value 0 represents missing values, and in our case players who had no draft rank), so the barplot above needs to be normalized."
   ]
  },
  {
   "cell_type": "code",
   "execution_count": 64,
   "metadata": {},
   "outputs": [
    {
     "data": {
      "text/plain": [
       "<matplotlib.axes._subplots.AxesSubplot at 0x17845e00d08>"
      ]
     },
     "execution_count": 64,
     "metadata": {},
     "output_type": "execute_result"
    },
    {
     "data": {
      "image/png": "[encoded data removed]",
      "text/plain": [
       "<Figure size 432x288 with 1 Axes>"
      ]
     },
     "metadata": {
      "needs_background": "light"
     },
     "output_type": "display_data"
    }
   ],
   "source": [
    "sns.distplot(free_throws_db['draftRank'])"
   ]
  },
  {
   "cell_type": "markdown",
   "metadata": {},
   "source": [
    "### The correlation between the score differance and the free-throw result\n",
    "\n",
    "We will add a column calculating the differance.\n",
    "We assume that if the differance is small in the time of the shot, the player would be more stressed and his shooting precentage would drop. "
   ]
  },
  {
   "cell_type": "code",
   "execution_count": 77,
   "metadata": {},
   "outputs": [
    {
     "name": "stdout",
     "output_type": "stream",
     "text": [
      "0          1\n",
      "1          2\n",
      "2          6\n",
      "3          6\n",
      "4          9\n",
      "          ..\n",
      "618014    13\n",
      "618015    14\n",
      "618016    15\n",
      "618017    15\n",
      "618018    14\n",
      "Name: scoreDif, Length: 618019, dtype: int64\n"
     ]
    }
   ],
   "source": [
    "free_throws_db['scores'] = free_throws_db.score.replace(' - ', '-').apply(lambda x: x.split('-'))\n",
    "free_throws_db['scoreDif'] = free_throws_db.scores.apply(lambda x: abs(int(x[1])-int(x[0])))\n",
    "# free_throws_db['sec'] = free_throws_db.time.apply(lambda x: int(x[len(x)-2:]))\n",
    "# free_throws_db['abs_min'] = 12 - free_throws_db['minute']+12*(free_throws_db.period -1)\n",
    "# free_throws_db['abs_time'] = 60*(free_throws_db.abs_min-1) + 60 - free_throws_db['sec']\n",
    "print(free_throws_db['scoreDif'])"
   ]
  },
  {
   "cell_type": "code",
   "execution_count": 86,
   "metadata": {},
   "outputs": [],
   "source": [
    "difs = range(int(np.max(free_throws_db['scoreDif']))+1)\n",
    "success_precentage_by_scoreDif = []\n",
    "\n",
    "def throws_per_dif(free_throws_db,dif):    \n",
    "    total = len(free_throws_db[free_throws_db.scoreDif == dif])\n",
    "    if total == 0:\n",
    "        precentage = 0.0\n",
    "    else:\n",
    "        made = len(free_throws_db[(free_throws_db.scoreDif == dif) & (free_throws_db.shot_made == 1)])\n",
    "        precentage = made/total\n",
    "    success_precentage_by_scoreDif.append(precentage)\n",
    "\n",
    "for dif in difs:\n",
    "    throws_per_dif(free_throws_db,dif)"
   ]
  },
  {
   "cell_type": "code",
   "execution_count": 91,
   "metadata": {},
   "outputs": [
    {
     "data": {
      "text/plain": [
       "Text(0, 0.5, 'Free Throws %')"
      ]
     },
     "execution_count": 91,
     "metadata": {},
     "output_type": "execute_result"
    },
    {
     "data": {
      "image/png": "[encoded data removed]",
      "text/plain": [
       "<Figure size 432x288 with 1 Axes>"
      ]
     },
     "metadata": {
      "needs_background": "light"
     },
     "output_type": "display_data"
    }
   ],
   "source": [
    "# Success throws precentage over time\n",
    "plt.bar(list(difs),success_precentage_by_scoreDif)\n",
    "plt.title('Success Throws percentage as function of Score Differance')\n",
    "plt.ylim([0,1])\n",
    "plt.xlabel('Score Differance')\n",
    "plt.ylabel('Free Throws %')"
   ]
  },
  {
   "cell_type": "code",
   "execution_count": 81,
   "metadata": {},
   "outputs": [
    {
     "data": {
      "text/plain": [
       "<matplotlib.axes._subplots.AxesSubplot at 0x17800129488>"
      ]
     },
     "execution_count": 81,
     "metadata": {},
     "output_type": "execute_result"
    },
    {
     "data": {
      "image/png": "[encoded data removed]",
      "text/plain": [
       "<Figure size 432x288 with 1 Axes>"
      ]
     },
     "metadata": {
      "needs_background": "light"
     },
     "output_type": "display_data"
    }
   ],
   "source": [
    "sns.distplot(free_throws_db['draftRank'])"
   ]
  },
  {
   "cell_type": "markdown",
   "metadata": {},
   "source": [
    "At the 'Success Throws percentage as function of Score Differance' plot, in seems that our hypotesis that as long as the score differance gets bigger, so as the free-throw success precentaege is partly true. \n",
    "we can see a trend in the graph but it is not continuous. \n",
    "Furthermore, here too we have to relate to the fact that we have mach more samples with low differance than high differance. "
   ]
  },
  {
   "cell_type": "code",
   "execution_count": null,
   "metadata": {},
   "outputs": [],
   "source": []
  }
 ],
 "metadata": {
  "kernelspec": {
   "display_name": "Python 3",
   "language": "python",
   "name": "python3"
  },
  "language_info": {
   "codemirror_mode": {
    "name": "ipython",
    "version": 3
   },
   "file_extension": ".py",
   "mimetype": "text/x-python",
   "name": "python",
   "nbconvert_exporter": "python",
   "pygments_lexer": "ipython3",
   "version": "3.7.4"
  }
 },
 "nbformat": 4,
 "nbformat_minor": 2
}
