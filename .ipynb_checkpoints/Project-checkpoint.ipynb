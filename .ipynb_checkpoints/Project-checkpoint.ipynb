{
 "cells": [
  {
   "cell_type": "markdown",
   "metadata": {},
   "source": [
    "# Data Science Workshop\n",
    "# NBA Free Throws Prediction"
   ]
  },
  {
   "cell_type": "markdown",
   "metadata": {},
   "source": [
    "![title](img/free_throw_img.jpg)"
   ]
  },
  {
   "cell_type": "markdown",
   "metadata": {},
   "source": [
    "## Data preparation and cleaning"
   ]
  },
  {
   "cell_type": "markdown",
   "metadata": {},
   "source": [
    "## Import Python Libraries"
   ]
  },
  {
   "cell_type": "code",
   "execution_count": 22,
   "metadata": {},
   "outputs": [],
   "source": [
    "import matplotlib.pyplot as plt\n",
    "import pandas as pd\n",
    "%matplotlib inline"
   ]
  },
  {
   "cell_type": "markdown",
   "metadata": {},
   "source": [
    "## Reading the Original Dataset\n"
   ]
  },
  {
   "cell_type": "code",
   "execution_count": 23,
   "metadata": {},
   "outputs": [
    {
     "data": {
      "text/html": [
       "<div>\n",
       "<style scoped>\n",
       "    .dataframe tbody tr th:only-of-type {\n",
       "        vertical-align: middle;\n",
       "    }\n",
       "\n",
       "    .dataframe tbody tr th {\n",
       "        vertical-align: top;\n",
       "    }\n",
       "\n",
       "    .dataframe thead th {\n",
       "        text-align: right;\n",
       "    }\n",
       "</style>\n",
       "<table border=\"1\" class=\"dataframe\">\n",
       "  <thead>\n",
       "    <tr style=\"text-align: right;\">\n",
       "      <th></th>\n",
       "      <th>end_result</th>\n",
       "      <th>game</th>\n",
       "      <th>game_id</th>\n",
       "      <th>period</th>\n",
       "      <th>play</th>\n",
       "      <th>player</th>\n",
       "      <th>playoffs</th>\n",
       "      <th>score</th>\n",
       "      <th>season</th>\n",
       "      <th>shot_made</th>\n",
       "      <th>time</th>\n",
       "    </tr>\n",
       "  </thead>\n",
       "  <tbody>\n",
       "    <tr>\n",
       "      <th>0</th>\n",
       "      <td>106 - 114</td>\n",
       "      <td>PHX - LAL</td>\n",
       "      <td>261031013</td>\n",
       "      <td>1</td>\n",
       "      <td>Andrew Bynum makes free throw 1 of 2</td>\n",
       "      <td>Andrew Bynum</td>\n",
       "      <td>regular</td>\n",
       "      <td>0 - 1</td>\n",
       "      <td>2006 - 2007</td>\n",
       "      <td>1</td>\n",
       "      <td>11:45</td>\n",
       "    </tr>\n",
       "    <tr>\n",
       "      <th>1</th>\n",
       "      <td>106 - 114</td>\n",
       "      <td>PHX - LAL</td>\n",
       "      <td>261031013</td>\n",
       "      <td>1</td>\n",
       "      <td>Andrew Bynum makes free throw 2 of 2</td>\n",
       "      <td>Andrew Bynum</td>\n",
       "      <td>regular</td>\n",
       "      <td>0 - 2</td>\n",
       "      <td>2006 - 2007</td>\n",
       "      <td>1</td>\n",
       "      <td>11:45</td>\n",
       "    </tr>\n",
       "    <tr>\n",
       "      <th>2</th>\n",
       "      <td>106 - 114</td>\n",
       "      <td>PHX - LAL</td>\n",
       "      <td>261031013</td>\n",
       "      <td>1</td>\n",
       "      <td>Andrew Bynum makes free throw 1 of 2</td>\n",
       "      <td>Andrew Bynum</td>\n",
       "      <td>regular</td>\n",
       "      <td>18-Dec</td>\n",
       "      <td>2006 - 2007</td>\n",
       "      <td>1</td>\n",
       "      <td>7:26</td>\n",
       "    </tr>\n",
       "    <tr>\n",
       "      <th>3</th>\n",
       "      <td>106 - 114</td>\n",
       "      <td>PHX - LAL</td>\n",
       "      <td>261031013</td>\n",
       "      <td>1</td>\n",
       "      <td>Andrew Bynum misses free throw 2 of 2</td>\n",
       "      <td>Andrew Bynum</td>\n",
       "      <td>regular</td>\n",
       "      <td>18-Dec</td>\n",
       "      <td>2006 - 2007</td>\n",
       "      <td>0</td>\n",
       "      <td>7:26</td>\n",
       "    </tr>\n",
       "    <tr>\n",
       "      <th>4</th>\n",
       "      <td>106 - 114</td>\n",
       "      <td>PHX - LAL</td>\n",
       "      <td>261031013</td>\n",
       "      <td>1</td>\n",
       "      <td>Shawn Marion makes free throw 1 of 1</td>\n",
       "      <td>Shawn Marion</td>\n",
       "      <td>regular</td>\n",
       "      <td>21-Dec</td>\n",
       "      <td>2006 - 2007</td>\n",
       "      <td>1</td>\n",
       "      <td>7:18</td>\n",
       "    </tr>\n",
       "    <tr>\n",
       "      <th>5</th>\n",
       "      <td>106 - 114</td>\n",
       "      <td>PHX - LAL</td>\n",
       "      <td>261031013</td>\n",
       "      <td>1</td>\n",
       "      <td>Amare Stoudemire makes free throw 1 of 2</td>\n",
       "      <td>Amare Stoudemire</td>\n",
       "      <td>regular</td>\n",
       "      <td>33 - 20</td>\n",
       "      <td>2006 - 2007</td>\n",
       "      <td>1</td>\n",
       "      <td>3:15</td>\n",
       "    </tr>\n",
       "    <tr>\n",
       "      <th>6</th>\n",
       "      <td>106 - 114</td>\n",
       "      <td>PHX - LAL</td>\n",
       "      <td>261031013</td>\n",
       "      <td>1</td>\n",
       "      <td>Amare Stoudemire makes free throw 2 of 2</td>\n",
       "      <td>Amare Stoudemire</td>\n",
       "      <td>regular</td>\n",
       "      <td>34 - 20</td>\n",
       "      <td>2006 - 2007</td>\n",
       "      <td>1</td>\n",
       "      <td>3:15</td>\n",
       "    </tr>\n",
       "    <tr>\n",
       "      <th>7</th>\n",
       "      <td>106 - 114</td>\n",
       "      <td>PHX - LAL</td>\n",
       "      <td>261031013</td>\n",
       "      <td>2</td>\n",
       "      <td>Leandro Barbosa misses free throw 1 of 2</td>\n",
       "      <td>Leandro Barbosa</td>\n",
       "      <td>regular</td>\n",
       "      <td>43 - 29</td>\n",
       "      <td>2006 - 2007</td>\n",
       "      <td>0</td>\n",
       "      <td>10:52</td>\n",
       "    </tr>\n",
       "    <tr>\n",
       "      <th>8</th>\n",
       "      <td>106 - 114</td>\n",
       "      <td>PHX - LAL</td>\n",
       "      <td>261031013</td>\n",
       "      <td>2</td>\n",
       "      <td>Leandro Barbosa makes free throw 2 of 2</td>\n",
       "      <td>Leandro Barbosa</td>\n",
       "      <td>regular</td>\n",
       "      <td>44 - 29</td>\n",
       "      <td>2006 - 2007</td>\n",
       "      <td>1</td>\n",
       "      <td>10:52</td>\n",
       "    </tr>\n",
       "    <tr>\n",
       "      <th>9</th>\n",
       "      <td>106 - 114</td>\n",
       "      <td>PHX - LAL</td>\n",
       "      <td>261031013</td>\n",
       "      <td>2</td>\n",
       "      <td>Lamar Odom makes free throw 1 of 2</td>\n",
       "      <td>Lamar Odom</td>\n",
       "      <td>regular</td>\n",
       "      <td>44 - 30</td>\n",
       "      <td>2006 - 2007</td>\n",
       "      <td>1</td>\n",
       "      <td>10:37</td>\n",
       "    </tr>\n",
       "  </tbody>\n",
       "</table>\n",
       "</div>"
      ],
      "text/plain": [
       "  end_result       game    game_id  period  \\\n",
       "0  106 - 114  PHX - LAL  261031013       1   \n",
       "1  106 - 114  PHX - LAL  261031013       1   \n",
       "2  106 - 114  PHX - LAL  261031013       1   \n",
       "3  106 - 114  PHX - LAL  261031013       1   \n",
       "4  106 - 114  PHX - LAL  261031013       1   \n",
       "5  106 - 114  PHX - LAL  261031013       1   \n",
       "6  106 - 114  PHX - LAL  261031013       1   \n",
       "7  106 - 114  PHX - LAL  261031013       2   \n",
       "8  106 - 114  PHX - LAL  261031013       2   \n",
       "9  106 - 114  PHX - LAL  261031013       2   \n",
       "\n",
       "                                       play            player playoffs  \\\n",
       "0      Andrew Bynum makes free throw 1 of 2      Andrew Bynum  regular   \n",
       "1      Andrew Bynum makes free throw 2 of 2      Andrew Bynum  regular   \n",
       "2      Andrew Bynum makes free throw 1 of 2      Andrew Bynum  regular   \n",
       "3     Andrew Bynum misses free throw 2 of 2      Andrew Bynum  regular   \n",
       "4      Shawn Marion makes free throw 1 of 1      Shawn Marion  regular   \n",
       "5  Amare Stoudemire makes free throw 1 of 2  Amare Stoudemire  regular   \n",
       "6  Amare Stoudemire makes free throw 2 of 2  Amare Stoudemire  regular   \n",
       "7  Leandro Barbosa misses free throw 1 of 2   Leandro Barbosa  regular   \n",
       "8   Leandro Barbosa makes free throw 2 of 2   Leandro Barbosa  regular   \n",
       "9        Lamar Odom makes free throw 1 of 2        Lamar Odom  regular   \n",
       "\n",
       "     score       season  shot_made   time  \n",
       "0    0 - 1  2006 - 2007          1  11:45  \n",
       "1    0 - 2  2006 - 2007          1  11:45  \n",
       "2   18-Dec  2006 - 2007          1   7:26  \n",
       "3   18-Dec  2006 - 2007          0   7:26  \n",
       "4   21-Dec  2006 - 2007          1   7:18  \n",
       "5  33 - 20  2006 - 2007          1   3:15  \n",
       "6  34 - 20  2006 - 2007          1   3:15  \n",
       "7  43 - 29  2006 - 2007          0  10:52  \n",
       "8  44 - 29  2006 - 2007          1  10:52  \n",
       "9  44 - 30  2006 - 2007          1  10:37  "
      ]
     },
     "execution_count": 23,
     "metadata": {},
     "output_type": "execute_result"
    }
   ],
   "source": [
    "free_throws_db = pd.read_csv('free_throws.csv')\n",
    "free_throws_db.drop_duplicates()\n",
    "free_throws_db.head(10)"
   ]
  },
  {
   "cell_type": "markdown",
   "metadata": {},
   "source": [
    "Describition of dataset:\n",
    "- end_result: host total score - guest total score\n",
    "- game: host team vs guest team\n",
    "- game_id: id of specific game\n",
    "- period: which quarter\n",
    "- play: who make free throw, make or miss free throw\n",
    "- player: player name\n",
    "- playoffs: whether a playoff game or regular game\n",
    "- score: host team score - guest team score at that time\n",
    "- season: NBA season\n",
    "- shot_made: whether player got the free throw\n",
    "- time: time left in that quarter"
   ]
  },
  {
   "cell_type": "code",
   "execution_count": 40,
   "metadata": {},
   "outputs": [
    {
     "name": "stdout",
     "output_type": "stream",
     "text": [
      "Number of free throws in database: 618019\n",
      "Number of games in database: 12874\n",
      "Games distribution:\n"
     ]
    },
    {
     "data": {
      "text/plain": [
       "regular     575893\n",
       "playoffs     42126\n",
       "Name: playoffs, dtype: int64"
      ]
     },
     "execution_count": 40,
     "metadata": {},
     "output_type": "execute_result"
    }
   ],
   "source": [
    "print(\"Number of free throws in database: %d\"%(free_throws_db.shape[0]))\n",
    "print(\"Number of games in database: {}\".format(free_throws_db.game_id.unique().size))\n",
    "print(\"Games distribution:\")\n",
    "free_throws_db['playoffs'].value_counts()"
   ]
  },
  {
   "cell_type": "markdown",
   "metadata": {},
   "source": [
    "## Collecting more data from internet\n",
    "\n",
    "In order to expand our dataset, we decided to use an open source python library PandasBasketball, and use a webscrapper in order to get more players stats from https://www.basketball-reference.com website"
   ]
  },
  {
   "cell_type": "code",
   "execution_count": null,
   "metadata": {},
   "outputs": [],
   "source": [
    "# def create_players_excels_stats():\n",
    "#     database = pd.read_csv(\"free_throws.csv\")\n",
    "#     playersNames = database.player.unique()\n",
    "#     failedPlayers = []\n",
    "#     #delete this line above!\n",
    "#     numberOfPlayers = len(playersNames)\n",
    "#     i=1\n",
    "#     for playerName in np.sort(playersNames):\n",
    "#         try:\n",
    "#             dataFrame = get_player_stats(playerName)\n",
    "#             dataFrame.to_excel(\"{}.xlsx\".format(playerName))\n",
    "#             print(\"player {} from total of {} - Succeed!\".format(i, numberOfPlayers))\n",
    "#         except Exception as e:\n",
    "#             print(\"{} RAISED AN ERROR DURING SCRIPT\".format(playerName))\n",
    "#             print(\"player {} from total of {} - ERROR!\".format(i, numberOfPlayers))\n",
    "#             failedPlayers.append(playerName)\n",
    "#         i+=1\n"
   ]
  }
 ],
 "metadata": {
  "kernelspec": {
   "display_name": "Python 3",
   "language": "python",
   "name": "python3"
  },
  "language_info": {
   "codemirror_mode": {
    "name": "ipython",
    "version": 3
   },
   "file_extension": ".py",
   "mimetype": "text/x-python",
   "name": "python",
   "nbconvert_exporter": "python",
   "pygments_lexer": "ipython3",
   "version": "3.7.5"
  }
 },
 "nbformat": 4,
 "nbformat_minor": 2
}
