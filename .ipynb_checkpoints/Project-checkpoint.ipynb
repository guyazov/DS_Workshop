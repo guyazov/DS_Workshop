{
 "cells": [
  {
   "cell_type": "markdown",
   "metadata": {},
   "source": [
    "# Data Science Workshop\n",
    "# NBA Free Throws Prediction"
   ]
  },
  {
   "cell_type": "markdown",
   "metadata": {},
   "source": [
    "![title](img/free_throw_img.jpg)"
   ]
  },
  {
   "cell_type": "markdown",
   "metadata": {},
   "source": [
    "## Data preparation and cleaning"
   ]
  },
  {
   "cell_type": "markdown",
   "metadata": {},
   "source": [
    "## Import Python Libraries"
   ]
  },
  {
   "cell_type": "code",
   "execution_count": 3,
   "metadata": {},
   "outputs": [],
   "source": [
    "import numpy as np\n",
    "import matplotlib.pyplot as plt\n",
    "import pandas as pd\n",
    "import seaborn as sns\n",
    "%matplotlib inline"
   ]
  },
  {
   "cell_type": "markdown",
   "metadata": {},
   "source": [
    "\n",
    "## Reading the Original Dataset\n"
   ]
  },
  {
   "cell_type": "code",
   "execution_count": 6,
   "metadata": {},
   "outputs": [
    {
     "data": {
      "text/html": [
       "<div>\n",
       "<style scoped>\n",
       "    .dataframe tbody tr th:only-of-type {\n",
       "        vertical-align: middle;\n",
       "    }\n",
       "\n",
       "    .dataframe tbody tr th {\n",
       "        vertical-align: top;\n",
       "    }\n",
       "\n",
       "    .dataframe thead th {\n",
       "        text-align: right;\n",
       "    }\n",
       "</style>\n",
       "<table border=\"1\" class=\"dataframe\">\n",
       "  <thead>\n",
       "    <tr style=\"text-align: right;\">\n",
       "      <th></th>\n",
       "      <th>end_result</th>\n",
       "      <th>game</th>\n",
       "      <th>game_id</th>\n",
       "      <th>period</th>\n",
       "      <th>play</th>\n",
       "      <th>player</th>\n",
       "      <th>playoffs</th>\n",
       "      <th>score</th>\n",
       "      <th>season</th>\n",
       "      <th>shot_made</th>\n",
       "      <th>time</th>\n",
       "    </tr>\n",
       "  </thead>\n",
       "  <tbody>\n",
       "    <tr>\n",
       "      <th>0</th>\n",
       "      <td>106 - 114</td>\n",
       "      <td>PHX - LAL</td>\n",
       "      <td>261031013</td>\n",
       "      <td>1</td>\n",
       "      <td>Andrew Bynum makes free throw 1 of 2</td>\n",
       "      <td>Andrew Bynum</td>\n",
       "      <td>regular</td>\n",
       "      <td>0 - 1</td>\n",
       "      <td>2006 - 2007</td>\n",
       "      <td>1</td>\n",
       "      <td>11:45</td>\n",
       "    </tr>\n",
       "    <tr>\n",
       "      <th>1</th>\n",
       "      <td>106 - 114</td>\n",
       "      <td>PHX - LAL</td>\n",
       "      <td>261031013</td>\n",
       "      <td>1</td>\n",
       "      <td>Andrew Bynum makes free throw 2 of 2</td>\n",
       "      <td>Andrew Bynum</td>\n",
       "      <td>regular</td>\n",
       "      <td>0 - 2</td>\n",
       "      <td>2006 - 2007</td>\n",
       "      <td>1</td>\n",
       "      <td>11:45</td>\n",
       "    </tr>\n",
       "    <tr>\n",
       "      <th>2</th>\n",
       "      <td>106 - 114</td>\n",
       "      <td>PHX - LAL</td>\n",
       "      <td>261031013</td>\n",
       "      <td>1</td>\n",
       "      <td>Andrew Bynum makes free throw 1 of 2</td>\n",
       "      <td>Andrew Bynum</td>\n",
       "      <td>regular</td>\n",
       "      <td>18-Dec</td>\n",
       "      <td>2006 - 2007</td>\n",
       "      <td>1</td>\n",
       "      <td>7:26</td>\n",
       "    </tr>\n",
       "    <tr>\n",
       "      <th>3</th>\n",
       "      <td>106 - 114</td>\n",
       "      <td>PHX - LAL</td>\n",
       "      <td>261031013</td>\n",
       "      <td>1</td>\n",
       "      <td>Andrew Bynum misses free throw 2 of 2</td>\n",
       "      <td>Andrew Bynum</td>\n",
       "      <td>regular</td>\n",
       "      <td>18-Dec</td>\n",
       "      <td>2006 - 2007</td>\n",
       "      <td>0</td>\n",
       "      <td>7:26</td>\n",
       "    </tr>\n",
       "    <tr>\n",
       "      <th>4</th>\n",
       "      <td>106 - 114</td>\n",
       "      <td>PHX - LAL</td>\n",
       "      <td>261031013</td>\n",
       "      <td>1</td>\n",
       "      <td>Shawn Marion makes free throw 1 of 1</td>\n",
       "      <td>Shawn Marion</td>\n",
       "      <td>regular</td>\n",
       "      <td>21-Dec</td>\n",
       "      <td>2006 - 2007</td>\n",
       "      <td>1</td>\n",
       "      <td>7:18</td>\n",
       "    </tr>\n",
       "    <tr>\n",
       "      <th>5</th>\n",
       "      <td>106 - 114</td>\n",
       "      <td>PHX - LAL</td>\n",
       "      <td>261031013</td>\n",
       "      <td>1</td>\n",
       "      <td>Amare Stoudemire makes free throw 1 of 2</td>\n",
       "      <td>Amare Stoudemire</td>\n",
       "      <td>regular</td>\n",
       "      <td>33 - 20</td>\n",
       "      <td>2006 - 2007</td>\n",
       "      <td>1</td>\n",
       "      <td>3:15</td>\n",
       "    </tr>\n",
       "    <tr>\n",
       "      <th>6</th>\n",
       "      <td>106 - 114</td>\n",
       "      <td>PHX - LAL</td>\n",
       "      <td>261031013</td>\n",
       "      <td>1</td>\n",
       "      <td>Amare Stoudemire makes free throw 2 of 2</td>\n",
       "      <td>Amare Stoudemire</td>\n",
       "      <td>regular</td>\n",
       "      <td>34 - 20</td>\n",
       "      <td>2006 - 2007</td>\n",
       "      <td>1</td>\n",
       "      <td>3:15</td>\n",
       "    </tr>\n",
       "    <tr>\n",
       "      <th>7</th>\n",
       "      <td>106 - 114</td>\n",
       "      <td>PHX - LAL</td>\n",
       "      <td>261031013</td>\n",
       "      <td>2</td>\n",
       "      <td>Leandro Barbosa misses free throw 1 of 2</td>\n",
       "      <td>Leandro Barbosa</td>\n",
       "      <td>regular</td>\n",
       "      <td>43 - 29</td>\n",
       "      <td>2006 - 2007</td>\n",
       "      <td>0</td>\n",
       "      <td>10:52</td>\n",
       "    </tr>\n",
       "    <tr>\n",
       "      <th>8</th>\n",
       "      <td>106 - 114</td>\n",
       "      <td>PHX - LAL</td>\n",
       "      <td>261031013</td>\n",
       "      <td>2</td>\n",
       "      <td>Leandro Barbosa makes free throw 2 of 2</td>\n",
       "      <td>Leandro Barbosa</td>\n",
       "      <td>regular</td>\n",
       "      <td>44 - 29</td>\n",
       "      <td>2006 - 2007</td>\n",
       "      <td>1</td>\n",
       "      <td>10:52</td>\n",
       "    </tr>\n",
       "    <tr>\n",
       "      <th>9</th>\n",
       "      <td>106 - 114</td>\n",
       "      <td>PHX - LAL</td>\n",
       "      <td>261031013</td>\n",
       "      <td>2</td>\n",
       "      <td>Lamar Odom makes free throw 1 of 2</td>\n",
       "      <td>Lamar Odom</td>\n",
       "      <td>regular</td>\n",
       "      <td>44 - 30</td>\n",
       "      <td>2006 - 2007</td>\n",
       "      <td>1</td>\n",
       "      <td>10:37</td>\n",
       "    </tr>\n",
       "  </tbody>\n",
       "</table>\n",
       "</div>"
      ],
      "text/plain": [
       "  end_result       game    game_id  period  \\\n",
       "0  106 - 114  PHX - LAL  261031013       1   \n",
       "1  106 - 114  PHX - LAL  261031013       1   \n",
       "2  106 - 114  PHX - LAL  261031013       1   \n",
       "3  106 - 114  PHX - LAL  261031013       1   \n",
       "4  106 - 114  PHX - LAL  261031013       1   \n",
       "5  106 - 114  PHX - LAL  261031013       1   \n",
       "6  106 - 114  PHX - LAL  261031013       1   \n",
       "7  106 - 114  PHX - LAL  261031013       2   \n",
       "8  106 - 114  PHX - LAL  261031013       2   \n",
       "9  106 - 114  PHX - LAL  261031013       2   \n",
       "\n",
       "                                       play            player playoffs  \\\n",
       "0      Andrew Bynum makes free throw 1 of 2      Andrew Bynum  regular   \n",
       "1      Andrew Bynum makes free throw 2 of 2      Andrew Bynum  regular   \n",
       "2      Andrew Bynum makes free throw 1 of 2      Andrew Bynum  regular   \n",
       "3     Andrew Bynum misses free throw 2 of 2      Andrew Bynum  regular   \n",
       "4      Shawn Marion makes free throw 1 of 1      Shawn Marion  regular   \n",
       "5  Amare Stoudemire makes free throw 1 of 2  Amare Stoudemire  regular   \n",
       "6  Amare Stoudemire makes free throw 2 of 2  Amare Stoudemire  regular   \n",
       "7  Leandro Barbosa misses free throw 1 of 2   Leandro Barbosa  regular   \n",
       "8   Leandro Barbosa makes free throw 2 of 2   Leandro Barbosa  regular   \n",
       "9        Lamar Odom makes free throw 1 of 2        Lamar Odom  regular   \n",
       "\n",
       "     score       season  shot_made   time  \n",
       "0    0 - 1  2006 - 2007          1  11:45  \n",
       "1    0 - 2  2006 - 2007          1  11:45  \n",
       "2   18-Dec  2006 - 2007          1   7:26  \n",
       "3   18-Dec  2006 - 2007          0   7:26  \n",
       "4   21-Dec  2006 - 2007          1   7:18  \n",
       "5  33 - 20  2006 - 2007          1   3:15  \n",
       "6  34 - 20  2006 - 2007          1   3:15  \n",
       "7  43 - 29  2006 - 2007          0  10:52  \n",
       "8  44 - 29  2006 - 2007          1  10:52  \n",
       "9  44 - 30  2006 - 2007          1  10:37  "
      ]
     },
     "execution_count": 6,
     "metadata": {},
     "output_type": "execute_result"
    }
   ],
   "source": [
    "free_throws_db = pd.read_csv('free_throws.csv')\n",
    "free_throws_db.drop_duplicates()\n",
    "free_throws_db.head(10)"
   ]
  },
  {
   "cell_type": "markdown",
   "metadata": {},
   "source": [
    "Describition of dataset:\n",
    "- end_result: host total score - guest total score\n",
    "- game: host team vs guest team\n",
    "- game_id: id of specific game\n",
    "- period: which quarter\n",
    "- play: who make free throw, make or miss free throw\n",
    "- player: player name\n",
    "- playoffs: whether a playoff game or regular game\n",
    "- score: host team score - guest team score at that time\n",
    "- season: NBA season\n",
    "- shot_made: whether player got the free throw\n",
    "- time: time left in that quarter"
   ]
  },
  {
   "cell_type": "code",
   "execution_count": 7,
   "metadata": {},
   "outputs": [
    {
     "name": "stdout",
     "output_type": "stream",
     "text": [
      "Number of free throws in database: 618019\n",
      "Number of games in database: 12874\n",
      "Games distribution:\n"
     ]
    },
    {
     "data": {
      "text/plain": [
       "regular     575893\n",
       "playoffs     42126\n",
       "Name: playoffs, dtype: int64"
      ]
     },
     "execution_count": 7,
     "metadata": {},
     "output_type": "execute_result"
    }
   ],
   "source": [
    "print(\"Number of free throws in database: %d\"%(free_throws_db.shape[0]))\n",
    "print(\"Number of games in database: {}\".format(free_throws_db.game_id.unique().size))\n",
    "print(\"Games distribution:\")\n",
    "free_throws_db['playoffs'].value_counts()"
   ]
  },
  {
   "cell_type": "markdown",
   "metadata": {},
   "source": [
    "## Collecting more data from internet\n",
    "\n",
    "In order to expand our dataset, we decided to use an open source python library PandasBasketball, and use a webscrapper in order to get more players stats from https://www.basketball-reference.com website"
   ]
  },
  {
   "cell_type": "markdown",
   "metadata": {},
   "source": [
    "Example of basketball-reference NBA player stats webpage:\n",
    "![title](img/lebron_page_1.jpg)\n",
    "![title](img/lebron_page_2.jpg)"
   ]
  },
  {
   "cell_type": "markdown",
   "metadata": {},
   "source": [
    "And our code to extract from website html our data"
   ]
  },
  {
   "cell_type": "code",
   "execution_count": 8,
   "metadata": {},
   "outputs": [
    {
     "ename": "ModuleNotFoundError",
     "evalue": "No module named 'PandasBasketball'",
     "output_type": "error",
     "traceback": [
      "\u001b[1;31m---------------------------------------------------------------------------\u001b[0m",
      "\u001b[1;31mModuleNotFoundError\u001b[0m                       Traceback (most recent call last)",
      "\u001b[1;32m<ipython-input-8-f0e5873435e3>\u001b[0m in \u001b[0;36m<module>\u001b[1;34m\u001b[0m\n\u001b[1;32m----> 1\u001b[1;33m \u001b[1;32mfrom\u001b[0m \u001b[0mtools\u001b[0m \u001b[1;32mimport\u001b[0m \u001b[0mget_player_stats\u001b[0m\u001b[1;33m\u001b[0m\u001b[1;33m\u001b[0m\u001b[0m\n\u001b[0m\u001b[0;32m      2\u001b[0m \u001b[1;32mimport\u001b[0m \u001b[0mwarnings\u001b[0m\u001b[1;33m\u001b[0m\u001b[1;33m\u001b[0m\u001b[0m\n\u001b[0;32m      3\u001b[0m \u001b[0mwarnings\u001b[0m\u001b[1;33m.\u001b[0m\u001b[0mfilterwarnings\u001b[0m\u001b[1;33m(\u001b[0m\u001b[1;34m\"ignore\"\u001b[0m\u001b[1;33m,\u001b[0m \u001b[0mcategory\u001b[0m\u001b[1;33m=\u001b[0m\u001b[0mUserWarning\u001b[0m\u001b[1;33m,\u001b[0m \u001b[0mmodule\u001b[0m\u001b[1;33m=\u001b[0m\u001b[1;34m'BeatifulSoup'\u001b[0m\u001b[1;33m)\u001b[0m\u001b[1;33m\u001b[0m\u001b[1;33m\u001b[0m\u001b[0m\n\u001b[0;32m      4\u001b[0m \u001b[0mdataFrame\u001b[0m \u001b[1;33m=\u001b[0m \u001b[0mget_player_stats\u001b[0m\u001b[1;33m(\u001b[0m\u001b[1;34m\"Lebron James\"\u001b[0m\u001b[1;33m)\u001b[0m\u001b[1;33m\u001b[0m\u001b[1;33m\u001b[0m\u001b[0m\n\u001b[0;32m      5\u001b[0m \u001b[0mprint\u001b[0m\u001b[1;33m(\u001b[0m\u001b[0mdataFrame\u001b[0m\u001b[1;33m.\u001b[0m\u001b[0mcolumns\u001b[0m\u001b[1;33m)\u001b[0m\u001b[1;33m\u001b[0m\u001b[1;33m\u001b[0m\u001b[0m\n",
      "\u001b[1;32m~\\PycharmProjects\\DS_Workshop_cloned\\tools.py\u001b[0m in \u001b[0;36m<module>\u001b[1;34m\u001b[0m\n\u001b[1;32m----> 1\u001b[1;33m \u001b[1;32mfrom\u001b[0m \u001b[0mPandasBasketball\u001b[0m \u001b[1;32mimport\u001b[0m \u001b[0mpandasbasketball\u001b[0m \u001b[1;32mas\u001b[0m \u001b[0mpb\u001b[0m\u001b[1;33m\u001b[0m\u001b[1;33m\u001b[0m\u001b[0m\n\u001b[0m\u001b[0;32m      2\u001b[0m \u001b[1;32mfrom\u001b[0m \u001b[0mPandasBasketball\u001b[0m\u001b[1;33m.\u001b[0m\u001b[0merrors\u001b[0m \u001b[1;32mimport\u001b[0m \u001b[0mStatusCode404\u001b[0m\u001b[1;33m\u001b[0m\u001b[1;33m\u001b[0m\u001b[0m\n\u001b[0;32m      3\u001b[0m \u001b[1;32mimport\u001b[0m \u001b[0mrequests\u001b[0m\u001b[1;33m\u001b[0m\u001b[1;33m\u001b[0m\u001b[0m\n\u001b[0;32m      4\u001b[0m \u001b[1;32mfrom\u001b[0m \u001b[0mbs4\u001b[0m \u001b[1;32mimport\u001b[0m \u001b[0mBeautifulSoup\u001b[0m\u001b[1;33m,\u001b[0m \u001b[0mNavigableString\u001b[0m\u001b[1;33m\u001b[0m\u001b[1;33m\u001b[0m\u001b[0m\n\u001b[0;32m      5\u001b[0m \u001b[1;32mimport\u001b[0m \u001b[0mpandas\u001b[0m \u001b[1;32mas\u001b[0m \u001b[0mpd\u001b[0m\u001b[1;33m\u001b[0m\u001b[1;33m\u001b[0m\u001b[0m\n",
      "\u001b[1;31mModuleNotFoundError\u001b[0m: No module named 'PandasBasketball'"
     ]
    }
   ],
   "source": [
    "from tools import get_player_stats\n",
    "import warnings\n",
    "warnings.filterwarnings(\"ignore\", category=UserWarning, module='BeatifulSoup')\n",
    "dataFrame = get_player_stats(\"Lebron James\")\n",
    "print(dataFrame.columns)\n",
    "dataFrame.head(20)"
   ]
  },
  {
   "cell_type": "markdown",
   "metadata": {},
   "source": [
    "Columns used for this database for each player:\n",
    "- Position : The most common position for the player over his seasons.\n",
    "- FG%\n",
    "- 3P%\n",
    "- FT%\n",
    "- Height\n",
    "- Weight\n",
    "- ShootingHand\n",
    "- draftRank"
   ]
  },
  {
   "cell_type": "markdown",
   "metadata": {},
   "source": [
    "## We merged both the datasets according our collected data from internet.\n",
    "Some players stats had been inserted manually because some bugs found on PandasBasketball library"
   ]
  },
  {
   "cell_type": "code",
   "execution_count": 4,
   "metadata": {
    "scrolled": true
   },
   "outputs": [
    {
     "data": {
      "text/html": [
       "<div>\n",
       "<style scoped>\n",
       "    .dataframe tbody tr th:only-of-type {\n",
       "        vertical-align: middle;\n",
       "    }\n",
       "\n",
       "    .dataframe tbody tr th {\n",
       "        vertical-align: top;\n",
       "    }\n",
       "\n",
       "    .dataframe thead th {\n",
       "        text-align: right;\n",
       "    }\n",
       "</style>\n",
       "<table border=\"1\" class=\"dataframe\">\n",
       "  <thead>\n",
       "    <tr style=\"text-align: right;\">\n",
       "      <th></th>\n",
       "      <th>end_result</th>\n",
       "      <th>game</th>\n",
       "      <th>game_id</th>\n",
       "      <th>period</th>\n",
       "      <th>play</th>\n",
       "      <th>player</th>\n",
       "      <th>playoffs</th>\n",
       "      <th>score</th>\n",
       "      <th>season</th>\n",
       "      <th>shot_made</th>\n",
       "      <th>time</th>\n",
       "      <th>FG%</th>\n",
       "      <th>2P%</th>\n",
       "      <th>3P%</th>\n",
       "      <th>FT%</th>\n",
       "      <th>Height</th>\n",
       "      <th>Weight</th>\n",
       "      <th>draftRank</th>\n",
       "      <th>Pos</th>\n",
       "      <th>ShootingHand</th>\n",
       "    </tr>\n",
       "  </thead>\n",
       "  <tbody>\n",
       "    <tr>\n",
       "      <th>0</th>\n",
       "      <td>106 - 114</td>\n",
       "      <td>PHX - LAL</td>\n",
       "      <td>261031013</td>\n",
       "      <td>1</td>\n",
       "      <td>Andrew Bynum makes free throw 1 of 2</td>\n",
       "      <td>Andrew Bynum</td>\n",
       "      <td>regular</td>\n",
       "      <td>0 - 1</td>\n",
       "      <td>2006 - 2007</td>\n",
       "      <td>1</td>\n",
       "      <td>11:45</td>\n",
       "      <td>0.556</td>\n",
       "      <td>0.557</td>\n",
       "      <td>0.111</td>\n",
       "      <td>0.69</td>\n",
       "      <td>213</td>\n",
       "      <td>129</td>\n",
       "      <td>10.0</td>\n",
       "      <td>C</td>\n",
       "      <td>Right</td>\n",
       "    </tr>\n",
       "    <tr>\n",
       "      <th>1</th>\n",
       "      <td>106 - 114</td>\n",
       "      <td>PHX - LAL</td>\n",
       "      <td>261031013</td>\n",
       "      <td>1</td>\n",
       "      <td>Andrew Bynum makes free throw 2 of 2</td>\n",
       "      <td>Andrew Bynum</td>\n",
       "      <td>regular</td>\n",
       "      <td>0 - 2</td>\n",
       "      <td>2006 - 2007</td>\n",
       "      <td>1</td>\n",
       "      <td>11:45</td>\n",
       "      <td>0.556</td>\n",
       "      <td>0.557</td>\n",
       "      <td>0.111</td>\n",
       "      <td>0.69</td>\n",
       "      <td>213</td>\n",
       "      <td>129</td>\n",
       "      <td>10.0</td>\n",
       "      <td>C</td>\n",
       "      <td>Right</td>\n",
       "    </tr>\n",
       "    <tr>\n",
       "      <th>2</th>\n",
       "      <td>106 - 114</td>\n",
       "      <td>PHX - LAL</td>\n",
       "      <td>261031013</td>\n",
       "      <td>1</td>\n",
       "      <td>Andrew Bynum makes free throw 1 of 2</td>\n",
       "      <td>Andrew Bynum</td>\n",
       "      <td>regular</td>\n",
       "      <td>18-12</td>\n",
       "      <td>2006 - 2007</td>\n",
       "      <td>1</td>\n",
       "      <td>07:26</td>\n",
       "      <td>0.556</td>\n",
       "      <td>0.557</td>\n",
       "      <td>0.111</td>\n",
       "      <td>0.69</td>\n",
       "      <td>213</td>\n",
       "      <td>129</td>\n",
       "      <td>10.0</td>\n",
       "      <td>C</td>\n",
       "      <td>Right</td>\n",
       "    </tr>\n",
       "    <tr>\n",
       "      <th>3</th>\n",
       "      <td>106 - 114</td>\n",
       "      <td>PHX - LAL</td>\n",
       "      <td>261031013</td>\n",
       "      <td>1</td>\n",
       "      <td>Andrew Bynum misses free throw 2 of 2</td>\n",
       "      <td>Andrew Bynum</td>\n",
       "      <td>regular</td>\n",
       "      <td>18-12</td>\n",
       "      <td>2006 - 2007</td>\n",
       "      <td>0</td>\n",
       "      <td>07:26</td>\n",
       "      <td>0.556</td>\n",
       "      <td>0.557</td>\n",
       "      <td>0.111</td>\n",
       "      <td>0.69</td>\n",
       "      <td>213</td>\n",
       "      <td>129</td>\n",
       "      <td>10.0</td>\n",
       "      <td>C</td>\n",
       "      <td>Right</td>\n",
       "    </tr>\n",
       "    <tr>\n",
       "      <th>4</th>\n",
       "      <td>106 - 114</td>\n",
       "      <td>PHX - LAL</td>\n",
       "      <td>261031013</td>\n",
       "      <td>1</td>\n",
       "      <td>Shawn Marion makes free throw 1 of 1</td>\n",
       "      <td>Shawn Marion</td>\n",
       "      <td>regular</td>\n",
       "      <td>21-12</td>\n",
       "      <td>2006 - 2007</td>\n",
       "      <td>1</td>\n",
       "      <td>07:18</td>\n",
       "      <td>0.484</td>\n",
       "      <td>0.513</td>\n",
       "      <td>0.331</td>\n",
       "      <td>0.81</td>\n",
       "      <td>201</td>\n",
       "      <td>99</td>\n",
       "      <td>9.0</td>\n",
       "      <td>SF</td>\n",
       "      <td>Right</td>\n",
       "    </tr>\n",
       "  </tbody>\n",
       "</table>\n",
       "</div>"
      ],
      "text/plain": [
       "  end_result       game    game_id  period  \\\n",
       "0  106 - 114  PHX - LAL  261031013       1   \n",
       "1  106 - 114  PHX - LAL  261031013       1   \n",
       "2  106 - 114  PHX - LAL  261031013       1   \n",
       "3  106 - 114  PHX - LAL  261031013       1   \n",
       "4  106 - 114  PHX - LAL  261031013       1   \n",
       "\n",
       "                                    play        player playoffs  score  \\\n",
       "0   Andrew Bynum makes free throw 1 of 2  Andrew Bynum  regular  0 - 1   \n",
       "1   Andrew Bynum makes free throw 2 of 2  Andrew Bynum  regular  0 - 2   \n",
       "2   Andrew Bynum makes free throw 1 of 2  Andrew Bynum  regular  18-12   \n",
       "3  Andrew Bynum misses free throw 2 of 2  Andrew Bynum  regular  18-12   \n",
       "4   Shawn Marion makes free throw 1 of 1  Shawn Marion  regular  21-12   \n",
       "\n",
       "        season  shot_made   time    FG%    2P%    3P%   FT% Height Weight  \\\n",
       "0  2006 - 2007          1  11:45  0.556  0.557  0.111  0.69    213   129    \n",
       "1  2006 - 2007          1  11:45  0.556  0.557  0.111  0.69    213   129    \n",
       "2  2006 - 2007          1  07:26  0.556  0.557  0.111  0.69    213   129    \n",
       "3  2006 - 2007          0  07:26  0.556  0.557  0.111  0.69    213   129    \n",
       "4  2006 - 2007          1  07:18  0.484  0.513  0.331  0.81    201    99    \n",
       "\n",
       "  draftRank Pos ShootingHand  \n",
       "0      10.0   C        Right  \n",
       "1      10.0   C        Right  \n",
       "2      10.0   C        Right  \n",
       "3      10.0   C        Right  \n",
       "4       9.0  SF        Right  "
      ]
     },
     "execution_count": 4,
     "metadata": {},
     "output_type": "execute_result"
    }
   ],
   "source": [
    "database_p1 = pd.read_csv(\"merged_db_part1.csv\")\n",
    "database_p2 = pd.read_csv(\"merged_db_part2.csv\")\n",
    "\n",
    "database = pd.concat([database_p1,database_p2])\n",
    "database = database.drop(columns=['Unnamed: 0', 'Unnamed: 0.1'])\n",
    "# Drop duplicated rows\n",
    "database.drop_duplicates()\n",
    "database.head(5)"
   ]
  },
  {
   "cell_type": "markdown",
   "metadata": {},
   "source": [
    "## Specifing Data Types"
   ]
  },
  {
   "cell_type": "code",
   "execution_count": 5,
   "metadata": {},
   "outputs": [],
   "source": [
    "binary_variables = ['shot_made', 'playoffs', 'ShootingHand']\n",
    "categorical_variables = ['end_result', 'game', 'game_id', 'period', 'play', 'player', 'season', 'Pos']\n",
    "numeric_variables = ['score','time','FG%','2P%', '3P%', 'FT%', 'Height', 'Weight', 'draftRank']"
   ]
  },
  {
   "cell_type": "code",
   "execution_count": 6,
   "metadata": {},
   "outputs": [
    {
     "data": {
      "text/plain": [
       "end_result      618019\n",
       "game            618019\n",
       "game_id         618019\n",
       "period          618019\n",
       "play            618019\n",
       "player          618019\n",
       "playoffs        618019\n",
       "score           618019\n",
       "season          618019\n",
       "shot_made       618019\n",
       "time            618019\n",
       "FG%             618019\n",
       "2P%             618019\n",
       "3P%             612941\n",
       "FT%             618019\n",
       "Height          618019\n",
       "Weight          618019\n",
       "draftRank       579587\n",
       "Pos             618019\n",
       "ShootingHand    618019\n",
       "dtype: int64"
      ]
     },
     "execution_count": 6,
     "metadata": {},
     "output_type": "execute_result"
    }
   ],
   "source": [
    "database.count()"
   ]
  },
  {
   "cell_type": "markdown",
   "metadata": {},
   "source": [
    "We can see, we have only two columns with missing data. First - the draftRank column. \n",
    "This values are missing because the players performed the free throw didn't have a draft rank and not because we couldn't collect the data. Second - 3P% has missing values since there are players that have never throws a 3-pointer."
   ]
  },
  {
   "cell_type": "markdown",
   "metadata": {},
   "source": [
    "### Analyzing the number of throws troughout the game\n",
    "\n",
    "We would like to show the free throws distribution throughout the game time,\n",
    "in our current dataset, the time column represents the time left in that quarter and the period column represents the quarter of the game, so we'll add a new column to our data which calculate the absolute time in the game that the throw was made."
   ]
  },
  {
   "cell_type": "code",
   "execution_count": 13,
   "metadata": {
    "scrolled": true
   },
   "outputs": [],
   "source": [
    "database['minute'] = database.time.apply(lambda x: int(x[:len(x)-3]))\n",
    "database['sec'] = database.time.apply(lambda x: int(x[len(x)-2:]))\n",
    "database['abs_min'] = 12 - database['minute']+12*(database.period -1)\n",
    "database['abs_time'] = 60*(database.abs_min-1) + 60 - database['sec']\n",
    "\n",
    "#  counting the num of throws, and success throws precentage per minute\n",
    "minutes = range(int(max(database.abs_min)))\n",
    "total_throws = []\n",
    "success_throws = []\n",
    "success_precentage = []\n",
    "\n",
    "def count_throws(database,minute):    \n",
    "    made = len(database[(database.abs_min == minute) & (database.shot_made == 1)])\n",
    "    success_throws.append(made)\n",
    "    total = len(database[database.abs_min == minute])\n",
    "    total_throws.append(total)\n",
    "    if total == 0:\n",
    "        precentage = 0.0\n",
    "    else:\n",
    "        precentage = made/total\n",
    "    success_precentage.append(precentage)\n",
    "\n",
    "for minute in minutes:\n",
    "    count_throws(database,minute)"
   ]
  },
  {
   "cell_type": "code",
   "execution_count": 14,
   "metadata": {},
   "outputs": [
    {
     "data": {
      "text/plain": [
       "Text(0, 0.5, 'num of throws')"
      ]
     },
     "execution_count": 14,
     "metadata": {},
     "output_type": "execute_result"
    },
    {
     "data": {
      "image/png": "[encoded data removed]",
      "text/plain": [
       "<Figure size 432x288 with 1 Axes>"
      ]
     },
     "metadata": {
      "needs_background": "light"
     },
     "output_type": "display_data"
    }
   ],
   "source": [
    "# Number of throws over time\n",
    "plt.plot(minutes,total_throws)\n",
    "plt.title('Number of throws over time')\n",
    "plt.xlim([1,48])\n",
    "plt.ylim([0, 40000])\n",
    "plt.plot([12,12],[0,40000], '--', linewidth = 1, color = 'r')\n",
    "plt.plot([24,24],[0,40000], '--', linewidth = 1, color = 'r')\n",
    "plt.plot([36,36],[0,40000], '--', linewidth = 1, color = 'r')\n",
    "plt.plot([48,48],[0,40000], '--', linewidth = 1, color = 'r')\n",
    "plt.xlabel('Minute')\n",
    "plt.ylabel('num of throws')"
   ]
  },
  {
   "cell_type": "code",
   "execution_count": 15,
   "metadata": {},
   "outputs": [
    {
     "data": {
      "text/plain": [
       "Text(0, 0.5, 'Free Throws %')"
      ]
     },
     "execution_count": 15,
     "metadata": {},
     "output_type": "execute_result"
    },
    {
     "data": {
      "image/png": "[encoded data removed]",
      "text/plain": [
       "<Figure size 432x288 with 1 Axes>"
      ]
     },
     "metadata": {
      "needs_background": "light"
     },
     "output_type": "display_data"
    }
   ],
   "source": [
    "# Success throws precentage over time   \n",
    "plt.plot(minutes,success_precentage)\n",
    "plt.title('Scoring % over time - Always worse at the beginning')\n",
    "plt.xlim([1,48])\n",
    "plt.ylim([0.65,0.85])\n",
    "plt.plot([12,12],[0,1], '--', linewidth = 1, color = 'r')\n",
    "plt.plot([24,24],[0,1], '--', linewidth = 1, color = 'r')\n",
    "plt.plot([36,36],[0,1], '--', linewidth = 1, color = 'r')\n",
    "plt.plot([48,48],[0,1], '--', linewidth = 1, color = 'r')\n",
    "plt.xlabel('Minute')\n",
    "plt.ylabel('Free Throws %')"
   ]
  },
  {
   "cell_type": "markdown",
   "metadata": {},
   "source": [
    "From the plots we can observe that at the begining of every querter, both the number of free throws and the success precentage drops.\n",
    "Moreover, at the end of a quarter, and especially at the end of the game, both plots increase.\n",
    "We can explain this behaivor, as basketball rules when a team made more than 5 fouls, every another foul made in that quarter will be penalty with a free throw.\n"
   ]
  },
  {
   "cell_type": "markdown",
   "metadata": {},
   "source": [
    "### Analyzing the number of throws troughout the game\n",
    "We want to see how the average of free throws attempted and succeed in games over our differents season in our dataset are distributed."
   ]
  },
  {
   "cell_type": "code",
   "execution_count": 16,
   "metadata": {},
   "outputs": [
    {
     "data": {
      "image/png": "[encoded data removed]",
      "text/plain": [
       "<Figure size 1080x576 with 1 Axes>"
      ]
     },
     "metadata": {
      "needs_background": "light"
     },
     "output_type": "display_data"
    }
   ],
   "source": [
    "shot_attempted_per_game = database.groupby([\"season\", \"playoffs\"])['shot_made'].count().unstack()\n",
    "shot_made_per_game = database.groupby([\"season\", \"playoffs\"])['shot_made'].sum().unstack()\n",
    "\n",
    "# this has to be divided by the number of games for each season to get an average\n",
    "number_of_games=database.groupby([\"season\", \"playoffs\"])['game_id'].nunique().unstack()\n",
    "\n",
    "average_shot_made_per_game = shot_made_per_game/number_of_games\n",
    "average_shot_attempted_per_game = shot_attempted_per_game/number_of_games\n",
    "\n",
    "\n",
    "f, (ax1) = plt.subplots(figsize=(18,18))\n",
    "first=average_shot_attempted_per_game.plot(ax=ax1, marker='o', figsize=(15,8), xticks=range(10), color=['b','r'], rot=90)\n",
    "second=average_shot_made_per_game.plot(ax=ax1, marker='o', linestyle='--', figsize=(15,8), xticks=range(10), color=['b','r'], rot=90)\n",
    "ax1.set_title('Average number of free throws per period. Attempted vs Successfula', size=25)\n",
    "legend=plt.legend((' playoffs attempted','regular attempted','playoffs successful','regular successful'), loc=6)\n",
    "ax1.add_artist(legend)\n",
    "plt.show()"
   ]
  },
  {
   "cell_type": "markdown",
   "metadata": {},
   "source": [
    "We can see that are not very big differences over the seasons at both attempted and successful shots.\n",
    "But there is a clear difference between the amount of made shots and and successful shots at playoffs and regular season.\n"
   ]
  },
  {
   "cell_type": "code",
   "execution_count": 17,
   "metadata": {},
   "outputs": [
    {
     "name": "stdout",
     "output_type": "stream",
     "text": [
      "Made shots percentage in dataset: 75.68\n",
      "Missed shots percentage in dataset: 24.32\n"
     ]
    }
   ],
   "source": [
    "made_shot_perc , missed_shot_perc = database['shot_made'].value_counts(normalize=True) * 100\n",
    "print(\"Made shots percentage in dataset: %.2f\"%(made_shot_perc))\n",
    "print(\"Missed shots percentage in dataset: %.2f\"%(missed_shot_perc))\n"
   ]
  },
  {
   "cell_type": "markdown",
   "metadata": {},
   "source": [
    "### The correlation between the player's draft rank and the free-throw result\n",
    "\n",
    "We wanted to check if there is a conection between the draft rank of the player performing the shot and the result of the shot. \n",
    "As we saw at the data description, we have some missing values in the draftRank column, and it was because the player throwing had no draft rank. \n",
    "\n",
    "As we can see below, the majoraty of the data in this column is avalable so we will ommit throws that were made by a players with no draft rank."
   ]
  },
  {
   "cell_type": "code",
   "execution_count": 13,
   "metadata": {},
   "outputs": [
    {
     "name": "stdout",
     "output_type": "stream",
     "text": [
      "0.9378142095954979\n"
     ]
    }
   ],
   "source": [
    "# the percentage of the data that has draftRank:\n",
    "print(database['draftRank'].count()/database['game'].count())"
   ]
  },
  {
   "cell_type": "code",
   "execution_count": 14,
   "metadata": {
    "scrolled": true
   },
   "outputs": [],
   "source": [
    "# Function that replace the field \"undrafted\" with a 0 in draftRank column\n",
    "\n",
    "database['draftRank'] = database['draftRank'].replace(np.nan, 0)\n",
    "database['draftRank'] = database['draftRank'].replace(\"undrafted\", 0)\n",
    "# pd.to_numeric(free_throws_db['draftRank'])\n",
    "database['draftRank'] = database.draftRank.apply(lambda x: int(float(x)))\n",
    "\n",
    "np.nanmax(database['draftRank'])\n",
    "\n",
    "ranks = range(int(np.nanmax(database['draftRank']))+1)\n",
    "success_precentage_by_rank = []\n",
    "\n",
    "def throws_per_rank(database,rank):    \n",
    "    total = len(database[database.draftRank == rank])\n",
    "    if total == 0:\n",
    "        precentage = 0.0\n",
    "    else:\n",
    "        made = len(database[(database.draftRank == rank) & (database.shot_made == 1)])\n",
    "        precentage = made/total\n",
    "    success_precentage_by_rank.append(precentage)\n",
    "\n",
    "for rank in ranks:\n",
    "    throws_per_rank(database,rank)"
   ]
  },
  {
   "cell_type": "code",
   "execution_count": 15,
   "metadata": {
    "scrolled": true
   },
   "outputs": [
    {
     "data": {
      "text/plain": [
       "Text(0, 0.5, 'Free Throws %')"
      ]
     },
     "execution_count": 15,
     "metadata": {},
     "output_type": "execute_result"
    },
    {
     "data": {
      "image/png": "[encoded data removed]",
      "text/plain": [
       "<Figure size 432x288 with 1 Axes>"
      ]
     },
     "metadata": {
      "needs_background": "light"
     },
     "output_type": "display_data"
    }
   ],
   "source": [
    "# Success throws precentage over time\n",
    "plt.plot(list(ranks),success_precentage_by_rank)\n",
    "plt.title('Success Throws percentage as function of Draft Rank  ')\n",
    "plt.ylim([0,1])\n",
    "plt.xlabel('Draft Rank')\n",
    "plt.ylabel('Free Throws %')"
   ]
  },
  {
   "cell_type": "markdown",
   "metadata": {},
   "source": [
    "As we see, there is no special trend in the graph (the FT% is between 0.7 to 0.9 for all ranks). We expected that the higher-ranked players would have better performence but we can't conclude it from the data. \n",
    "\n",
    "We have to take under consideration that the draft-rank data is not uniformly distributed, as we can see in the graph below, and is biased towared small values (the value 0 represents missing values, and in our case players who had no draft rank), so the barplot above needs to be normalized."
   ]
  },
  {
   "cell_type": "code",
   "execution_count": 16,
   "metadata": {},
   "outputs": [
    {
     "data": {
      "text/plain": [
       "<matplotlib.axes._subplots.AxesSubplot at 0x116a01c10>"
      ]
     },
     "execution_count": 16,
     "metadata": {},
     "output_type": "execute_result"
    },
    {
     "data": {
      "image/png": "[encoded data removed]",
      "text/plain": [
       "<Figure size 432x288 with 1 Axes>"
      ]
     },
     "metadata": {
      "needs_background": "light"
     },
     "output_type": "display_data"
    }
   ],
   "source": [
    "sns.distplot(database['draftRank'])"
   ]
  },
  {
   "cell_type": "markdown",
   "metadata": {},
   "source": [
    "### The correlation between the score difference and the free-throw result\n",
    "\n",
    "We will add a column calculating the differance.\n",
    "We assume that if the difference is small in the time of the shot, the player would be more stressed and his shooting precentage would drop. "
   ]
  },
  {
   "cell_type": "code",
   "execution_count": 17,
   "metadata": {},
   "outputs": [
    {
     "name": "stdout",
     "output_type": "stream",
     "text": [
      "0          1\n",
      "1          2\n",
      "2         -6\n",
      "3         -6\n",
      "4         -9\n",
      "          ..\n",
      "309005    13\n",
      "309006    14\n",
      "309007    15\n",
      "309008    15\n",
      "309009    14\n",
      "Name: scoreDif, Length: 618019, dtype: int64\n"
     ]
    }
   ],
   "source": [
    "database['scores'] = database.score.replace(' - ', '-').apply(lambda x: x.split('-'))\n",
    "database['scoreDif'] = database.scores.apply(lambda x: int(x[1])-int(x[0]))\n",
    "print(database['scoreDif'])"
   ]
  },
  {
   "cell_type": "code",
   "execution_count": 18,
   "metadata": {},
   "outputs": [],
   "source": [
    "difs = range(int(np.min(database['scoreDif']))+1,int(np.max(database['scoreDif']))+1)\n",
    "success_precentage_by_scoreDif = []\n",
    "\n",
    "def throws_per_dif(database,dif):    \n",
    "    total = len(database[database.scoreDif == dif])\n",
    "    if total == 0:\n",
    "        precentage = 0.0\n",
    "    else:\n",
    "        made = len(database[(database.scoreDif == dif) & (database.shot_made == 1)])\n",
    "        precentage = made/total\n",
    "    success_precentage_by_scoreDif.append(precentage)\n",
    "\n",
    "for dif in difs:\n",
    "    throws_per_dif(database,dif)"
   ]
  },
  {
   "cell_type": "code",
   "execution_count": 19,
   "metadata": {},
   "outputs": [
    {
     "data": {
      "image/png": "[encoded data removed]",
      "text/plain": [
       "<Figure size 432x288 with 1 Axes>"
      ]
     },
     "metadata": {
      "needs_background": "light"
     },
     "output_type": "display_data"
    },
    {
     "data": {
      "text/plain": [
       "(-10, 10)"
      ]
     },
     "execution_count": 19,
     "metadata": {},
     "output_type": "execute_result"
    },
    {
     "data": {
      "image/png": "[encoded data removed]",
      "text/plain": [
       "<Figure size 432x288 with 1 Axes>"
      ]
     },
     "metadata": {
      "needs_background": "light"
     },
     "output_type": "display_data"
    }
   ],
   "source": [
    "# Success throws precentage over time\n",
    "plt.bar(list(difs),success_precentage_by_scoreDif)\n",
    "plt.title('Success Throws percentage as function of Score Difference')\n",
    "plt.ylim([0,1])\n",
    "plt.xlabel('Score Differance')\n",
    "plt.ylabel('Free Throws %')\n",
    "plt.show()\n",
    "plt.bar(list(difs),success_precentage_by_scoreDif)\n",
    "plt.title('Success Throws percentage as function of Score Difference')\n",
    "plt.ylim([0,1])\n",
    "plt.xlabel('Score Difference')\n",
    "plt.ylabel('Free Throws %')\n",
    "plt.xlim(-10,10)"
   ]
  },
  {
   "cell_type": "markdown",
   "metadata": {},
   "source": [
    "At the 'Success Throws percentage as function of Score Difference' plot, it seems that our hypotesis that as long as the score difference gets bigger, so as the free-throw success precentaege is partly true. \n",
    "We can see a trend in the graph but it is not continuous.\n",
    "\n",
    "Furthermore, here too we have to relate to the fact that we have much more samples with low difference than high difference. \n",
    "As shown at graph below."
   ]
  },
  {
   "cell_type": "code",
   "execution_count": 20,
   "metadata": {},
   "outputs": [
    {
     "data": {
      "image/png": "[encoded data removed]",
      "text/plain": [
       "<Figure size 432x288 with 1 Axes>"
      ]
     },
     "metadata": {
      "needs_background": "light"
     },
     "output_type": "display_data"
    }
   ],
   "source": [
    "plot_ = sns.countplot(x='scoreDif', data=database)\n",
    "for ind, label in enumerate(plot_.get_xticklabels()):\n",
    "    if (ind-3) % 10 == 0:  # every 10th label is kept\n",
    "        label.set_visible(True)\n",
    "    else:\n",
    "        label.set_visible(False)\n",
    "plt.show()"
   ]
  },
  {
   "cell_type": "markdown",
   "metadata": {},
   "source": [
    "### The correlation between the player position and the free-throw result\n",
    "We want to analyze if the \"Position\" feature of each player could be a helpful feature that may help our prediction model.\n",
    "Above we can see a plot showing the distribution of the FT% over the different positions."
   ]
  },
  {
   "cell_type": "code",
   "execution_count": 21,
   "metadata": {},
   "outputs": [
    {
     "data": {
      "image/png": "[encoded data removed]",
      "text/plain": [
       "<Figure size 360x360 with 1 Axes>"
      ]
     },
     "metadata": {
      "needs_background": "light"
     },
     "output_type": "display_data"
    }
   ],
   "source": [
    "ax2 = sns.catplot(x=\"Pos\", y=\"FT%\", data=database);\n",
    "#ax2 = sns.catplot(x=\"Pos\", y=\"FT%\",  kind=\"swarm\", data=database);\n",
    "ax2.set(xlabel='Player Position', ylabel='Throws Percentage')\n",
    "plt.show()"
   ]
  },
  {
   "cell_type": "markdown",
   "metadata": {},
   "source": [
    "Average FT% at each position"
   ]
  },
  {
   "cell_type": "code",
   "execution_count": 22,
   "metadata": {},
   "outputs": [
    {
     "data": {
      "text/html": [
       "<div>\n",
       "<style scoped>\n",
       "    .dataframe tbody tr th:only-of-type {\n",
       "        vertical-align: middle;\n",
       "    }\n",
       "\n",
       "    .dataframe tbody tr th {\n",
       "        vertical-align: top;\n",
       "    }\n",
       "\n",
       "    .dataframe thead th {\n",
       "        text-align: right;\n",
       "    }\n",
       "</style>\n",
       "<table border=\"1\" class=\"dataframe\">\n",
       "  <thead>\n",
       "    <tr style=\"text-align: right;\">\n",
       "      <th></th>\n",
       "      <th>FT%</th>\n",
       "    </tr>\n",
       "    <tr>\n",
       "      <th>Pos</th>\n",
       "      <th></th>\n",
       "    </tr>\n",
       "  </thead>\n",
       "  <tbody>\n",
       "    <tr>\n",
       "      <th>C</th>\n",
       "      <td>0.675366</td>\n",
       "    </tr>\n",
       "    <tr>\n",
       "      <th>PF</th>\n",
       "      <td>0.724143</td>\n",
       "    </tr>\n",
       "    <tr>\n",
       "      <th>PG</th>\n",
       "      <td>0.805380</td>\n",
       "    </tr>\n",
       "    <tr>\n",
       "      <th>SF</th>\n",
       "      <td>0.777317</td>\n",
       "    </tr>\n",
       "    <tr>\n",
       "      <th>SG</th>\n",
       "      <td>0.802994</td>\n",
       "    </tr>\n",
       "  </tbody>\n",
       "</table>\n",
       "</div>"
      ],
      "text/plain": [
       "          FT%\n",
       "Pos          \n",
       "C    0.675366\n",
       "PF   0.724143\n",
       "PG   0.805380\n",
       "SF   0.777317\n",
       "SG   0.802994"
      ]
     },
     "execution_count": 22,
     "metadata": {},
     "output_type": "execute_result"
    }
   ],
   "source": [
    "database.groupby('Pos').agg({'FT%':'mean'})"
   ]
  },
  {
   "cell_type": "markdown",
   "metadata": {},
   "source": [
    "We can see that Centers players owns the worst percentage.\n",
    "\n",
    "Point Guards and Shouting Guards players holds the best percentage over all the positions."
   ]
  },
  {
   "cell_type": "markdown",
   "metadata": {},
   "source": [
    "Next, we will check how well our dataset represents the general population of NBA Players.\n",
    "1. MSE of the FT% players achieved in their carrers and their FT% we have in the dataset."
   ]
  },
  {
   "cell_type": "code",
   "execution_count": 132,
   "metadata": {},
   "outputs": [],
   "source": [
    "def Dataset_FT_Percentage_per_player(players, database):\n",
    "    FT_dict = dict()\n",
    "    for player in players:\n",
    "        shots_made = len(database[(database.player == player) & (database.shot_made == 1)])\n",
    "        shots_total = len(database[(database.player == player)])\n",
    "        FT_dict[player] = shots_made/shots_total\n",
    "    return FT_dict\n",
    "\n"
   ]
  },
  {
   "cell_type": "code",
   "execution_count": 133,
   "metadata": {},
   "outputs": [],
   "source": [
    "def Overall_FT_Percentage_per_player(players, database):\n",
    "    FT_dict_2 = dict()\n",
    "    df = database.groupby(\"player\")[\"FT%\"].unique()\n",
    "    FT_dict_2 = df.to_dict()\n",
    "    return FT_dict_2"
   ]
  },
  {
   "cell_type": "code",
   "execution_count": 134,
   "metadata": {},
   "outputs": [],
   "source": [
    "players = database[\"player\"].unique()\n",
    "dataset_percentage_dict = Dataset_FT_Percentage_per_player(players,database)\n",
    "overall_percentage_dict = Overall_FT_Percentage_per_player(players, database)"
   ]
  },
  {
   "cell_type": "code",
   "execution_count": 138,
   "metadata": {},
   "outputs": [
    {
     "name": "stdout",
     "output_type": "stream",
     "text": [
      "0.0038520654685069325\n"
     ]
    }
   ],
   "source": [
    "MSE = 0\n",
    "for player in players:\n",
    "    MSE+= ((overall_percentage_dict[player][0]-dataset_percentage_dict[player])**2)\n",
    "MSE = MSE/len(players)\n",
    "print(MSE)\n"
   ]
  },
  {
   "cell_type": "code",
   "execution_count": null,
   "metadata": {},
   "outputs": [],
   "source": []
  },
  {
   "cell_type": "code",
   "execution_count": null,
   "metadata": {},
   "outputs": [],
   "source": []
  }
 ],
 "metadata": {
  "kernelspec": {
   "display_name": "Python 3",
   "language": "python",
   "name": "python3"
  },
  "language_info": {
   "codemirror_mode": {
    "name": "ipython",
    "version": 3
   },
   "file_extension": ".py",
   "mimetype": "text/x-python",
   "name": "python",
   "nbconvert_exporter": "python",
   "pygments_lexer": "ipython3",
   "version": "3.6.8"
  }
 },
 "nbformat": 4,
 "nbformat_minor": 2
}
